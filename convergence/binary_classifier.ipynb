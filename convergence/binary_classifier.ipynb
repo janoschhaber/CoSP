{
 "cells": [
  {
   "cell_type": "code",
   "execution_count": 1,
   "metadata": {
    "collapsed": true
   },
   "outputs": [],
   "source": [
    "# Based on Tensorflow example notebook:\n",
    "# https://github.com/aymericdamien/TensorFlow-Examples/blob/master/notebooks/3_NeuralNetworks/multilayer_perceptron.ipynb"
   ]
  },
  {
   "cell_type": "code",
   "execution_count": 2,
   "metadata": {
    "collapsed": true
   },
   "outputs": [],
   "source": [
    "import tensorflow as tf\n",
    "import numpy as np\n",
    "import pandas as pd\n",
    "import random\n",
    "from sklearn.datasets import make_classification\n",
    "from sklearn.model_selection import train_test_split\n",
    "\n",
    "RANDOM_SEED = 42"
   ]
  },
  {
   "cell_type": "code",
   "execution_count": 3,
   "metadata": {
    "collapsed": true
   },
   "outputs": [],
   "source": [
    "# # Generate tain and test data\n",
    "X, Y = make_classification(n_samples=50000, n_features=10, n_informative=8, \n",
    "                           n_redundant=0, n_clusters_per_class=2)\n",
    "Y = np.array([Y, -(Y-1)]).T  # The model currently needs one column for each class\n",
    "X, X_test, Y, Y_test = train_test_split(X, Y)"
   ]
  },
  {
   "cell_type": "code",
   "execution_count": 4,
   "metadata": {},
   "outputs": [
    {
     "data": {
      "text/plain": [
       "(37500, 10)"
      ]
     },
     "execution_count": 4,
     "metadata": {},
     "output_type": "execute_result"
    }
   ],
   "source": [
    "X.shape"
   ]
  },
  {
   "cell_type": "code",
   "execution_count": 5,
   "metadata": {},
   "outputs": [
    {
     "data": {
      "text/plain": [
       "(37500, 2)"
      ]
     },
     "execution_count": 5,
     "metadata": {},
     "output_type": "execute_result"
    }
   ],
   "source": [
    "Y.shape"
   ]
  },
  {
   "cell_type": "code",
   "execution_count": 6,
   "metadata": {
    "collapsed": true
   },
   "outputs": [],
   "source": [
    "data = pd.read_csv(\"dataset_4.csv\")\n",
    "\n",
    "X, X_test = train_test_split(data, test_size=0.2, random_state=RANDOM_SEED)\n",
    "\n",
    "Y = X['label']\n",
    "Y = np.array([Y, -(Y-1)]).T\n",
    "X = X.drop(['label'], axis=1)\n",
    "\n",
    "Y_test = X_test['label']\n",
    "Y_test = np.array([Y_test, -(Y_test-1)]).T\n",
    "X_test = X_test.drop(['label'], axis=1)\n",
    "\n",
    "X = X.values\n",
    "X_test = X_test.values"
   ]
  },
  {
   "cell_type": "code",
   "execution_count": 7,
   "metadata": {},
   "outputs": [
    {
     "data": {
      "text/plain": [
       "(93731, 27)"
      ]
     },
     "execution_count": 7,
     "metadata": {},
     "output_type": "execute_result"
    }
   ],
   "source": [
    "X.shape"
   ]
  },
  {
   "cell_type": "code",
   "execution_count": 8,
   "metadata": {},
   "outputs": [
    {
     "data": {
      "text/plain": [
       "(93731, 2)"
      ]
     },
     "execution_count": 8,
     "metadata": {},
     "output_type": "execute_result"
    }
   ],
   "source": [
    "Y.shape"
   ]
  },
  {
   "cell_type": "code",
   "execution_count": 9,
   "metadata": {
    "collapsed": true
   },
   "outputs": [],
   "source": [
    "# Parameters\n",
    "learning_rate = 0.001\n",
    "training_epochs = 100\n",
    "batch_size = 64\n",
    "display_step = 1\n",
    "\n",
    "\n",
    "# Network Parameters\n",
    "n_hidden_1 = 20 # 1st layer number of features\n",
    "n_hidden_2 = 20 # 2nd layer number of features\n",
    "n_input = X.shape[1] # Number of features\n",
    "n_classes = 2 # Number of classes to predict\n",
    "\n",
    "\n",
    "# tf Graph input\n",
    "x = tf.placeholder(\"float\", [None, n_input])\n",
    "y = tf.placeholder(\"float\", [None, n_classes])\n",
    "\n",
    "# Create model\n",
    "def multilayer_perceptron(x, weights, biases):\n",
    "    # Hidden layer with RELU activation\n",
    "    layer_1 = tf.add(tf.matmul(x, weights['h1']), biases['b1'])\n",
    "    layer_1 = tf.nn.relu(layer_1)\n",
    "    # Hidden layer with RELU activation\n",
    "    layer_2 = tf.add(tf.matmul(layer_1, weights['h2']), biases['b2'])\n",
    "    layer_2 = tf.nn.relu(layer_2)\n",
    "    # Output layer with linear activation\n",
    "    out_layer = tf.matmul(layer_2, weights['out']) + biases['out']\n",
    "    return out_layer\n",
    "\n",
    "# Store layers weight & bias\n",
    "weights = {\n",
    "    'h1': tf.Variable(tf.random_normal([n_input, n_hidden_1])),\n",
    "    'h2': tf.Variable(tf.random_normal([n_hidden_1, n_hidden_2])),\n",
    "    'out': tf.Variable(tf.random_normal([n_hidden_2, n_classes]))\n",
    "}\n",
    "\n",
    "biases = {\n",
    "    'b1': tf.Variable(tf.random_normal([n_hidden_1])),\n",
    "    'b2': tf.Variable(tf.random_normal([n_hidden_2])),\n",
    "    'out': tf.Variable(tf.random_normal([n_classes]))\n",
    "}\n",
    "\n",
    "# Construct model\n",
    "pred = multilayer_perceptron(x, weights, biases)\n",
    "\n",
    "# Define loss and optimizer\n",
    "cost = tf.reduce_mean(tf.nn.softmax_cross_entropy_with_logits(logits=pred, labels=y))\n",
    "optimizer = tf.train.AdamOptimizer(learning_rate=learning_rate).minimize(cost)\n",
    "\n",
    "# Initializing the variables\n",
    "init = tf.global_variables_initializer()"
   ]
  },
  {
   "cell_type": "code",
   "execution_count": 10,
   "metadata": {
    "scrolled": true
   },
   "outputs": [
    {
     "name": "stdout",
     "output_type": "stream",
     "text": [
      "('Epoch:', '0001', 'cost=', '39.783217147')\n",
      "('Epoch:', '0002', 'cost=', '5.754569512')\n",
      "('Epoch:', '0003', 'cost=', '3.799155140')\n",
      "('Epoch:', '0004', 'cost=', '2.617563731')\n",
      "('Epoch:', '0005', 'cost=', '2.082610326')\n",
      "('Epoch:', '0006', 'cost=', '1.582036485')\n",
      "('Epoch:', '0007', 'cost=', '1.198164364')\n",
      "('Epoch:', '0008', 'cost=', '1.053796878')\n",
      "('Epoch:', '0009', 'cost=', '0.876019726')\n",
      "('Epoch:', '0010', 'cost=', '0.779691407')\n",
      "('Epoch:', '0011', 'cost=', '0.805750388')\n",
      "('Epoch:', '0012', 'cost=', '0.659128565')\n",
      "('Epoch:', '0013', 'cost=', '0.624349342')\n",
      "('Epoch:', '0014', 'cost=', '0.681898330')\n",
      "('Epoch:', '0015', 'cost=', '0.540431968')\n",
      "('Epoch:', '0016', 'cost=', '0.521798794')\n",
      "('Epoch:', '0017', 'cost=', '0.607378880')\n",
      "('Epoch:', '0018', 'cost=', '0.556043598')\n",
      "('Epoch:', '0019', 'cost=', '0.513286958')\n",
      "('Epoch:', '0020', 'cost=', '0.541102445')\n",
      "('Epoch:', '0021', 'cost=', '0.464928531')\n",
      "('Epoch:', '0022', 'cost=', '0.503092400')\n",
      "('Epoch:', '0023', 'cost=', '0.452789272')\n",
      "('Epoch:', '0024', 'cost=', '0.427598065')\n",
      "('Epoch:', '0025', 'cost=', '0.456172980')\n",
      "('Epoch:', '0026', 'cost=', '0.447837197')\n",
      "('Epoch:', '0027', 'cost=', '0.432778320')\n",
      "('Epoch:', '0028', 'cost=', '0.466561437')\n",
      "('Epoch:', '0029', 'cost=', '0.417539586')\n",
      "('Epoch:', '0030', 'cost=', '0.400312630')\n",
      "('Epoch:', '0031', 'cost=', '0.424934707')\n",
      "('Epoch:', '0032', 'cost=', '0.446668527')\n",
      "('Epoch:', '0033', 'cost=', '0.402090448')\n",
      "('Epoch:', '0034', 'cost=', '0.400357114')\n",
      "('Epoch:', '0035', 'cost=', '0.449992097')\n",
      "('Epoch:', '0036', 'cost=', '0.388623836')\n",
      "('Epoch:', '0037', 'cost=', '0.402856988')\n",
      "('Epoch:', '0038', 'cost=', '0.387136220')\n",
      "('Epoch:', '0039', 'cost=', '0.381470876')\n",
      "('Epoch:', '0040', 'cost=', '0.416269437')\n",
      "('Epoch:', '0041', 'cost=', '0.567590666')\n",
      "('Epoch:', '0042', 'cost=', '0.572087306')\n",
      "('Epoch:', '0043', 'cost=', '0.424506836')\n",
      "('Epoch:', '0044', 'cost=', '0.357248664')\n",
      "('Epoch:', '0045', 'cost=', '0.345397927')\n",
      "('Epoch:', '0046', 'cost=', '0.418782759')\n",
      "('Epoch:', '0047', 'cost=', '0.388973383')\n",
      "('Epoch:', '0048', 'cost=', '0.382314204')\n",
      "('Epoch:', '0049', 'cost=', '0.408824254')\n",
      "('Epoch:', '0050', 'cost=', '0.372282241')\n",
      "('Epoch:', '0051', 'cost=', '0.343310013')\n",
      "('Epoch:', '0052', 'cost=', '0.402395708')\n",
      "('Epoch:', '0053', 'cost=', '0.363604544')\n",
      "('Epoch:', '0054', 'cost=', '0.335320533')\n",
      "('Epoch:', '0055', 'cost=', '0.325986001')\n",
      "('Epoch:', '0056', 'cost=', '0.342570056')\n",
      "('Epoch:', '0057', 'cost=', '0.346064728')\n",
      "('Epoch:', '0058', 'cost=', '0.318951880')\n",
      "('Epoch:', '0059', 'cost=', '0.328596653')\n",
      "('Epoch:', '0060', 'cost=', '0.339384414')\n",
      "('Epoch:', '0061', 'cost=', '0.308593046')\n",
      "('Epoch:', '0062', 'cost=', '0.311992721')\n",
      "('Epoch:', '0063', 'cost=', '0.305744794')\n",
      "('Epoch:', '0064', 'cost=', '0.331972880')\n",
      "('Epoch:', '0065', 'cost=', '0.313926025')\n",
      "('Epoch:', '0066', 'cost=', '0.295522767')\n",
      "('Epoch:', '0067', 'cost=', '0.301641035')\n",
      "('Epoch:', '0068', 'cost=', '0.292899200')\n",
      "('Epoch:', '0069', 'cost=', '0.299584330')\n",
      "('Epoch:', '0070', 'cost=', '0.304491367')\n",
      "('Epoch:', '0071', 'cost=', '0.291729309')\n",
      "('Epoch:', '0072', 'cost=', '0.310848613')\n",
      "('Epoch:', '0073', 'cost=', '0.285352236')\n",
      "('Epoch:', '0074', 'cost=', '0.307655648')\n",
      "('Epoch:', '0075', 'cost=', '0.296784489')\n",
      "('Epoch:', '0076', 'cost=', '0.304592385')\n",
      "('Epoch:', '0077', 'cost=', '0.298522733')\n",
      "('Epoch:', '0078', 'cost=', '0.276152613')\n",
      "('Epoch:', '0079', 'cost=', '0.256936580')\n",
      "('Epoch:', '0080', 'cost=', '0.296114167')\n",
      "('Epoch:', '0081', 'cost=', '0.289838334')\n",
      "('Epoch:', '0082', 'cost=', '0.292874444')\n",
      "('Epoch:', '0083', 'cost=', '0.278807479')\n",
      "('Epoch:', '0084', 'cost=', '0.269815721')\n",
      "('Epoch:', '0085', 'cost=', '0.280637181')\n",
      "('Epoch:', '0086', 'cost=', '0.269743715')\n",
      "('Epoch:', '0087', 'cost=', '0.273991660')\n",
      "('Epoch:', '0088', 'cost=', '0.275153403')\n",
      "('Epoch:', '0089', 'cost=', '0.246373286')\n",
      "('Epoch:', '0090', 'cost=', '0.234046412')\n",
      "('Epoch:', '0091', 'cost=', '0.232349804')\n",
      "('Epoch:', '0092', 'cost=', '0.233190856')\n",
      "('Epoch:', '0093', 'cost=', '0.235174434')\n",
      "('Epoch:', '0094', 'cost=', '0.228264966')\n",
      "('Epoch:', '0095', 'cost=', '0.229880135')\n",
      "('Epoch:', '0096', 'cost=', '0.227992612')\n",
      "('Epoch:', '0097', 'cost=', '0.227930503')\n",
      "('Epoch:', '0098', 'cost=', '0.226272828')\n",
      "('Epoch:', '0099', 'cost=', '0.226503090')\n",
      "('Epoch:', '0100', 'cost=', '0.226487042')\n",
      "Optimization Finished!\n",
      "('Accuracy:', 0.93632913)\n"
     ]
    }
   ],
   "source": [
    "# Launch the graph\n",
    "\n",
    "with tf.Session() as sess:\n",
    "    sess.run(init)\n",
    "    # Training cycle\n",
    "    for epoch in range(training_epochs):\n",
    "        avg_cost = 0.\n",
    "        total_batch = int(len(X)/batch_size)\n",
    "        X_batches = np.array_split(X, total_batch)\n",
    "        Y_batches = np.array_split(Y, total_batch)\n",
    "        # Loop over all batches\n",
    "        for i in range(total_batch):\n",
    "            batch_x, batch_y = X_batches[i], Y_batches[i]\n",
    "            # Run optimization op (backprop) and cost op (to get loss value)\n",
    "            _, c = sess.run([optimizer, cost], feed_dict={x: batch_x,\n",
    "                                                          y: batch_y})\n",
    "            # Compute average loss\n",
    "            avg_cost += c / total_batch\n",
    "        # Display logs per epoch step\n",
    "        if epoch % display_step == 0:\n",
    "            print(\"Epoch:\", '%04d' % (epoch+1), \"cost=\", \"{:.9f}\".format(avg_cost))\n",
    "    print(\"Optimization Finished!\")\n",
    "\n",
    "    # Test model\n",
    "    correct_prediction = tf.equal(tf.argmax(pred, 1), tf.argmax(y, 1))\n",
    "    # Calculate accuracy\n",
    "    accuracy = tf.reduce_mean(tf.cast(correct_prediction, \"float\"))\n",
    "    print(\"Accuracy:\", accuracy.eval({x: X_test, y: Y_test}))\n",
    "    global result \n",
    "    result = tf.argmax(pred, 1).eval({x: X_test, y: Y_test})"
   ]
  },
  {
   "cell_type": "code",
   "execution_count": null,
   "metadata": {
    "collapsed": true
   },
   "outputs": [],
   "source": []
  }
 ],
 "metadata": {
  "kernelspec": {
   "display_name": "tfenv2",
   "language": "python",
   "name": "tfenv2"
  },
  "language_info": {
   "codemirror_mode": {
    "name": "ipython",
    "version": 2
   },
   "file_extension": ".py",
   "mimetype": "text/x-python",
   "name": "python",
   "nbconvert_exporter": "python",
   "pygments_lexer": "ipython2",
   "version": "2.7.14"
  }
 },
 "nbformat": 4,
 "nbformat_minor": 1
}
