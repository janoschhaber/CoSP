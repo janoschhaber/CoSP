{
 "cells": [
  {
   "cell_type": "markdown",
   "metadata": {},
   "source": [
    "# CoSP Assignment 3: Style Coordination\n",
    "\n",
    "### Submission details:\n",
    "\n",
    "* **Deadline: Wednesday 22/11/2017 at 20:00** Please submit your work on time. Late submissions will not be graded.\n",
    "* You can do the assignment either individually, or in a group of 2 people.\n",
    "* Submit the .ipynb file containing your code **via email to nadine.theiler@uva.nl using \"[CoSP17] Assignment 3\" as a subject line**. Rename the .ipynb file so that the file name contains your last name(s), e.g. assignment3_ntheiler.ipynb. If you submit your answers as a group, clearly indicate this in the name of the file, and preferably also in the comment section.\n",
    "* For every question, it is indicated how many points you can maximally get for it. The total number of points for the assignment is 100. The assignment also contains a bonus question for which you can get 10 points.\n",
    "\n",
    "### Some technical remarks:\n",
    "* You should write your code and answers **in this Jupyter notebook**. The blocks for code and text are already created, just click on them and change the content.\n",
    "* Make sure we can run the notebook. If you can run your notebook from the folder *cosp2017_practical* you downloaded during the introductory practical session without modifications, then your setup should be ok and we should be able to run your notebook too. \n",
    "* If you want to run a particular cell in the notebook, make sure you also run the cells above it that it depends on.\n",
    "* Make sure to put \"%pylab inline\" somewhere in the beginning of your notebook, such that plots will appear inline."
   ]
  },
  {
   "cell_type": "code",
   "execution_count": 1,
   "metadata": {
    "collapsed": true
   },
   "outputs": [],
   "source": [
    "# imports\n",
    "%matplotlib inline\n",
    "from swda_time import CorpusReader\n",
    "from swda_time import Transcript\n",
    "import matplotlib.pyplot as plt\n",
    "import numpy as np\n",
    "import scipy\n",
    "from collections import defaultdict\n",
    "\n",
    "corpus = CorpusReader('swda_time', 'swda_time/swda-metadata-ext.csv')"
   ]
  },
  {
   "cell_type": "markdown",
   "metadata": {},
   "source": [
    "## Coordination\n",
    "\n",
    "In this assignment we will explore style coordination between two speakers in a conversation. We will use the linguistic coordination measure proposed by Danescu-Niculescu-Mizil et al. (2012), which is based on the common occurrence of linguistic markers (types of function words, such as quantifiers or prepositions). The authors define the coordination of speaker B towards speaker A with respect to some marker $m$ as the conditional probability that a turn by speaker B contains a certain linguistic marker $m$ given that speaker A used this marker in the previous turn, minus the overall probability that speaker B uses this marker in any turn:\n",
    "\n",
    "$C^m(B,A) = P(T^m_B|T^m_A) - P(T^m_B)$\n",
    "\n",
    "Where $P(T^m_B|T^m_A)$ denotes the probability that speaker B uses marker $m$ in a turn immediately following a turn in which speaker A used this marker. All probabilities are estimated using relative frequency estimation from the corpus counts. \n",
    "\n",
    "The linguistic style markers used by Danescu-Niculescu-Mizil et al. are 8 categories of words: articles, auxiliary verbs, conjunctions, high-frequency adverbs, impersonal pronouns, personal pronouns, prepositions, and quantifiers. An utterance or turn is said to exhibit a certain marker $m$ if it contains a word from a list of words associated with this marker. \n",
    "\n",
    "In this assignment you will use the lists of markers compiled by Noble & Fernández (2015), available in the file *markers.py* which you find in the folder *cosp2017_practical*.\n",
    "\n",
    "**References**\n",
    "\n",
    "C. Danescu-Niculescu-Mizil, L. Lee, B. Pang and J. Kleinberg (2012). Echoes of power: Language effects and power differences in social interaction, in Proceedings of WWW. [http://www.cs.cornell.edu/~cristian/Echoes_of_power.html]\n",
    "\n",
    "B. Noble and R. Fernández (2015). Center stage: How social network position shapes linguistic coordination, in Proceedings of CMCL. [http://www.aclweb.org/anthology/W15-1104.pdf]"
   ]
  },
  {
   "cell_type": "code",
   "execution_count": 2,
   "metadata": {
    "scrolled": true
   },
   "outputs": [
    {
     "name": "stdout",
     "output_type": "stream",
     "text": [
      "['of', 'in', 'to', 'for', 'with', 'on', 'by', 'at', 'from', 'as', 'into', 'about', 'like', 'after', 'between', 'through', 'over', 'against', 'under', 'out of', 'without', 'within', 'during', 'before', 'such as', 'towards', 'around', 'upon', 'including', 'among', 'across', 'off', 'behind', 'since', 'because of', 'as well as', 'rather than', 'until', 'according to', 'up to', 'despite', 'near', 'above', 'per', 'along', 'away from', 'throughout', 'outside', 'round', 'beyond', 'worth', 'in terms of', 'down', 'on to', 'up', 'due to', 'inside', 'as to', 'instead of', 'plus']\n"
     ]
    }
   ],
   "source": [
    "from markers import *\n",
    "print prepositions"
   ]
  },
  {
   "cell_type": "markdown",
   "metadata": {},
   "source": [
    "## Collecting frequency information\n",
    "\n",
    "To compute the amount of coordination within a conversation, we will have to do some frequency counting. We provide a (rather long) function that you can use to do all the counting in one iteration through a transcript (to prevent looping through the transcript multiple times). Given as input a list or set with marker words and a Transcript object, the function computes: \n",
    "\n",
    "* the number of turns per speaker, \n",
    "* the baseline occurence of markers in the turns of both speaker A and B, and \n",
    "* the number of times the occurence of the use of a marker in a turn of speaker A followed the use of a marker in a consecutive turn of speaker B. \n",
    "\n",
    "These three counts are stored in three dictionaries called `turns`, `markers` and `markers_conditional`, respectively, with the speakers as keys and the counts as values. Entry `markers_conditional(B)` contains the counts C(m in B|m in A), where B's turn was following the turn of A. Utterances tagged as backchannels and fragments are ignored when computing the turns."
   ]
  },
  {
   "cell_type": "code",
   "execution_count": 3,
   "metadata": {
    "collapsed": true
   },
   "outputs": [],
   "source": [
    "def get_frequency_info(marker_words, transcript):\n",
    "    \"\"\"\n",
    "    Compute frequency information for linguistic markers for\n",
    "    given transcript. Ignore backchannels and fragments\n",
    "    when counting turns\n",
    "    \n",
    "    :param marker_words:     a set with linguistic markers\n",
    "    :param transcript:  a transcript object\n",
    "    \n",
    "    :return:    tuple (n_turns, markers, markers_condititional)\n",
    "      turns:                dictionary with number of turns per speaker\n",
    "      markers:              dictionary with baseline occurrence of markers in turns of A and B\n",
    "      markers_conditional:  dictionary with number of markers given marker occurred in previous turn\n",
    "    \"\"\"\n",
    "    \n",
    "    # count dictionaries to return\n",
    "    turns = {'A':0, 'B':0}                   # number of turns\n",
    "    markers = {'A':0, 'B':0}                 # number of words in marker_word list\n",
    "    markers_conditional = {'A':0, 'B':0}     # entry A contains C(m in A|m in B) and vice versa\n",
    "    \n",
    "    # helper dicts\n",
    "    markers_prev = {'A':False, 'B':False}\n",
    "    cur_speaker = 'A'\n",
    "    cur_turn_index = 1\n",
    "    words_turn = []\n",
    "    other_speaker = {'A':'B', 'B':'A'}\n",
    "    \n",
    "    # make set of marker_words\n",
    "    marker_words = set(marker_words)\n",
    "\n",
    "    # loop over utterances\n",
    "    for utt in transcript.utterances:\n",
    "\n",
    "        if utt.caller == cur_speaker:\n",
    "            # turn did not change, update words\n",
    "            words_turn += utt.pos_words()\n",
    "        \n",
    "        else:\n",
    "            # speaker changed, check for backchannels and\n",
    "            # fragments, that are not considered turn changes\n",
    "            if utt.damsl_act_tag() in ['b', 'x']:\n",
    "                continue\n",
    "            \n",
    "            # turn changed, test if markers were in turn to update counts\n",
    "            if marker_words.intersection(set([word.lower() for word in words_turn])) != set([]):\n",
    "                markers_prev[cur_speaker] = True\n",
    "                markers[cur_speaker] += 1\n",
    "                if markers_prev[utt.caller] == True:                    \n",
    "                    markers_conditional[cur_speaker] += 1\n",
    "                \n",
    "            else:\n",
    "                markers_prev[cur_speaker] = False\n",
    "                    \n",
    "            # update counts and change speaker increase number of turns\n",
    "            turns[cur_speaker] +=1\n",
    "            words_turn = utt.pos_words()\n",
    "                   \n",
    "            cur_speaker = utt.caller\n",
    "            \n",
    "    # process last turn  \n",
    "    turns[cur_speaker]+=1\n",
    "    if marker_words.intersection(set([word.lower() for word in words_turn])) != set([]):\n",
    "        markers[cur_speaker] += 1\n",
    "        if markers_prev[other_speaker[cur_speaker]] == True:\n",
    "            markers_conditional[cur_speaker] += 1\n",
    "            \n",
    "    return(turns, markers, markers_conditional)"
   ]
  },
  {
   "cell_type": "markdown",
   "metadata": {},
   "source": [
    "## Computing style coordination\n",
    "\n",
    "We can use this function to compute style coordination, for instance:"
   ]
  },
  {
   "cell_type": "code",
   "execution_count": 4,
   "metadata": {
    "scrolled": false
   },
   "outputs": [
    {
     "name": "stdout",
     "output_type": "stream",
     "text": [
      "Coordination of A towards B w.r.t prepositions: -0.210317\n",
      "Coordination of B towards A w.r.t prepositions: -0.069565\n"
     ]
    }
   ],
   "source": [
    "# load transcript and get info\n",
    "trans = Transcript('swda_time/sw2005.csv', 'swda_time/swda-metadata-ext.csv')\n",
    "n_turns, n_markers, markers_conditional = get_frequency_info(prepositions, trans)\n",
    "\n",
    "# compute baselines\n",
    "baseline_A = float(n_markers['A'])/n_turns['A']\n",
    "baseline_B = float(n_markers['B'])/n_turns['B']\n",
    "\n",
    "# compute conditionals\n",
    "cond_A_B = float(markers_conditional['A'])/n_markers['B']\n",
    "cond_B_A = float(markers_conditional['B'])/n_markers['A']\n",
    "\n",
    "# compute coordination\n",
    "coordination_A = cond_A_B -baseline_A\n",
    "coordination_B = cond_B_A -baseline_B\n",
    "\n",
    "print \"Coordination of A towards B w.r.t prepositions: %f\\nCoordination of B towards A w.r.t prepositions: %f\" % (coordination_A, coordination_B)"
   ]
  },
  {
   "cell_type": "markdown",
   "metadata": {},
   "source": [
    "**Question 1 (5 points)**\n",
    "\n",
    "Write a function *compute_coordination(transcript, speaker, markers)* that takes as input a transcript, a speaker ('A' or 'B') and a list with markers (represented by lists) and that outputs a dictionary with the degree of coordination of the input speaker towards the other speaker with respect to specific markers. You can use the previous function in a loop, or adapt it such that it considers all the markers in one go. Also write a few lines of documentation for your function, describing what the inputs and outputs look like."
   ]
  },
  {
   "cell_type": "code",
   "execution_count": 5,
   "metadata": {
    "collapsed": true
   },
   "outputs": [],
   "source": [
    "# function computing coordination between different speakers\n",
    "# with respect to certain markers\n",
    "def compute_coordination(transcript, speaker, markers):\n",
    "    \"\"\"\n",
    "    Returns a list with the degree of coordination of the input speaker \n",
    "    towards the other speaker with respect to specific markers given a conversation transcript. \n",
    "    The list is sorted in the same order as the inout markers list.\n",
    "        \n",
    "    :param transcript: SWDA transcript object     \n",
    "    :param speakers: speaker A or B       \n",
    "    :param markers: list of markers to be analysed. Choice of [articles, auxiliary_verbs, conjunctions, \n",
    "                    adverbs, impersonal_pronouns, personal_pronouns, prepositions, quantifiers]\n",
    "    :return: a list with the alignments indexed by the position of the marker in the input list\n",
    "    \"\"\"\n",
    "    # householding \n",
    "    cur_speaker = 'A'\n",
    "    cur_turn_index = 1\n",
    "    words_turn = []\n",
    "    turns = 0\n",
    "    \n",
    "    # Collection dicts\n",
    "    speaker_markers = defaultdict(lambda : 0)   \n",
    "    markers_conditional = defaultdict(lambda : 0)  \n",
    "    \n",
    "    # Auxilliary dicts\n",
    "    other_markers = defaultdict(lambda : 0)\n",
    "    markers_prev = defaultdict(lambda : False)\n",
    "    \n",
    "    # Get list of marker sets\n",
    "    marker_sets = [set(marker_list) for marker_list in markers]\n",
    "   \n",
    "    # loop over utterances\n",
    "    for utt in transcript.utterances:\n",
    "        if utt.caller == cur_speaker:\n",
    "            # turn did not change, update words\n",
    "            words_turn += utt.pos_words()        \n",
    "        else:            \n",
    "            # speaker changed, check for backchannels and\n",
    "            # fragments, that are not considered turn changes\n",
    "            if utt.damsl_act_tag() in ['b', 'x']:\n",
    "                continue\n",
    "                \n",
    "            # Update current speaker \n",
    "            cur_speaker = utt.caller\n",
    "            \n",
    "            # If turn taking speaker is the relevant speaker, increase the turn counter \n",
    "            # and update other and prev turn markers (adding statistics for the other speaker's previous turn)\n",
    "            if cur_speaker == speaker:\n",
    "                # Increase number of turns\n",
    "                turns += 1\n",
    "                \n",
    "                for marker_id, marker_words in enumerate(marker_sets):            \n",
    "                    if marker_words.intersection(set([word.lower() for word in words_turn])) != set([]):\n",
    "                        markers_prev[marker_id] = True      \n",
    "                        other_markers[marker_id] += 1\n",
    "                    else:\n",
    "                        markers_prev[marker_id] = False \n",
    "            else:        \n",
    "                # else collect the adaption rate\n",
    "                for marker_id, marker_words in enumerate(marker_sets):            \n",
    "                    if marker_words.intersection(set([word.lower() for word in words_turn])) != set([]):\n",
    "                        speaker_markers[marker_id] += 1\n",
    "                        if markers_prev[marker_id] == True:                    \n",
    "                            markers_conditional[marker_id] += 1 \n",
    "                              \n",
    "            # Update words\n",
    "            words_turn = utt.pos_words()     \n",
    "           \n",
    "    # process last turn  \n",
    "    \n",
    "    # Update current speaker \n",
    "    cur_speaker = utt.caller\n",
    "    \n",
    "    # If turn taking speaker is the relevant speaker, increase the turn counter \n",
    "    # and update other and prev turn markers (adding statistics for the other speaker's previous turn)\n",
    "    if cur_speaker == speaker:\n",
    "        # Increase number of turns\n",
    "        turns += 1 \n",
    "        \n",
    "        for marker_id, marker_words in enumerate(marker_sets):            \n",
    "            if marker_words.intersection(set([word.lower() for word in words_turn])) != set([]): \n",
    "                other_markers[marker_id] += 1\n",
    "    else:          \n",
    "        # else collect the adaption rate\n",
    "        for marker_id, marker_words in enumerate(marker_sets):\n",
    "            if marker_words.intersection(set([word.lower() for word in words_turn])) != set([]):\n",
    "                speaker_markers[marker_id] += 1\n",
    "                if markers_prev[marker_id] == True:                    \n",
    "                    markers_conditional[marker_id] += 1 \n",
    "            \n",
    "    # compute alignment\n",
    "    alignment = []    \n",
    "    for marker_id in range(len(markers)):\n",
    "        baseline = speaker_markers[marker_id]/float(turns)\n",
    "        \n",
    "        # If alignment cannot be calculated, return None\n",
    "        try:\n",
    "            conditional = markers_conditional[marker_id]/float(other_markers[marker_id])\n",
    "            alignment.append(conditional - baseline)\n",
    "        except ZeroDivisionError:\n",
    "            alignment.append(None)       \n",
    "    \n",
    "    return alignment"
   ]
  },
  {
   "cell_type": "code",
   "execution_count": 6,
   "metadata": {},
   "outputs": [
    {
     "name": "stdout",
     "output_type": "stream",
     "text": [
      "Coordination of A towards the other speaker w.r.t prepositions: -0.210317460317\n"
     ]
    }
   ],
   "source": [
    "transcript = Transcript('swda_time/sw2005.csv', 'swda_time/swda-metadata-ext.csv')\n",
    "speaker = 'A'\n",
    "markers = [prepositions]\n",
    "\n",
    "alignment = compute_coordination(transcript, speaker, markers)\n",
    "print(\"Coordination of {} towards the other speaker w.r.t prepositions: {}\".format(speaker, alignment[0]))"
   ]
  },
  {
   "cell_type": "markdown",
   "metadata": {},
   "source": [
    "## Comparing different markers\n",
    "\n",
    "**Question 2 (25 points)**\n",
    "\n",
    "Compute the average coordination of all markers (separately) over all transcripts and report some statistics. What does the distribution of coordination look like? Are some markers usually more coordinated than others, when you consider their means? What about the variability in coordination (i.e., the variance of the distribution)? Take into account that it is possible that coordination on a certain marker cannot be evaluated for some conversations (for instance if speaker A does not use this marker at all)."
   ]
  },
  {
   "cell_type": "code",
   "execution_count": 78,
   "metadata": {},
   "outputs": [
    {
     "name": "stderr",
     "output_type": "stream",
     "text": [
      "transcript 645\n"
     ]
    }
   ],
   "source": [
    "markers = [articles, auxiliary_verbs, conjunctions, adverbs, impersonal_pronouns, personal_pronouns, prepositions, quantifiers]\n",
    "markers_names = ['articles', 'auxiliary_verbs', 'conjunctions', 'adverbs', 'impersonal_pronouns', 'personal_pronouns', 'prepositions', 'quantifiers']\n",
    "\n",
    "marker_coordination = defaultdict(lambda : list())\n",
    "marker_counter = defaultdict(lambda : 0)\n",
    "\n",
    "for transcript in corpus.iter_transcripts(display_progress=True):\n",
    "    for speaker in ['A', 'B']:\n",
    "        alignments = compute_coordination(transcript, speaker, markers)\n",
    "        for marker_id, alignment in enumerate(alignments):\n",
    "            if alignment:\n",
    "                marker_coordination[marker_id].append(alignment)"
   ]
  },
  {
   "cell_type": "code",
   "execution_count": 54,
   "metadata": {},
   "outputs": [
    {
     "data": {
      "text/plain": [
       "<matplotlib.legend.Legend at 0x7f5f01dca610>"
      ]
     },
     "execution_count": 54,
     "metadata": {},
     "output_type": "execute_result"
    },
    {
     "data": {
      "image/png": "[encoded data removed]",
      "text/plain": [
       "<matplotlib.figure.Figure at 0x7f5f01f9bd50>"
      ]
     },
     "metadata": {},
     "output_type": "display_data"
    },
    {
     "data": {
      "image/png": "[encoded data removed]",
      "text/plain": [
       "<matplotlib.figure.Figure at 0x7f5f01dbeb50>"
      ]
     },
     "metadata": {},
     "output_type": "display_data"
    }
   ],
   "source": [
    "plt.figure(figsize=(14,8))\n",
    "\n",
    "cdict = dict(zip(markers_names[:4], ['blue', 'red', 'green', 'orange']))\n",
    "\n",
    "for i, name in enumerate(markers_names[:4]):\n",
    "    mean = np.mean(marker_coordination[i])\n",
    "    plt.axvline(x=mean, ymin=0, ymax=1, label=str(name), color=cdict[name])\n",
    "    n, bins, patches = plt.hist(marker_coordination[i], 100, histtype='step', normed=True, color=cdict[name])\n",
    "plt.axis([-0.75, 0.75, 0, 6])\n",
    "plt.title(\"Coordination per marker class\")\n",
    "plt.xlabel(\"Degree of coordination (-1 to 1)\")\n",
    "plt.ylabel(\"Relative Frequency\")\n",
    "plt.legend(title=\"Marker class\")\n",
    "\n",
    "plt.figure(figsize=(14,8))\n",
    "\n",
    "cdict = dict(zip(markers_names[4:], ['blue', 'red', 'green', 'orange']))\n",
    "\n",
    "for i, name in enumerate(markers_names[4:]):\n",
    "    mean = np.mean(marker_coordination[i+4])\n",
    "    plt.axvline(x=mean, ymin=0, ymax=1, label=str(name), color=cdict[name])\n",
    "    n, bins, patches = plt.hist(marker_coordination[i+4], 100, histtype='step', normed=True, color=cdict[name])\n",
    "plt.axis([-0.75, 0.75, 0, 6.5])\n",
    "plt.title(\"Coordination per marker class\")\n",
    "plt.xlabel(\"Degree of coordination (-1 to 1)\")\n",
    "plt.ylabel(\"Relative Frequency\")\n",
    "plt.legend(title=\"Marker class\")"
   ]
  },
  {
   "cell_type": "code",
   "execution_count": 79,
   "metadata": {},
   "outputs": [
    {
     "name": "stdout",
     "output_type": "stream",
     "text": [
      "Average coordination of marker class articles: -0.0242769576882 \n",
      "\tvariance: 0.0193116232487 \tsample size:1247\n",
      "\n",
      "Average coordination of marker class auxiliary_verbs: -0.0174125743433 \n",
      "\tvariance: 0.0126375668144 \tsample size:1238\n",
      "\n",
      "Average coordination of marker class conjunctions: -0.0415833325248 \n",
      "\tvariance: 0.014342318462 \tsample size:1239\n",
      "\n",
      "Average coordination of marker class adverbs: -0.0185088345878 \n",
      "\tvariance: 0.00864355260826 \tsample size:1241\n",
      "\n",
      "Average coordination of marker class impersonal_pronouns: 0.0290462761864 \n",
      "\tvariance: 0.0116619565131 \tsample size:1241\n",
      "\n",
      "Average coordination of marker class personal_pronouns: -0.0207462359914 \n",
      "\tvariance: 0.00847690809143 \tsample size:1239\n",
      "\n",
      "Average coordination of marker class prepositions: -0.0389351564046 \n",
      "\tvariance: 0.0116000524234 \tsample size:1241\n",
      "\n",
      "Average coordination of marker class quantifiers: -0.00492450384662 \n",
      "\tvariance: 0.0281756985044 \tsample size:1243\n",
      "\n"
     ]
    }
   ],
   "source": [
    "# Compute the significance of the outcome\n",
    "data = []\n",
    "for i in range(len(markers)):\n",
    "    data.append(marker_coordination[i])\n",
    "    print(\"Average coordination of marker class {}: {} \\n\\tvariance: {} \\tsample size:{}\\n\".format(markers_names[i], np.mean(data[i]), np.var(data[i]), len(data[i])))"
   ]
  },
  {
   "cell_type": "code",
   "execution_count": 87,
   "metadata": {},
   "outputs": [
    {
     "data": {
      "text/html": [
       "<div>\n",
       "<style>\n",
       "    .dataframe thead tr:only-child th {\n",
       "        text-align: right;\n",
       "    }\n",
       "\n",
       "    .dataframe thead th {\n",
       "        text-align: left;\n",
       "    }\n",
       "\n",
       "    .dataframe tbody tr th {\n",
       "        vertical-align: top;\n",
       "    }\n",
       "</style>\n",
       "<table border=\"1\" class=\"dataframe\">\n",
       "  <thead>\n",
       "    <tr style=\"text-align: right;\">\n",
       "      <th></th>\n",
       "      <th>articles</th>\n",
       "      <th>auxiliary_verbs</th>\n",
       "      <th>conjunctions</th>\n",
       "      <th>adverbs</th>\n",
       "      <th>impersonal_pronouns</th>\n",
       "      <th>personal_pronouns</th>\n",
       "      <th>prepositions</th>\n",
       "      <th>quantifiers</th>\n",
       "    </tr>\n",
       "  </thead>\n",
       "  <tbody>\n",
       "    <tr>\n",
       "      <th>articles</th>\n",
       "      <td>0.000000e+00</td>\n",
       "      <td>1.759761e-01</td>\n",
       "      <td>8.958636e-04</td>\n",
       "      <td>2.237924e-01</td>\n",
       "      <td>4.687250e-26</td>\n",
       "      <td>4.552054e-01</td>\n",
       "      <td>3.311540e-03</td>\n",
       "      <td>1.758404e-03</td>\n",
       "    </tr>\n",
       "    <tr>\n",
       "      <th>auxiliary_verbs</th>\n",
       "      <td>1.759761e-01</td>\n",
       "      <td>0.000000e+00</td>\n",
       "      <td>2.441467e-07</td>\n",
       "      <td>7.914695e-01</td>\n",
       "      <td>3.277781e-25</td>\n",
       "      <td>4.197330e-01</td>\n",
       "      <td>1.216338e-06</td>\n",
       "      <td>2.957847e-02</td>\n",
       "    </tr>\n",
       "    <tr>\n",
       "      <th>conjunctions</th>\n",
       "      <td>8.958636e-04</td>\n",
       "      <td>2.441467e-07</td>\n",
       "      <td>0.000000e+00</td>\n",
       "      <td>9.308909e-08</td>\n",
       "      <td>2.987072e-51</td>\n",
       "      <td>1.294142e-06</td>\n",
       "      <td>5.628398e-01</td>\n",
       "      <td>4.538461e-10</td>\n",
       "    </tr>\n",
       "    <tr>\n",
       "      <th>adverbs</th>\n",
       "      <td>2.237924e-01</td>\n",
       "      <td>7.914695e-01</td>\n",
       "      <td>9.308909e-08</td>\n",
       "      <td>0.000000e+00</td>\n",
       "      <td>4.725811e-31</td>\n",
       "      <td>5.472966e-01</td>\n",
       "      <td>4.614804e-07</td>\n",
       "      <td>1.269698e-02</td>\n",
       "    </tr>\n",
       "    <tr>\n",
       "      <th>impersonal_pronouns</th>\n",
       "      <td>4.687250e-26</td>\n",
       "      <td>3.277781e-25</td>\n",
       "      <td>2.987072e-51</td>\n",
       "      <td>4.725811e-31</td>\n",
       "      <td>0.000000e+00</td>\n",
       "      <td>4.977563e-34</td>\n",
       "      <td>5.291313e-53</td>\n",
       "      <td>2.360003e-09</td>\n",
       "    </tr>\n",
       "    <tr>\n",
       "      <th>personal_pronouns</th>\n",
       "      <td>4.552054e-01</td>\n",
       "      <td>4.197330e-01</td>\n",
       "      <td>1.294142e-06</td>\n",
       "      <td>5.472966e-01</td>\n",
       "      <td>4.977563e-34</td>\n",
       "      <td>0.000000e+00</td>\n",
       "      <td>6.518817e-06</td>\n",
       "      <td>3.639570e-03</td>\n",
       "    </tr>\n",
       "    <tr>\n",
       "      <th>prepositions</th>\n",
       "      <td>3.311540e-03</td>\n",
       "      <td>1.216338e-06</td>\n",
       "      <td>5.628398e-01</td>\n",
       "      <td>4.614804e-07</td>\n",
       "      <td>5.291313e-53</td>\n",
       "      <td>6.518817e-06</td>\n",
       "      <td>0.000000e+00</td>\n",
       "      <td>2.198877e-09</td>\n",
       "    </tr>\n",
       "    <tr>\n",
       "      <th>quantifiers</th>\n",
       "      <td>1.758404e-03</td>\n",
       "      <td>2.957847e-02</td>\n",
       "      <td>4.538461e-10</td>\n",
       "      <td>1.269698e-02</td>\n",
       "      <td>2.360003e-09</td>\n",
       "      <td>3.639570e-03</td>\n",
       "      <td>2.198877e-09</td>\n",
       "      <td>0.000000e+00</td>\n",
       "    </tr>\n",
       "  </tbody>\n",
       "</table>\n",
       "</div>"
      ],
      "text/plain": [
       "                         articles  auxiliary_verbs  conjunctions  \\\n",
       "articles             0.000000e+00     1.759761e-01  8.958636e-04   \n",
       "auxiliary_verbs      1.759761e-01     0.000000e+00  2.441467e-07   \n",
       "conjunctions         8.958636e-04     2.441467e-07  0.000000e+00   \n",
       "adverbs              2.237924e-01     7.914695e-01  9.308909e-08   \n",
       "impersonal_pronouns  4.687250e-26     3.277781e-25  2.987072e-51   \n",
       "personal_pronouns    4.552054e-01     4.197330e-01  1.294142e-06   \n",
       "prepositions         3.311540e-03     1.216338e-06  5.628398e-01   \n",
       "quantifiers          1.758404e-03     2.957847e-02  4.538461e-10   \n",
       "\n",
       "                          adverbs  impersonal_pronouns  personal_pronouns  \\\n",
       "articles             2.237924e-01         4.687250e-26       4.552054e-01   \n",
       "auxiliary_verbs      7.914695e-01         3.277781e-25       4.197330e-01   \n",
       "conjunctions         9.308909e-08         2.987072e-51       1.294142e-06   \n",
       "adverbs              0.000000e+00         4.725811e-31       5.472966e-01   \n",
       "impersonal_pronouns  4.725811e-31         0.000000e+00       4.977563e-34   \n",
       "personal_pronouns    5.472966e-01         4.977563e-34       0.000000e+00   \n",
       "prepositions         4.614804e-07         5.291313e-53       6.518817e-06   \n",
       "quantifiers          1.269698e-02         2.360003e-09       3.639570e-03   \n",
       "\n",
       "                     prepositions   quantifiers  \n",
       "articles             3.311540e-03  1.758404e-03  \n",
       "auxiliary_verbs      1.216338e-06  2.957847e-02  \n",
       "conjunctions         5.628398e-01  4.538461e-10  \n",
       "adverbs              4.614804e-07  1.269698e-02  \n",
       "impersonal_pronouns  5.291313e-53  2.360003e-09  \n",
       "personal_pronouns    6.518817e-06  3.639570e-03  \n",
       "prepositions         0.000000e+00  2.198877e-09  \n",
       "quantifiers          2.198877e-09  0.000000e+00  "
      ]
     },
     "execution_count": 87,
     "metadata": {},
     "output_type": "execute_result"
    }
   ],
   "source": [
    "# Print results for t-test\n",
    "t_test_results = np.zeros([len(markers), len(markers)])\n",
    "\n",
    "for i in range(len(data)-1):\n",
    "    for j in range(i+1, len(data)):\n",
    "        results = scipy.stats.ttest_ind(data[i], data[j], equal_var=False)\n",
    "        t_test_results[i][j] = results[1]\n",
    "        t_test_results[j][i] = results[1]\n",
    "\n",
    "import pandas as pd\n",
    "pd.DataFrame(t_test_results, columns=markers_names, index=markers_names)"
   ]
  },
  {
   "cell_type": "markdown",
   "metadata": {},
   "source": [
    "**Answer:**"
   ]
  },
  {
   "cell_type": "markdown",
   "metadata": {},
   "source": [
    "**Question 3 (20 points)**\n",
    "\n",
    "Choose three speakers that participated in at least 10 telephone conversations and compute their coordination on 3 different markers (consider markers for which there is sufficient information) for all conversations they participated in."
   ]
  },
  {
   "cell_type": "code",
   "execution_count": 89,
   "metadata": {},
   "outputs": [
    {
     "name": "stderr",
     "output_type": "stream",
     "text": [
      "transcript 645\n"
     ]
    }
   ],
   "source": [
    "callers = defaultdict(lambda: list())\n",
    "\n",
    "for transcript in corpus.iter_transcripts():\n",
    "    callers[transcript.from_caller_id].append(transcript.swda_filename)\n",
    "    callers[transcript.to_caller_id].append(transcript.swda_filename)\n",
    "    "
   ]
  },
  {
   "cell_type": "code",
   "execution_count": 90,
   "metadata": {},
   "outputs": [
    {
     "name": "stdout",
     "output_type": "stream",
     "text": [
      "Caller 1533 recorded 12 conversations\n",
      "Caller 1533 coordination w.r.t. other speakers in marker class conjunctions: -0.00701394306951 \n",
      "\tvariance: 0.00698947004227 \tsample size:11\n",
      "\n",
      "Caller 1533 coordination w.r.t. other speakers in marker class impersonal_pronouns: 0.0356275097774 \n",
      "\tvariance: 0.00952752902715 \tsample size:11\n",
      "\n",
      "Caller 1533 coordination w.r.t. other speakers in marker class prepositions: -0.0158419592922 \n",
      "\tvariance: 0.00541198026266 \tsample size:12\n",
      "\n",
      "Caller 1531 recorded 12 conversations\n",
      "Caller 1531 coordination w.r.t. other speakers in marker class conjunctions: 0.0455096671006 \n",
      "\tvariance: 0.0180027321146 \tsample size:11\n",
      "\n",
      "Caller 1531 coordination w.r.t. other speakers in marker class impersonal_pronouns: 0.00193507472919 \n",
      "\tvariance: 0.00765762078195 \tsample size:12\n",
      "\n",
      "Caller 1531 coordination w.r.t. other speakers in marker class prepositions: -0.0131062119698 \n",
      "\tvariance: 0.0126041291637 \tsample size:11\n",
      "\n",
      "Caller 1190 recorded 11 conversations\n",
      "Caller 1190 coordination w.r.t. other speakers in marker class conjunctions: -0.126348928071 \n",
      "\tvariance: 0.0130606614555 \tsample size:10\n",
      "\n",
      "Caller 1190 coordination w.r.t. other speakers in marker class impersonal_pronouns: -0.0205128599519 \n",
      "\tvariance: 0.015928011015 \tsample size:10\n",
      "\n",
      "Caller 1190 coordination w.r.t. other speakers in marker class prepositions: -0.0511524611021 \n",
      "\tvariance: 0.00739863516074 \tsample size:11\n",
      "\n"
     ]
    }
   ],
   "source": [
    "markers = [conjunctions, impersonal_pronouns, prepositions]\n",
    "markers_names = ['conjunctions', 'impersonal_pronouns', 'prepositions']\n",
    "\n",
    "callers_sorted = sorted(calers, key=lambda k: len(callers[k]), reverse=True)\n",
    "\n",
    "data = defaultdict(lambda: list())\n",
    "\n",
    "for i in range(3):\n",
    "    caller_id = callers_sorted[i]\n",
    "    transcripts = callers[caller_id]\n",
    "    print(\"Caller {} recorded {} conversations\".format(caller_id, len(transcripts)))\n",
    "    \n",
    "    marker_coordination = defaultdict(lambda : list())\n",
    "    marker_counter = defaultdict(lambda : 0)\n",
    "    \n",
    "    for transcript_file in transcripts:\n",
    "        transcript = Transcript(transcript_file, 'swda_time/swda-metadata-ext.csv')\n",
    "        if transcript.from_caller_id == caller_id:\n",
    "            speaker = 'A'\n",
    "        else: \n",
    "            speaker = 'B'\n",
    "    \n",
    "        alignments = compute_coordination(transcript, speaker, markers)\n",
    "        for marker_id, alignment in enumerate(alignments):\n",
    "            if alignment:\n",
    "                marker_coordination[marker_id].append(alignment)\n",
    "                \n",
    "    for i in range(len(markers)):\n",
    "        data[caller_id].append(marker_coordination[i])\n",
    "        print(\"Caller {} coordination w.r.t. other speakers in marker class {}: {} \\n\\tvariance: {} \\tsample size:{}\\n\".format(caller_id, markers_names[i], np.mean(data[caller_id][i]), np.var(data[caller_id][i]), len(data[caller_id][i])))"
   ]
  },
  {
   "cell_type": "code",
   "execution_count": 91,
   "metadata": {
    "scrolled": false
   },
   "outputs": [
    {
     "data": {
      "image/png": "[encoded data removed]",
      "text/plain": [
       "<matplotlib.figure.Figure at 0x7f5f00f8ff10>"
      ]
     },
     "metadata": {},
     "output_type": "display_data"
    },
    {
     "data": {
      "image/png": "[encoded data removed]",
      "text/plain": [
       "<matplotlib.figure.Figure at 0x7f5f01e01e90>"
      ]
     },
     "metadata": {},
     "output_type": "display_data"
    },
    {
     "data": {
      "image/png": "[encoded data removed]",
      "text/plain": [
       "<matplotlib.figure.Figure at 0x7f5f01404710>"
      ]
     },
     "metadata": {},
     "output_type": "display_data"
    }
   ],
   "source": [
    "for i in range(3):\n",
    "    caller_id = callers_sorted[i]\n",
    "    caller_data = data[caller_id]\n",
    "    plt.figure(figsize=(14,1.4))\n",
    "    \n",
    "    cdict = dict(zip(markers_names, ['blue', 'red', 'green']))\n",
    "    \n",
    "    for i, name in enumerate(markers_names):\n",
    "        mean = np.mean(caller_data[i])\n",
    "        plt.axvline(x=mean, ymin=0, ymax=1, label=str(name), color=cdict[name])\n",
    "#         n, bins, patches = plt.hist(caller_data[i], 100, histtype='step', normed=True, color=cdict[name])\n",
    "    plt.axis([-0.2, 0.2, 0, 6.5])\n",
    "    plt.title(\"Coordination per marker class for caller {}\".format(caller_id))\n",
    "    plt.xlabel(\"Degree of coordination (-1 to 1)\")\n",
    "    plt.ylabel(\"Relative Frequency\")\n",
    "    plt.legend(title=\"Marker class\")"
   ]
  },
  {
   "cell_type": "code",
   "execution_count": 104,
   "metadata": {},
   "outputs": [
    {
     "name": "stdout",
     "output_type": "stream",
     "text": [
      "\n",
      "Statistics for caller 1190\n",
      "conjunctions vs. impersonal_pronouns: T: -1.86483661692\t p-value :7.8755e-02\n",
      "conjunctions vs. prepositions: T: -1.60646577709\t p-value :1.2699e-01\n",
      "impersonal_pronouns vs. prepositions: T: 0.61161365904\t p-value :5.4958e-01\n",
      "\n",
      "Statistics for caller 1533\n",
      "conjunctions vs. impersonal_pronouns: T: -1.04921966331\t p-value :3.0688e-01\n",
      "conjunctions vs. prepositions: T: 0.255809831463\t p-value :8.0071e-01\n",
      "impersonal_pronouns vs. prepositions: T: 1.35410758308\t p-value :1.9201e-01\n",
      "\n",
      "Statistics for caller 1531\n",
      "conjunctions vs. impersonal_pronouns: T: 0.872116409563\t p-value :3.9535e-01\n",
      "conjunctions vs. prepositions: T: 1.05951201242\t p-value :3.0238e-01\n",
      "impersonal_pronouns vs. prepositions: T: 0.340046551719\t p-value :7.3758e-01\n",
      "\n",
      "Statistics for caller 1190 vs. caller 1533\n",
      "conjunctions: T: -2.57356570647\t p-value :2.0162e-02\n",
      "impersonal_pronouns: T: -1.07594179886\t p-value :2.9708e-01\n",
      "prepositions: T: -1.00605774629\t p-value :3.2654e-01\n",
      "\n",
      "Statistics for caller 1190 vs. caller 1531\n",
      "conjunctions: T: -3.0139232958\t p-value :7.1552e-03\n",
      "impersonal_pronouns: T: -0.452049860647\t p-value :6.5749e-01\n",
      "prepositions: T: -0.850681206548\t p-value :4.0569e-01\n",
      "\n",
      "Statistics for caller 1533 vs. caller 1531\n",
      "conjunctions: T: -1.05063607009\t p-value :3.0835e-01\n",
      "impersonal_pronouns: T: 0.829726972725\t p-value :4.1641e-01\n",
      "prepositions: T: -0.0653518644714\t p-value :9.4866e-01\n"
     ]
    }
   ],
   "source": [
    "# Print results for t-test\n",
    "for caller_id in data.keys():\n",
    "    caller_data = data[caller_id]    \n",
    "    print(\"\\nStatistics for caller {}\".format(caller_id))\n",
    "    for i in range(len(caller_data)-1):\n",
    "        for j in range(i+1, len(caller_data)):    \n",
    "            results = scipy.stats.ttest_ind(caller_data[i], caller_data[j], equal_var=False)\n",
    "            print('{} vs. {}: T: {}\\t p-value :{p:1.4e}'.format(markers_names[i], markers_names[j], results[0], p=results[1]))\n",
    "        \n",
    "\n",
    "# Print results for t-test\n",
    "caller_ids = data.keys()\n",
    "\n",
    "for c, caller_id in enumerate(caller_ids):\n",
    "    caller_data = data[caller_id]    \n",
    "    for other_id in caller_ids[c+1:]:  \n",
    "        print(\"\\nStatistics for caller {} vs. caller {}\".format(caller_id, other_id))\n",
    "        for i in range(len(caller_data)):            \n",
    "            other_data = data[other_id] \n",
    "            results = scipy.stats.ttest_ind(caller_data[i], other_data[i], equal_var=False)\n",
    "            print('{}: T: {}\\t p-value :{p:1.4e}'.format(markers_names[i], results[0], p=results[1]))"
   ]
  },
  {
   "cell_type": "markdown",
   "metadata": {},
   "source": [
    "**Answer:**"
   ]
  },
  {
   "cell_type": "markdown",
   "metadata": {},
   "source": [
    "## How to compute overall coordination\n",
    "\n",
    "It is not straightforward to devise a formula for the overall level of coordination (i.e., with respect to all linguistic markers at the same time). Just taking an average over all different values is not appropriate, as we may not have enough data to compute reliable estimates for all markers, or certain speakers might not use some markers at all. To not exclude too many speakers, we will take the average of $C_m(B,A)$ for all $m$ for which at least one of B's utterances exhibits marker $m$ (this corresponds to aggregated 3 in Danescu-Niculescu-Mizil et al., 2012)."
   ]
  },
  {
   "cell_type": "markdown",
   "metadata": {},
   "source": [
    "## (A)symmetry of coordination\n",
    "\n",
    "**Question 4 (25 points)**\n",
    "\n",
    "In this question you will investigate the (a)symmetry of coordination. For each conversation, compare the overall coordination of speaker A towards speaker B with the coordination of B towards A by computing the difference $D$ between these two coordination levels. How is the difference $D$ distributed? Based on this distribution, does the level of coordination seem somewhat symmetric?\n",
    "\n",
    "Answer:\n",
    "*Your findings*"
   ]
  },
  {
   "cell_type": "code",
   "execution_count": 12,
   "metadata": {
    "collapsed": true
   },
   "outputs": [],
   "source": [
    "# Code supporting your answer"
   ]
  },
  {
   "cell_type": "markdown",
   "metadata": {},
   "source": [
    "## Influence of demographic variables on coordination\n",
    "\n",
    "** Question 5 (25 points)** \n",
    "\n",
    "Pick a demographic variable (e.g. age, gender, education) and test if there is a significant difference in coordination. Plot the coordination values and provide a statistical analysis of your result.\n",
    "\n",
    "Answer:\n",
    "*Explanation of findings*"
   ]
  },
  {
   "cell_type": "markdown",
   "metadata": {},
   "source": [
    "*Provide analysis of results*"
   ]
  },
  {
   "cell_type": "code",
   "execution_count": 13,
   "metadata": {
    "collapsed": true
   },
   "outputs": [],
   "source": [
    "# Plot results"
   ]
  },
  {
   "cell_type": "code",
   "execution_count": 14,
   "metadata": {
    "collapsed": true
   },
   "outputs": [],
   "source": [
    "# statistical tests supporting your results"
   ]
  },
  {
   "cell_type": "markdown",
   "metadata": {},
   "source": [
    "** Bonus question (10 points)**\n",
    "\n",
    "Your own question."
   ]
  }
 ],
 "metadata": {
  "kernelspec": {
   "display_name": "tfenv2",
   "language": "python",
   "name": "tfenv2"
  },
  "language_info": {
   "codemirror_mode": {
    "name": "ipython",
    "version": 2
   },
   "file_extension": ".py",
   "mimetype": "text/x-python",
   "name": "python",
   "nbconvert_exporter": "python",
   "pygments_lexer": "ipython2",
   "version": "2.7.14"
  }
 },
 "nbformat": 4,
 "nbformat_minor": 1
}
