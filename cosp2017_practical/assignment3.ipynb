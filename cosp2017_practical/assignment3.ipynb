{
 "cells": [
  {
   "cell_type": "markdown",
   "metadata": {},
   "source": [
    "# CoSP Assignment 3: Style Coordination\n",
    "\n",
    "### Submission details:\n",
    "\n",
    "* **Deadline: Wednesday 22/11/2017 at 20:00** Please submit your work on time. Late submissions will not be graded.\n",
    "* You can do the assignment either individually, or in a group of 2 people.\n",
    "* Submit the .ipynb file containing your code **via email to nadine.theiler@uva.nl using \"[CoSP17] Assignment 3\" as a subject line**. Rename the .ipynb file so that the file name contains your last name(s), e.g. assignment3_ntheiler.ipynb. If you submit your answers as a group, clearly indicate this in the name of the file, and preferably also in the comment section.\n",
    "* For every question, it is indicated how many points you can maximally get for it. The total number of points for the assignment is 100. The assignment also contains a bonus question for which you can get 10 points.\n",
    "\n",
    "### Some technical remarks:\n",
    "* You should write your code and answers **in this Jupyter notebook**. The blocks for code and text are already created, just click on them and change the content.\n",
    "* Make sure we can run the notebook. If you can run your notebook from the folder *cosp2017_practical* you downloaded during the introductory practical session without modifications, then your setup should be ok and we should be able to run your notebook too. \n",
    "* If you want to run a particular cell in the notebook, make sure you also run the cells above it that it depends on.\n",
    "* Make sure to put \"%pylab inline\" somewhere in the beginning of your notebook, such that plots will appear inline."
   ]
  },
  {
   "cell_type": "code",
   "execution_count": 1,
   "metadata": {
    "collapsed": true
   },
   "outputs": [],
   "source": [
    "# imports\n",
    "%matplotlib inline\n",
    "from swda_time import CorpusReader\n",
    "from swda_time import Transcript\n",
    "import matplotlib.pyplot as plt\n",
    "import numpy as np"
   ]
  },
  {
   "cell_type": "markdown",
   "metadata": {},
   "source": [
    "## Coordination\n",
    "\n",
    "In this assignment we will explore style coordination between two speakers in a conversation. We will use the linguistic coordination measure proposed by Danescu-Niculescu-Mizil et al. (2012), which is based on the common occurrence of linguistic markers (types of function words, such as quantifiers or prepositions). The authors define the coordination of speaker B towards speaker A with respect to some marker $m$ as the conditional probability that a turn by speaker B contains a certain linguistic marker $m$ given that speaker A used this marker in the previous turn, minus the overall probability that speaker B uses this marker in any turn:\n",
    "\n",
    "$C^m(B,A) = P(T^m_B|T^m_A) - P(T^m_B)$\n",
    "\n",
    "Where $P(T^m_B|T^m_A)$ denotes the probability that speaker B uses marker $m$ in a turn immediately following a turn in which speaker A used this marker. All probabilities are estimated using relative frequency estimation from the corpus counts. \n",
    "\n",
    "The linguistic style markers used by Danescu-Niculescu-Mizil et al. are 8 categories of words: articles, auxiliary verbs, conjunctions, high-frequency adverbs, impersonal pronouns, personal pronouns, prepositions, and quantifiers. An utterance or turn is said to exhibit a certain marker $m$ if it contains a word from a list of words associated with this marker. \n",
    "\n",
    "In this assignment you will use the lists of markers compiled by Noble & Fernández (2015), available in the file *markers.py* which you find in the folder *cosp2017_practical*.\n",
    "\n",
    "**References**\n",
    "\n",
    "C. Danescu-Niculescu-Mizil, L. Lee, B. Pang and J. Kleinberg (2012). Echoes of power: Language effects and power differences in social interaction, in Proceedings of WWW. [http://www.cs.cornell.edu/~cristian/Echoes_of_power.html]\n",
    "\n",
    "B. Noble and R. Fernández (2015). Center stage: How social network position shapes linguistic coordination, in Proceedings of CMCL. [http://www.aclweb.org/anthology/W15-1104.pdf]"
   ]
  },
  {
   "cell_type": "code",
   "execution_count": 2,
   "metadata": {
    "collapsed": false,
    "scrolled": true
   },
   "outputs": [
    {
     "name": "stdout",
     "output_type": "stream",
     "text": [
      "['of', 'in', 'to', 'for', 'with', 'on', 'by', 'at', 'from', 'as', 'into', 'about', 'like', 'after', 'between', 'through', 'over', 'against', 'under', 'out of', 'without', 'within', 'during', 'before', 'such as', 'towards', 'around', 'upon', 'including', 'among', 'across', 'off', 'behind', 'since', 'because of', 'as well as', 'rather than', 'until', 'according to', 'up to', 'despite', 'near', 'above', 'per', 'along', 'away from', 'throughout', 'outside', 'round', 'beyond', 'worth', 'in terms of', 'down', 'on to', 'up', 'due to', 'inside', 'as to', 'instead of', 'plus']\n"
     ]
    }
   ],
   "source": [
    "from markers import *\n",
    "print prepositions"
   ]
  },
  {
   "cell_type": "markdown",
   "metadata": {},
   "source": [
    "## Collecting frequency information\n",
    "\n",
    "To compute the amount of coordination within a conversation, we will have to do some frequency counting. We provide a (rather long) function that you can use to do all the counting in one iteration through a transcript (to prevent looping through the transcript multiple times). Given as input a list or set with marker words and a Transcript object, the function computes: \n",
    "\n",
    "* the number of turns per speaker, \n",
    "* the baseline occurence of markers in the turns of both speaker A and B, and \n",
    "* the number of times the occurence of the use of a marker in a turn of speaker A followed the use of a marker in a consecutive turn of speaker B. \n",
    "\n",
    "These three counts are stored in three dictionaries called `turns`, `markers` and `markers_conditional`, respectively, with the speakers as keys and the counts as values. Entry `markers_conditional(B)` contains the counts C(m in B|m in A), where B's turn was following the turn of A. Utterances tagged as backchannels and fragments are ignored when computing the turns."
   ]
  },
  {
   "cell_type": "code",
   "execution_count": null,
   "metadata": {
    "collapsed": true
   },
   "outputs": [],
   "source": []
  },
  {
   "cell_type": "code",
   "execution_count": 3,
   "metadata": {
    "collapsed": true
   },
   "outputs": [],
   "source": [
    "def get_frequency_info(marker_words, transcript):\n",
    "    \"\"\"\n",
    "    Compute frequency information for linguistic markers for\n",
    "    given transcript. Ignore backchannels and fragments\n",
    "    when counting turns\n",
    "    \n",
    "    :param marker_words:     a set with linguistic markers\n",
    "    :param transcript:  a transcript object\n",
    "    \n",
    "    :return:    tuple (n_turns, markers, markers_condititional)\n",
    "      turns:                dictionary with number of turns per speaker\n",
    "      markers:              dictionary with baseline occurrence of markers in turns of A and B\n",
    "      markers_conditional:  dictionary with number of markers given marker occurred in previous turn\n",
    "    \"\"\"\n",
    "    \n",
    "    # count dictionaries to return\n",
    "    turns = {'A':0, 'B':0}                   # number of turns\n",
    "    markers = {'A':0, 'B':0}                 # number of words in marker_word list\n",
    "    markers_conditional = {'A':0, 'B':0}     # entry A contains C(m in A|m in B) and vice versa\n",
    "    \n",
    "    # helper dicts\n",
    "    markers_prev = {'A':False, 'B':False}\n",
    "    cur_speaker = 'A'\n",
    "    cur_turn_index = 1\n",
    "    words_turn = []\n",
    "    \n",
    "    # make set of marker_words\n",
    "    marker_words = set(marker_words)\n",
    "\n",
    "    # loop over utterances\n",
    "    for utt in transcript.utterances:\n",
    "\n",
    "        if utt.caller == cur_speaker:\n",
    "            # turn did not change, update words\n",
    "            words_turn += utt.pos_words()\n",
    "        \n",
    "        else:\n",
    "            # speaker changed, check for backchannels and\n",
    "            # fragments, that are not considered turn changes\n",
    "            if utt.damsl_act_tag() in ['b', 'x']:\n",
    "                continue\n",
    "            \n",
    "            # turn changed, test if markers were in turn to update counts\n",
    "            if marker_words.intersection(set([word.lower() for word in words_turn])) != set([]):\n",
    "                markers_prev[cur_speaker] = True\n",
    "                markers[cur_speaker] += 1\n",
    "                if markers_prev[utt.caller] == True:                    \n",
    "                    markers_conditional[cur_speaker] += 1\n",
    "                \n",
    "            else:\n",
    "                markers_prev[cur_speaker] = False\n",
    "                    \n",
    "            # update counts and change speaker increase number of turns\n",
    "            turns[cur_speaker] +=1\n",
    "            words_turn = utt.pos_words()\n",
    "                   \n",
    "            cur_speaker = utt.caller\n",
    "            \n",
    "    # process last turn  \n",
    "    turns[cur_speaker]+=1\n",
    "    if marker_words.intersection(set(words_turn)) != set([]):\n",
    "        print('set of words_turn: {}'.format(set(words_turn)))\n",
    "        # if last utterance was a single backchannel, process last turn\n",
    "        markers[cur_speaker] += 1\n",
    "        if markers_prev[cur_speaker] == True:\n",
    "            markers_prev[cur_speaker] += 1\n",
    "            \n",
    "    return(turns, markers, markers_conditional)"
   ]
  },
  {
   "cell_type": "markdown",
   "metadata": {},
   "source": [
    "## Computing style coordination\n",
    "\n",
    "We can use this function to compute style coordination, for instance:"
   ]
  },
  {
   "cell_type": "code",
   "execution_count": 4,
   "metadata": {
    "collapsed": false,
    "scrolled": true
   },
   "outputs": [
    {
     "name": "stdout",
     "output_type": "stream",
     "text": [
      "markers_conditional: {'A': 3, 'B': 3}\n",
      "Coordination of A towards B w.r.t prepositions: -0.210317\n",
      "Coordination of B towards A w.r.t prepositions: -0.069565\n"
     ]
    }
   ],
   "source": [
    "# load transcript and get info\n",
    "trans = Transcript('swda_time/sw2005.csv', 'swda_time/swda-metadata-ext.csv')\n",
    "#trans = Transcript('swda_time/fab_test.csv', 'swda_time/swda-metadata-ext.csv')\n",
    "n_turns, n_markers, markers_conditional = get_frequency_info(prepositions, trans)\n",
    "\n",
    "# compute baselines\n",
    "baseline_A = float(n_markers['A'])/n_turns['A']\n",
    "baseline_B = float(n_markers['B'])/n_turns['B']\n",
    "\n",
    "# compute conditionals\n",
    "cond_A_B = float(markers_conditional['A'])/n_markers['B']\n",
    "cond_B_A = float(markers_conditional['B'])/n_markers['A']\n",
    "print('markers_conditional: {}'.format(markers_conditional))\n",
    "\n",
    "# compute coordination\n",
    "coordination_A = cond_A_B -baseline_A\n",
    "coordination_B = cond_B_A -baseline_B\n",
    "\n",
    "print \"Coordination of A towards B w.r.t prepositions: %f\\nCoordination of B towards A w.r.t prepositions: %f\" % (coordination_A, coordination_B)"
   ]
  },
  {
   "cell_type": "code",
   "execution_count": 12,
   "metadata": {
    "collapsed": false
   },
   "outputs": [
    {
     "data": {
      "text/plain": [
       "{'A': 1, 'B': 1}"
      ]
     },
     "execution_count": 12,
     "metadata": {},
     "output_type": "execute_result"
    }
   ],
   "source": [
    "n_markers"
   ]
  },
  {
   "cell_type": "markdown",
   "metadata": {},
   "source": [
    "**Question 1 (5 points)**\n",
    "\n",
    "Write a function *compute_coordination(transcript, speaker, markers)* that takes as input a transcript, a speaker ('A' or 'B') and a list with markers (represented by lists) and that outputs a dictionary with the degree of coordination of the input speaker towards the other speaker with respect to specific markers. You can use the previous function in a loop, or adapt it such that it considers all the markers in one go. Also write a few lines of documentation for your function, describing what the inputs and outputs look like."
   ]
  },
  {
   "cell_type": "code",
   "execution_count": null,
   "metadata": {
    "collapsed": true
   },
   "outputs": [],
   "source": [
    "# function computing coordination between different speakers\n",
    "# with respect to certain markers\n",
    "def compute_coordination(transcript, speaker, markers):\n",
    "    \"\"\"\n",
    "    What does the function do\n",
    "        \n",
    "    :param transcript:      \n",
    "    :param speakers:        \n",
    "    :param markers:     [prepositions, adverbs, ]    \n",
    "    \n",
    "    :return:\n",
    "    \"\"\"\n",
    "    \n",
    "    # compute alignment\n",
    "    return alignment"
   ]
  },
  {
   "cell_type": "markdown",
   "metadata": {},
   "source": [
    "## Comparing different markers\n",
    "\n",
    "**Question 2 (25 points)**\n",
    "\n",
    "Compute the average coordination of all markers (separately) over all transcripts and report some statistics. What does the distribution of coordination look like? Are some markers usually more coordinated than others, when you consider their means? What about the variability in coordination (i.e., the variance of the distribution)? Take into account that it is possible that coordination on a certain marker cannot be evaluated for some conversations (for instance if speaker A does not use this marker at all).\n",
    "\n",
    "*Your answer*"
   ]
  },
  {
   "cell_type": "markdown",
   "metadata": {},
   "source": [
    "**Question 3 (20 points)**\n",
    "\n",
    "Choose three speakers that participated in at least 10 telephone conversations and compute their coordination on 3 different markers (consider markers for which there is sufficient information) for all conversations they participated in.\n",
    "\n",
    "Answer:\n",
    "*Your answer*"
   ]
  },
  {
   "cell_type": "code",
   "execution_count": null,
   "metadata": {
    "collapsed": true
   },
   "outputs": [],
   "source": [
    "# code supporting your answer"
   ]
  },
  {
   "cell_type": "markdown",
   "metadata": {},
   "source": [
    "## How to compute overall coordination\n",
    "\n",
    "It is not straightforward to devise a formula for the overall level of coordination (i.e., with respect to all linguistic markers at the same time). Just taking an average over all different values is not appropriate, as we may not have enough data to compute reliable estimates for all markers, or certain speakers might not use some markers at all. To not exclude too many speakers, we will take the average of $C_m(B,A)$ for all $m$ for which at least one of B's utterances exhibits marker $m$ (this corresponds to aggregated 3 in Danescu-Niculescu-Mizil et al., 2012)."
   ]
  },
  {
   "cell_type": "markdown",
   "metadata": {},
   "source": [
    "## (A)symmetry of coordination\n",
    "\n",
    "**Question 4 (25 points)**\n",
    "\n",
    "In this question you will investigate the (a)symmetry of coordination. For each conversation, compare the overall coordination of speaker A towards speaker B with the coordination of B towards A by computing the difference $D$ between these two coordination levels. How is the difference $D$ distributed? Based on this distribution, does the level of coordination seem somewhat symmetric?\n",
    "\n",
    "Answer:\n",
    "\n",
    "The distribution seems unimodal with both the mode and the mean below 0. It is definitively not symmetric, having a longer tail towards $-\\infty$. This tells us in general, users would use markers more often in a marginal way (i.e. by their own initiative) than in a conditional way (i.e. by copying the other): both $C^m(B,A)$ and $C^m(A,B)$ are usually negative and so is their difference. Bottomline, at least in the switchboard corpus, there are not many users coordinating"
   ]
  },
  {
   "cell_type": "code",
   "execution_count": 57,
   "metadata": {
    "collapsed": false
   },
   "outputs": [
    {
     "name": "stderr",
     "output_type": "stream",
     "text": [
      "transcript 645\n"
     ]
    }
   ],
   "source": [
    "# Code supporting your answer\n",
    "import numpy as np\n",
    "from collections import defaultdict\n",
    "def get_frequency_info_all_markers(marker_words, transcript):\n",
    "    \"\"\"\n",
    "    Compute frequency information for several linguistic markers at once, for a given transcript.\n",
    "    Ignore backchannels and fragments when counting turns\n",
    "    :param marker_words: Dictionary[str, List[str]]. A dictionary of marker-categories to lists of words\n",
    "    :param transcript:  a transcript object\n",
    "    :return:    tuple (n_turns, markers, markers_condititional)\n",
    "      turns:                Dictionary[str, int]. A dictionary with number of turns per speaker\n",
    "      markers:              Dictionary[str, Dictionary[str, int]]. A dictionary with baseline occurrence of \n",
    "      markers in turns of A and B, for each marker. I.e. markers['marker']['speaker'] = P(T_marker^speaker)\n",
    "      markers_conditional:  Dictionary[str, Dictionary[str, int]]. A dictionary with number of markers given marker \n",
    "      occurred in previous turn, for each marker and speaker. I.e. markers_conditional['marker']['speaker'] =\n",
    "      P(T_marker^speaker|T_marker^otherspeaker)\n",
    "    \"\"\"\n",
    "    # count dictionaries to return\n",
    "    turns = {'A':0, 'B':0}                   # number of turns\n",
    "    markers = {marker_type:{'A':0, 'B':0} for marker_type in marker_words.keys()}  # num words in marker_word list\n",
    "    markers_conditional = {marker_type:{'A':0, 'B':0} for marker_type in marker_words.keys()}\n",
    "    # entry A contains C(m in A|m in B) and vice versa\n",
    "    # helper dicts\n",
    "    markers_prev = {marker_type:{'A':False, 'B':False} for marker_type in marker_words.keys()}\n",
    "    cur_speaker = 'A'\n",
    "    words_turn = []\n",
    "    # make set of marker_words\n",
    "    marker_words = {marker_type:set(marker_words[marker_type]) for marker_type in marker_words}\n",
    "    # loop over utterances\n",
    "    for utt in transcript.utterances:\n",
    "        if utt.caller == cur_speaker:\n",
    "            # turn did not change, update words\n",
    "            words_turn += utt.pos_words()\n",
    "        else:\n",
    "            # speaker changed, check for backchannels and\n",
    "            # fragments, that are not considered turn changes\n",
    "            if utt.damsl_act_tag() in ['b', 'x']:\n",
    "                continue\n",
    "            for marker_type in marker_words:\n",
    "                # turn changed, test if markers were in turn to update counts\n",
    "                if marker_words[marker_type].intersection(set([word.lower() for word in words_turn])) != set([]):\n",
    "                    markers_prev[marker_type][cur_speaker] = True\n",
    "                    markers[marker_type][cur_speaker] += 1\n",
    "                    if markers_prev[marker_type][utt.caller] == True:                    \n",
    "                        markers_conditional[marker_type][cur_speaker] += 1\n",
    "                else:\n",
    "                    markers_prev[marker_type][cur_speaker] = False\n",
    "                # update counts and change speaker increase number of turns\n",
    "            words_turn = utt.pos_words()\n",
    "            cur_speaker = utt.caller\n",
    "            turns[cur_speaker] +=1\n",
    "    # process last turn  \n",
    "    turns[cur_speaker]+=1\n",
    "    for marker_type in marker_words:\n",
    "        if marker_words[marker_type].intersection(set(words_turn)) != set([]):\n",
    "            #print('set of words_turn: {}'.format(set(words_turn)))\n",
    "            # if last utterance was a single backchannel, process last turn\n",
    "            markers[marker_type][cur_speaker] += 1\n",
    "            if markers_prev[marker_type][cur_speaker] == True:\n",
    "                markers_prev[marker_type][cur_speaker] += 1        \n",
    "    return(turns, markers, markers_conditional)\n",
    "\n",
    "corpus = CorpusReader('swda_time', 'swda_time/swda-metadata-ext.csv')\n",
    "# dictionary with all types of markers to process at once\n",
    "markers = {'articles':articles, 'auxiliary_verbs':auxiliary_verbs, 'conjunctions':conjunctions, 'adverbs':adverbs,\n",
    "          'impersonal_pronouns':impersonal_pronouns, 'personal_pronouns':personal_pronouns, \n",
    "           'prepositions':prepositions, 'quantifiers':quantifiers}\n",
    "def compute_D(corpus, markers, condition_tester):\n",
    "    \"\"\"\n",
    "    Computes D statistic (average C_m(A, B) across conversations) only for conversations that pass a given condition\n",
    "    :param corpus: Corpus object from which to retrieve the transcripts\n",
    "    :param markers: Dictionary[str, List[str]]. A dictionary mapping marker type names to the list of words that\n",
    "    comprise the category\n",
    "    :param condition_tester: Dictionary[str, callable]. A dictionary defining how many splits of D are required.\n",
    "    Each split is identified by the keys (which in turn will be the keys of D) and the value is a callable \n",
    "    following signature f(transcript) -> bool. D[key] will only be populated with data from transcripts for which\n",
    "    condition_tester[key](transcript) is true\n",
    "    \"\"\"\n",
    "    D = defaultdict(lambda: [])  # here we'll store the D for each transcript\n",
    "    for transcript in corpus.iter_transcripts(display_progress=True):  # compute C_mAB/BA for each transcript\n",
    "        for split in condition_tester:\n",
    "            if condition_tester[split](transcript) == True:\n",
    "                n_turns, marginal_p, conditional_p = get_frequency_info_all_markers(markers, transcript)\n",
    "                C_mAB = defaultdict(lambda:0)\n",
    "                C_mBA = defaultdict(lambda:0)\n",
    "                for marker_type in markers:  # consider all markers for which A and B uttered them at least once\n",
    "                    if marginal_p[marker_type]['A'] > 0 and marginal_p[marker_type]['B'] > 0:\n",
    "                        PA = float(n_markers[marker_type]['A'])/n_turns['A']\n",
    "                        PAB = float(conditional_p[marker_type]['A'])/marginal_p[marker_type]['B']\n",
    "                        C_mAB[marker_type] = PAB - PA\n",
    "                        PB = float(n_markers[marker_type]['B'])/n_turns['B']\n",
    "                        PBA = float(conditional_p[marker_type]['B'])/marginal_p[marker_type]['A']\n",
    "                        C_mBA[marker_type] = PBA - PB\n",
    "                # now store in D the average C_mAB - C_mBA for all m for which they are defined\n",
    "                D[split].append(np.mean([C_mAB[marker_type] - C_mBA[marker_type] for marker_type in C_mAB]))  # or C_mAB, same keys\n",
    "    return D\n",
    "#f = lambda x: True\n",
    "D = compute_D(corpus=corpus, markers=markers, condition_tester={'all': lambda x: True})"
   ]
  },
  {
   "cell_type": "code",
   "execution_count": 59,
   "metadata": {
    "collapsed": false
   },
   "outputs": [
    {
     "data": {
      "text/plain": [
       "<matplotlib.text.Text at 0x7feb42f38810>"
      ]
     },
     "execution_count": 59,
     "metadata": {},
     "output_type": "execute_result"
    },
    {
     "data": {
      "image/png": "[encoded data removed]",
      "text/plain": [
       "<matplotlib.figure.Figure at 0x7feb424239d0>"
      ]
     },
     "metadata": {},
     "output_type": "display_data"
    }
   ],
   "source": [
    "# let's plot D to see how it is distributed\n",
    "# dictionary for colors\n",
    "plt.figure(figsize=(14,8))\n",
    "mean = np.mean(D['all'])\n",
    "plt.axvline(x=mean, ymin=0, ymax=0.9, label='mean', color='red')\n",
    "n, bins, patches = plt.hist(D['all'], 200, histtype='step', normed=True, color='blue')\n",
    "plt.axis([-5, 5, 0, 3])\n",
    "plt.title(\"Difference of coordinations\")\n",
    "plt.xlabel(\"Coordination values\")\n",
    "plt.ylabel(\"Relative Frequency\")\n",
    "#labels = ['Backchannel (b)', 'Appreciation (ba)', 'Conventional-closing (fc)', 'Conventional-opening (fp)']\n",
    "#plt.legend(labels, title=\"Turn-taking utterance is\")"
   ]
  },
  {
   "cell_type": "markdown",
   "metadata": {},
   "source": [
    "## Influence of demographic variables on coordination\n",
    "\n",
    "** Question 5 (25 points)** \n",
    "\n",
    "Pick a demographic variable (e.g. age, gender, education) and test if there is a significant difference in coordination. Plot the coordination values and provide a statistical analysis of your result.\n",
    "\n",
    "Answer:\n",
    "We decided to check the D statistic for male-male conversations and female-female conversations separately. The results show that female-female conversations have bigger values than male-male, reflected both in the mode and the mean. The difference is significant with p value equal to 2.7168e-07"
   ]
  },
  {
   "cell_type": "markdown",
   "metadata": {},
   "source": [
    "*Provide analysis of results*"
   ]
  },
  {
   "cell_type": "code",
   "execution_count": 76,
   "metadata": {
    "collapsed": false
   },
   "outputs": [
    {
     "name": "stderr",
     "output_type": "stream",
     "text": [
      "transcript 645\n"
     ]
    }
   ],
   "source": [
    "# Plot results\n",
    "# first let's gather the data to plot\n",
    "D_gender = compute_D(corpus=corpus, markers=markers, condition_tester={'female': lambda t: \n",
    "                                                                t.from_caller_sex == t.to_caller_sex and \n",
    "                                                               t.from_caller_sex == 'FEMALE',\n",
    "                                                                'male': lambda t:\n",
    "                                                                t.from_caller_sex == t.to_caller_sex and\n",
    "                                                               t.from_caller_sex == 'MALE'})"
   ]
  },
  {
   "cell_type": "code",
   "execution_count": 84,
   "metadata": {
    "collapsed": false
   },
   "outputs": [
    {
     "data": {
      "text/plain": [
       "<matplotlib.legend.Legend at 0x7feb42728c90>"
      ]
     },
     "execution_count": 84,
     "metadata": {},
     "output_type": "execute_result"
    },
    {
     "data": {
      "image/png": "[encoded data removed]",
      "text/plain": [
       "<matplotlib.figure.Figure at 0x7feb42cfd4d0>"
      ]
     },
     "metadata": {},
     "output_type": "display_data"
    }
   ],
   "source": [
    "# and now plot it\n",
    "genders = D_gender.keys()\n",
    "cdict = dict(zip(genders, ['blue','red']))\n",
    "\n",
    "plt.figure(figsize=(14,8))\n",
    "for var in genders:\n",
    "    mean = np.mean(D_gender[var])\n",
    "    plt.axvline(x=mean, ymin=0, ymax=0.9, label=str(var), color=cdict[var])\n",
    "    n, bins, patches = plt.hist(D_gender[var], 100, histtype='step', normed=True, color=cdict[var])\n",
    "plt.axis([-5, 5, 0, 3])\n",
    "plt.title(\"Average coordination per gender\")\n",
    "plt.xlabel(\"Average coordination values\")\n",
    "plt.ylabel(\"Relative Frequency\")\n",
    "plt.legend(genders, title=\"genders\")"
   ]
  },
  {
   "cell_type": "code",
   "execution_count": 86,
   "metadata": {
    "collapsed": false,
    "scrolled": true
   },
   "outputs": [
    {
     "name": "stdout",
     "output_type": "stream",
     "text": [
      "Female-female conversations:\t mean coordination: -0.423287\t sample size: 188\n",
      "Male-male conversations:\t mean coordination: -0.701247\t sample size: 187\n",
      "\n",
      "\n",
      "t-test assuming unequal variance: T: 5.247576\t p-value :2.7168e-07\n"
     ]
    }
   ],
   "source": [
    "# statistical tests supporting your results\n",
    "# data\n",
    "import scipy.stats\n",
    "data_f = D_gender['female']\n",
    "data_m = D_gender['male']\n",
    "\n",
    "# print mean and sample size of the data\n",
    "print \"Female-female conversations:\\t mean coordination: %f\\t sample size: %i\" % (np.mean(data_f), len(data_f))\n",
    "print \"Male-male conversations:\\t mean coordination: %f\\t sample size: %i\\n\" % (np.mean(data_m), len(data_m))\n",
    "\n",
    "# print results for t-test\n",
    "print \"\\nt-test assuming unequal variance: T: %f\\t p-value :%.4e\" % scipy.stats.ttest_ind(data_f, data_m, equal_var=False)"
   ]
  },
  {
   "cell_type": "markdown",
   "metadata": {},
   "source": [
    "** Bonus question (10 points)**\n",
    "\n",
    "Your own question.\n",
    "\n",
    "We checked if the D statistic is different for younger vs older users. For that we split the population by the median over birth year (1956).\n",
    "For this split, the distributions are very similar and we didn't find a significant difference (p = 7.8168e-01)"
   ]
  },
  {
   "cell_type": "code",
   "execution_count": 99,
   "metadata": {
    "collapsed": false,
    "scrolled": false
   },
   "outputs": [
    {
     "name": "stderr",
     "output_type": "stream",
     "text": [
      "transcript 645\n"
     ]
    }
   ],
   "source": [
    "# first we gather the data\n",
    "D_age = compute_D(corpus=corpus, markers=markers, \n",
    "                        condition_tester={'young': lambda t: \n",
    "                                          t.from_caller_birth_year.year<1956 and t.to_caller_birth_year.year<1956, \n",
    "                                          'old': lambda t:\n",
    "                                          t.from_caller_birth_year.year>=1956 and t.to_caller_birth_year.year>=1956\n",
    "                                         })"
   ]
  },
  {
   "cell_type": "code",
   "execution_count": 102,
   "metadata": {
    "collapsed": false,
    "scrolled": false
   },
   "outputs": [
    {
     "data": {
      "text/plain": [
       "<matplotlib.legend.Legend at 0x7feb3fc3dd50>"
      ]
     },
     "execution_count": 102,
     "metadata": {},
     "output_type": "execute_result"
    },
    {
     "data": {
      "image/png": "[encoded data removed]",
      "text/plain": [
       "<matplotlib.figure.Figure at 0x7feb3fc43610>"
      ]
     },
     "metadata": {},
     "output_type": "display_data"
    }
   ],
   "source": [
    "# and now plot it\n",
    "age_groups = D_age.keys()\n",
    "cdict = dict(zip(age_groups, ['blue','red']))\n",
    "\n",
    "plt.figure(figsize=(14,8))\n",
    "for var in age_groups:\n",
    "    mean = np.mean(D_age[var])\n",
    "    plt.axvline(x=mean, ymin=0, ymax=0.9, label=str(var), color=cdict[var])\n",
    "    n, bins, patches = plt.hist(D_age[var], 100, histtype='step', normed=True, color=cdict[var])\n",
    "plt.axis([-5, 5, 0, 3])\n",
    "plt.title(\"Average coordination per age group\")\n",
    "plt.xlabel(\"Average coordination values\")\n",
    "plt.ylabel(\"Relative Frequency\")\n",
    "plt.legend(age_groups, title=\"Age groups\")"
   ]
  },
  {
   "cell_type": "code",
   "execution_count": 103,
   "metadata": {
    "collapsed": false
   },
   "outputs": [
    {
     "name": "stdout",
     "output_type": "stream",
     "text": [
      "young-young conversations:\t mean coordination: -0.538279\t sample size: 145\n",
      "old-old conversations:\t mean coordination: -0.551741\t sample size: 193\n",
      "\n",
      "\n",
      "t-test assuming unequal variance: T: 0.277359\t p-value :7.8168e-01\n"
     ]
    }
   ],
   "source": [
    "# statistical tests supporting your results\n",
    "# data\n",
    "import scipy.stats\n",
    "data_y = D_age['young']\n",
    "data_o = D_age['old']\n",
    "\n",
    "# print mean and sample size of the data\n",
    "print \"young-young conversations:\\t mean coordination: %f\\t sample size: %i\" % (np.mean(data_y), len(data_y))\n",
    "print \"old-old conversations:\\t mean coordination: %f\\t sample size: %i\\n\" % (np.mean(data_o), len(data_o))\n",
    "\n",
    "# print results for t-test\n",
    "print \"\\nt-test assuming unequal variance: T: %f\\t p-value :%.4e\" % scipy.stats.ttest_ind(data_y, data_o, equal_var=False)"
   ]
  }
 ],
 "metadata": {
  "anaconda-cloud": {},
  "kernelspec": {
   "display_name": "Python [default]",
   "language": "python",
   "name": "python2"
  },
  "language_info": {
   "codemirror_mode": {
    "name": "ipython",
    "version": 2
   },
   "file_extension": ".py",
   "mimetype": "text/x-python",
   "name": "python",
   "nbconvert_exporter": "python",
   "pygments_lexer": "ipython2",
   "version": "2.7.12"
  }
 },
 "nbformat": 4,
 "nbformat_minor": 1
}
