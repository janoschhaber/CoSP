{
 "cells": [
  {
   "cell_type": "markdown",
   "metadata": {},
   "source": [
    "# CoSP Assignment 3: Style Coordination\n",
    "\n",
    "### Submission details:\n",
    "\n",
    "* **Deadline: Wednesday 22/11/2017 at 20:00** Please submit your work on time. Late submissions will not be graded.\n",
    "* You can do the assignment either individually, or in a group of 2 people.\n",
    "* Submit the .ipynb file containing your code **via email to nadine.theiler@uva.nl using \"[CoSP17] Assignment 3\" as a subject line**. Rename the .ipynb file so that the file name contains your last name(s), e.g. assignment3_ntheiler.ipynb. If you submit your answers as a group, clearly indicate this in the name of the file, and preferably also in the comment section.\n",
    "* For every question, it is indicated how many points you can maximally get for it. The total number of points for the assignment is 100. The assignment also contains a bonus question for which you can get 10 points.\n",
    "\n",
    "### Some technical remarks:\n",
    "* You should write your code and answers **in this Jupyter notebook**. The blocks for code and text are already created, just click on them and change the content.\n",
    "* Make sure we can run the notebook. If you can run your notebook from the folder *cosp2017_practical* you downloaded during the introductory practical session without modifications, then your setup should be ok and we should be able to run your notebook too. \n",
    "* If you want to run a particular cell in the notebook, make sure you also run the cells above it that it depends on.\n",
    "* Make sure to put \"%pylab inline\" somewhere in the beginning of your notebook, such that plots will appear inline."
   ]
  },
  {
   "cell_type": "code",
   "execution_count": 1,
   "metadata": {
    "collapsed": true
   },
   "outputs": [],
   "source": [
    "# imports\n",
    "%matplotlib inline\n",
    "from swda_time import CorpusReader\n",
    "from swda_time import Transcript\n",
    "import matplotlib.pyplot as plt\n",
<<<<<<< HEAD
    "import numpy as np"
=======
    "import numpy as np\n",
    "import scipy\n",
    "from collections import defaultdict\n",
    "\n",
    "corpus = CorpusReader('swda_time', 'swda_time/swda-metadata-ext.csv')"
>>>>>>> 7ebee7513e76d7392e8e7744bafd0fba08d7caac
   ]
  },
  {
   "cell_type": "markdown",
   "metadata": {},
   "source": [
    "## Coordination\n",
    "\n",
    "In this assignment we will explore style coordination between two speakers in a conversation. We will use the linguistic coordination measure proposed by Danescu-Niculescu-Mizil et al. (2012), which is based on the common occurrence of linguistic markers (types of function words, such as quantifiers or prepositions). The authors define the coordination of speaker B towards speaker A with respect to some marker $m$ as the conditional probability that a turn by speaker B contains a certain linguistic marker $m$ given that speaker A used this marker in the previous turn, minus the overall probability that speaker B uses this marker in any turn:\n",
    "\n",
    "$C^m(B,A) = P(T^m_B|T^m_A) - P(T^m_B)$\n",
    "\n",
    "Where $P(T^m_B|T^m_A)$ denotes the probability that speaker B uses marker $m$ in a turn immediately following a turn in which speaker A used this marker. All probabilities are estimated using relative frequency estimation from the corpus counts. \n",
    "\n",
    "The linguistic style markers used by Danescu-Niculescu-Mizil et al. are 8 categories of words: articles, auxiliary verbs, conjunctions, high-frequency adverbs, impersonal pronouns, personal pronouns, prepositions, and quantifiers. An utterance or turn is said to exhibit a certain marker $m$ if it contains a word from a list of words associated with this marker. \n",
    "\n",
    "In this assignment you will use the lists of markers compiled by Noble & Fernández (2015), available in the file *markers.py* which you find in the folder *cosp2017_practical*.\n",
    "\n",
    "**References**\n",
    "\n",
    "C. Danescu-Niculescu-Mizil, L. Lee, B. Pang and J. Kleinberg (2012). Echoes of power: Language effects and power differences in social interaction, in Proceedings of WWW. [http://www.cs.cornell.edu/~cristian/Echoes_of_power.html]\n",
    "\n",
    "B. Noble and R. Fernández (2015). Center stage: How social network position shapes linguistic coordination, in Proceedings of CMCL. [http://www.aclweb.org/anthology/W15-1104.pdf]"
   ]
  },
  {
   "cell_type": "code",
   "execution_count": 2,
   "metadata": {
<<<<<<< HEAD
    "collapsed": false,
=======
>>>>>>> 7ebee7513e76d7392e8e7744bafd0fba08d7caac
    "scrolled": true
   },
   "outputs": [
    {
     "name": "stdout",
     "output_type": "stream",
     "text": [
      "['of', 'in', 'to', 'for', 'with', 'on', 'by', 'at', 'from', 'as', 'into', 'about', 'like', 'after', 'between', 'through', 'over', 'against', 'under', 'out of', 'without', 'within', 'during', 'before', 'such as', 'towards', 'around', 'upon', 'including', 'among', 'across', 'off', 'behind', 'since', 'because of', 'as well as', 'rather than', 'until', 'according to', 'up to', 'despite', 'near', 'above', 'per', 'along', 'away from', 'throughout', 'outside', 'round', 'beyond', 'worth', 'in terms of', 'down', 'on to', 'up', 'due to', 'inside', 'as to', 'instead of', 'plus']\n"
     ]
    }
   ],
   "source": [
    "from markers import *\n",
    "print prepositions"
   ]
  },
  {
   "cell_type": "markdown",
   "metadata": {},
   "source": [
    "## Collecting frequency information\n",
    "\n",
    "To compute the amount of coordination within a conversation, we will have to do some frequency counting. We provide a (rather long) function that you can use to do all the counting in one iteration through a transcript (to prevent looping through the transcript multiple times). Given as input a list or set with marker words and a Transcript object, the function computes: \n",
    "\n",
    "* the number of turns per speaker, \n",
    "* the baseline occurence of markers in the turns of both speaker A and B, and \n",
    "* the number of times the occurence of the use of a marker in a turn of speaker A followed the use of a marker in a consecutive turn of speaker B. \n",
    "\n",
    "These three counts are stored in three dictionaries called `turns`, `markers` and `markers_conditional`, respectively, with the speakers as keys and the counts as values. Entry `markers_conditional(B)` contains the counts C(m in B|m in A), where B's turn was following the turn of A. Utterances tagged as backchannels and fragments are ignored when computing the turns."
   ]
  },
  {
   "cell_type": "code",
<<<<<<< HEAD
   "execution_count": null,
   "metadata": {
    "collapsed": true
   },
   "outputs": [],
   "source": []
  },
  {
   "cell_type": "code",
=======
>>>>>>> 7ebee7513e76d7392e8e7744bafd0fba08d7caac
   "execution_count": 3,
   "metadata": {
    "collapsed": true
   },
   "outputs": [],
   "source": [
    "def get_frequency_info(marker_words, transcript):\n",
    "    \"\"\"\n",
    "    Compute frequency information for linguistic markers for\n",
    "    given transcript. Ignore backchannels and fragments\n",
    "    when counting turns\n",
    "    \n",
    "    :param marker_words:     a set with linguistic markers\n",
    "    :param transcript:  a transcript object\n",
    "    \n",
    "    :return:    tuple (n_turns, markers, markers_condititional)\n",
    "      turns:                dictionary with number of turns per speaker\n",
    "      markers:              dictionary with baseline occurrence of markers in turns of A and B\n",
    "      markers_conditional:  dictionary with number of markers given marker occurred in previous turn\n",
    "    \"\"\"\n",
    "    \n",
    "    # count dictionaries to return\n",
    "    turns = {'A':0, 'B':0}                   # number of turns\n",
    "    markers = {'A':0, 'B':0}                 # number of words in marker_word list\n",
    "    markers_conditional = {'A':0, 'B':0}     # entry A contains C(m in A|m in B) and vice versa\n",
    "    \n",
    "    # helper dicts\n",
    "    markers_prev = {'A':False, 'B':False}\n",
    "    cur_speaker = 'A'\n",
    "    cur_turn_index = 1\n",
    "    words_turn = []\n",
<<<<<<< HEAD
=======
    "    other_speaker = {'A':'B', 'B':'A'}\n",
>>>>>>> 7ebee7513e76d7392e8e7744bafd0fba08d7caac
    "    \n",
    "    # make set of marker_words\n",
    "    marker_words = set(marker_words)\n",
    "\n",
    "    # loop over utterances\n",
    "    for utt in transcript.utterances:\n",
    "\n",
    "        if utt.caller == cur_speaker:\n",
    "            # turn did not change, update words\n",
    "            words_turn += utt.pos_words()\n",
    "        \n",
    "        else:\n",
    "            # speaker changed, check for backchannels and\n",
    "            # fragments, that are not considered turn changes\n",
    "            if utt.damsl_act_tag() in ['b', 'x']:\n",
    "                continue\n",
    "            \n",
    "            # turn changed, test if markers were in turn to update counts\n",
    "            if marker_words.intersection(set([word.lower() for word in words_turn])) != set([]):\n",
    "                markers_prev[cur_speaker] = True\n",
    "                markers[cur_speaker] += 1\n",
    "                if markers_prev[utt.caller] == True:                    \n",
    "                    markers_conditional[cur_speaker] += 1\n",
    "                \n",
    "            else:\n",
    "                markers_prev[cur_speaker] = False\n",
    "                    \n",
    "            # update counts and change speaker increase number of turns\n",
    "            turns[cur_speaker] +=1\n",
    "            words_turn = utt.pos_words()\n",
    "                   \n",
    "            cur_speaker = utt.caller\n",
    "            \n",
    "    # process last turn  \n",
    "    turns[cur_speaker]+=1\n",
<<<<<<< HEAD
    "    if marker_words.intersection(set(words_turn)) != set([]):\n",
    "        print('set of words_turn: {}'.format(set(words_turn)))\n",
    "        # if last utterance was a single backchannel, process last turn\n",
    "        markers[cur_speaker] += 1\n",
    "        if markers_prev[cur_speaker] == True:\n",
    "            markers_prev[cur_speaker] += 1\n",
=======
    "    if marker_words.intersection(set([word.lower() for word in words_turn])) != set([]):\n",
    "        markers[cur_speaker] += 1\n",
    "        if markers_prev[other_speaker[cur_speaker]] == True:\n",
    "            markers_conditional[cur_speaker] += 1\n",
>>>>>>> 7ebee7513e76d7392e8e7744bafd0fba08d7caac
    "            \n",
    "    return(turns, markers, markers_conditional)"
   ]
  },
  {
   "cell_type": "markdown",
   "metadata": {},
   "source": [
    "## Computing style coordination\n",
    "\n",
    "We can use this function to compute style coordination, for instance:"
   ]
  },
  {
   "cell_type": "code",
   "execution_count": 4,
   "metadata": {
<<<<<<< HEAD
    "collapsed": false,
    "scrolled": true
=======
    "scrolled": false
>>>>>>> 7ebee7513e76d7392e8e7744bafd0fba08d7caac
   },
   "outputs": [
    {
     "name": "stdout",
     "output_type": "stream",
     "text": [
<<<<<<< HEAD
      "markers_conditional: {'A': 3, 'B': 3}\n",
=======
>>>>>>> 7ebee7513e76d7392e8e7744bafd0fba08d7caac
      "Coordination of A towards B w.r.t prepositions: -0.210317\n",
      "Coordination of B towards A w.r.t prepositions: -0.069565\n"
     ]
    }
   ],
   "source": [
    "# load transcript and get info\n",
    "trans = Transcript('swda_time/sw2005.csv', 'swda_time/swda-metadata-ext.csv')\n",
<<<<<<< HEAD
    "#trans = Transcript('swda_time/fab_test.csv', 'swda_time/swda-metadata-ext.csv')\n",
=======
>>>>>>> 7ebee7513e76d7392e8e7744bafd0fba08d7caac
    "n_turns, n_markers, markers_conditional = get_frequency_info(prepositions, trans)\n",
    "\n",
    "# compute baselines\n",
    "baseline_A = float(n_markers['A'])/n_turns['A']\n",
    "baseline_B = float(n_markers['B'])/n_turns['B']\n",
    "\n",
    "# compute conditionals\n",
    "cond_A_B = float(markers_conditional['A'])/n_markers['B']\n",
    "cond_B_A = float(markers_conditional['B'])/n_markers['A']\n",
<<<<<<< HEAD
    "print('markers_conditional: {}'.format(markers_conditional))\n",
=======
>>>>>>> 7ebee7513e76d7392e8e7744bafd0fba08d7caac
    "\n",
    "# compute coordination\n",
    "coordination_A = cond_A_B -baseline_A\n",
    "coordination_B = cond_B_A -baseline_B\n",
    "\n",
    "print \"Coordination of A towards B w.r.t prepositions: %f\\nCoordination of B towards A w.r.t prepositions: %f\" % (coordination_A, coordination_B)"
   ]
  },
  {
<<<<<<< HEAD
   "cell_type": "code",
   "execution_count": 12,
   "metadata": {
    "collapsed": false
   },
   "outputs": [
    {
     "data": {
      "text/plain": [
       "{'A': 1, 'B': 1}"
      ]
     },
     "execution_count": 12,
     "metadata": {},
     "output_type": "execute_result"
    }
   ],
   "source": [
    "n_markers"
   ]
  },
  {
=======
>>>>>>> 7ebee7513e76d7392e8e7744bafd0fba08d7caac
   "cell_type": "markdown",
   "metadata": {},
   "source": [
    "**Question 1 (5 points)**\n",
    "\n",
    "Write a function *compute_coordination(transcript, speaker, markers)* that takes as input a transcript, a speaker ('A' or 'B') and a list with markers (represented by lists) and that outputs a dictionary with the degree of coordination of the input speaker towards the other speaker with respect to specific markers. You can use the previous function in a loop, or adapt it such that it considers all the markers in one go. Also write a few lines of documentation for your function, describing what the inputs and outputs look like."
   ]
  },
  {
   "cell_type": "code",
<<<<<<< HEAD
   "execution_count": null,
=======
   "execution_count": 5,
>>>>>>> 7ebee7513e76d7392e8e7744bafd0fba08d7caac
   "metadata": {
    "collapsed": true
   },
   "outputs": [],
   "source": [
    "# function computing coordination between different speakers\n",
    "# with respect to certain markers\n",
    "def compute_coordination(transcript, speaker, markers):\n",
    "    \"\"\"\n",
<<<<<<< HEAD
    "    What does the function do\n",
    "        \n",
    "    :param transcript:      \n",
    "    :param speakers:        \n",
    "    :param markers:     [prepositions, adverbs, ]    \n",
    "    \n",
    "    :return:\n",
    "    \"\"\"\n",
    "    \n",
    "    # compute alignment\n",
=======
    "    Returns a list with the degree of coordination of the input speaker \n",
    "    towards the other speaker with respect to specific markers given a conversation transcript. \n",
    "    The list is sorted in the same order as the inout markers list.\n",
    "        \n",
    "    :param transcript: SWDA transcript object     \n",
    "    :param speakers: speaker A or B       \n",
    "    :param markers: list of markers to be analysed. Choice of [articles, auxiliary_verbs, conjunctions, \n",
    "                    adverbs, impersonal_pronouns, personal_pronouns, prepositions, quantifiers]\n",
    "    :return: a list with the alignments indexed by the position of the marker in the input list\n",
    "    \"\"\"\n",
    "    # householding \n",
    "    cur_speaker = 'A'\n",
    "    cur_turn_index = 1\n",
    "    words_turn = []\n",
    "    turns = 0\n",
    "    \n",
    "    # Collection dicts\n",
    "    speaker_markers = defaultdict(lambda : 0)   \n",
    "    markers_conditional = defaultdict(lambda : 0)  \n",
    "    \n",
    "    # Auxilliary dicts\n",
    "    other_markers = defaultdict(lambda : 0)\n",
    "    markers_prev = defaultdict(lambda : False)\n",
    "    \n",
    "    # Get list of marker sets\n",
    "    marker_sets = [set(marker_list) for marker_list in markers]\n",
    "   \n",
    "    # loop over utterances\n",
    "    for utt in transcript.utterances:\n",
    "        if utt.caller == cur_speaker:\n",
    "            # turn did not change, update words\n",
    "            words_turn += utt.pos_words()        \n",
    "        else:            \n",
    "            # speaker changed, check for backchannels and\n",
    "            # fragments, that are not considered turn changes\n",
    "            if utt.damsl_act_tag() in ['b', 'x']:\n",
    "                continue\n",
    "                \n",
    "            # Update current speaker \n",
    "            cur_speaker = utt.caller\n",
    "            \n",
    "            # If turn taking speaker is the relevant speaker, increase the turn counter \n",
    "            # and update other and prev turn markers (adding statistics for the other speaker's previous turn)\n",
    "            if cur_speaker == speaker:\n",
    "                # Increase number of turns\n",
    "                turns += 1\n",
    "                \n",
    "                for marker_id, marker_words in enumerate(marker_sets):            \n",
    "                    if marker_words.intersection(set([word.lower() for word in words_turn])) != set([]):\n",
    "                        markers_prev[marker_id] = True      \n",
    "                        other_markers[marker_id] += 1\n",
    "                    else:\n",
    "                        markers_prev[marker_id] = False \n",
    "            else:        \n",
    "                # else collect the adaption rate\n",
    "                for marker_id, marker_words in enumerate(marker_sets):            \n",
    "                    if marker_words.intersection(set([word.lower() for word in words_turn])) != set([]):\n",
    "                        speaker_markers[marker_id] += 1\n",
    "                        if markers_prev[marker_id] == True:                    \n",
    "                            markers_conditional[marker_id] += 1 \n",
    "                              \n",
    "            # Update words\n",
    "            words_turn = utt.pos_words()     \n",
    "           \n",
    "    # process last turn  \n",
    "    \n",
    "    # Update current speaker \n",
    "    cur_speaker = utt.caller\n",
    "    \n",
    "    # If turn taking speaker is the relevant speaker, increase the turn counter \n",
    "    # and update other and prev turn markers (adding statistics for the other speaker's previous turn)\n",
    "    if cur_speaker == speaker:\n",
    "        # Increase number of turns\n",
    "        turns += 1 \n",
    "        \n",
    "        for marker_id, marker_words in enumerate(marker_sets):            \n",
    "            if marker_words.intersection(set([word.lower() for word in words_turn])) != set([]): \n",
    "                other_markers[marker_id] += 1\n",
    "    else:          \n",
    "        # else collect the adaption rate\n",
    "        for marker_id, marker_words in enumerate(marker_sets):\n",
    "            if marker_words.intersection(set([word.lower() for word in words_turn])) != set([]):\n",
    "                speaker_markers[marker_id] += 1\n",
    "                if markers_prev[marker_id] == True:                    \n",
    "                    markers_conditional[marker_id] += 1 \n",
    "            \n",
    "    # compute alignment\n",
    "    alignment = []    \n",
    "    for marker_id in range(len(markers)):\n",
    "        baseline = speaker_markers[marker_id]/float(turns)\n",
    "        \n",
    "        # If alignment cannot be calculated, return None\n",
    "        try:\n",
    "            conditional = markers_conditional[marker_id]/float(other_markers[marker_id])\n",
    "            alignment.append(conditional - baseline)\n",
    "        except ZeroDivisionError:\n",
    "            alignment.append(None)       \n",
    "    \n",
>>>>>>> 7ebee7513e76d7392e8e7744bafd0fba08d7caac
    "    return alignment"
   ]
  },
  {
<<<<<<< HEAD
   "cell_type": "markdown",
   "metadata": {},
   "source": [
    "## Comparing different markers\n",
    "\n",
    "**Question 2 (25 points)**\n",
    "\n",
    "Compute the average coordination of all markers (separately) over all transcripts and report some statistics. What does the distribution of coordination look like? Are some markers usually more coordinated than others, when you consider their means? What about the variability in coordination (i.e., the variance of the distribution)? Take into account that it is possible that coordination on a certain marker cannot be evaluated for some conversations (for instance if speaker A does not use this marker at all).\n",
    "\n",
    "*Your answer*"
=======
   "cell_type": "code",
   "execution_count": 6,
   "metadata": {},
   "outputs": [
    {
     "name": "stdout",
     "output_type": "stream",
     "text": [
      "Coordination of A towards the other speaker w.r.t prepositions: -0.210317460317\n"
     ]
    }
   ],
   "source": [
    "transcript = Transcript('swda_time/sw2005.csv', 'swda_time/swda-metadata-ext.csv')\n",
    "speaker = 'A'\n",
    "markers = [prepositions]\n",
    "\n",
    "alignment = compute_coordination(transcript, speaker, markers)\n",
    "print(\"Coordination of {} towards the other speaker w.r.t prepositions: {}\".format(speaker, alignment[0]))"
>>>>>>> 7ebee7513e76d7392e8e7744bafd0fba08d7caac
   ]
  },
  {
   "cell_type": "markdown",
   "metadata": {},
   "source": [
<<<<<<< HEAD
    "**Question 3 (20 points)**\n",
    "\n",
    "Choose three speakers that participated in at least 10 telephone conversations and compute their coordination on 3 different markers (consider markers for which there is sufficient information) for all conversations they participated in.\n",
    "\n",
    "Answer:\n",
    "*Your answer*"
=======
    "## Comparing different markers\n",
    "\n",
    "**Question 2 (25 points)**\n",
    "\n",
    "Compute the average coordination of all markers (separately) over all transcripts and report some statistics. What does the distribution of coordination look like? Are some markers usually more coordinated than others, when you consider their means? What about the variability in coordination (i.e., the variance of the distribution)? Take into account that it is possible that coordination on a certain marker cannot be evaluated for some conversations (for instance if speaker A does not use this marker at all)."
>>>>>>> 7ebee7513e76d7392e8e7744bafd0fba08d7caac
   ]
  },
  {
   "cell_type": "code",
<<<<<<< HEAD
   "execution_count": null,
   "metadata": {
    "collapsed": true
   },
   "outputs": [],
   "source": [
    "# code supporting your answer"
   ]
  },
  {
   "cell_type": "markdown",
   "metadata": {},
   "source": [
    "## How to compute overall coordination\n",
    "\n",
    "It is not straightforward to devise a formula for the overall level of coordination (i.e., with respect to all linguistic markers at the same time). Just taking an average over all different values is not appropriate, as we may not have enough data to compute reliable estimates for all markers, or certain speakers might not use some markers at all. To not exclude too many speakers, we will take the average of $C_m(B,A)$ for all $m$ for which at least one of B's utterances exhibits marker $m$ (this corresponds to aggregated 3 in Danescu-Niculescu-Mizil et al., 2012)."
   ]
  },
  {
   "cell_type": "markdown",
   "metadata": {},
   "source": [
    "## (A)symmetry of coordination\n",
    "\n",
    "**Question 4 (25 points)**\n",
    "\n",
    "In this question you will investigate the (a)symmetry of coordination. For each conversation, compare the overall coordination of speaker A towards speaker B with the coordination of B towards A by computing the difference $D$ between these two coordination levels. How is the difference $D$ distributed? Based on this distribution, does the level of coordination seem somewhat symmetric?\n",
    "\n",
    "Answer:\n",
    "\n",
    "The distribution seems unimodal with both the mode and the mean below 0. It is definitively not symmetric, having a longer tail towards $-\\infty$. This tells us in general, users would use markers more often in a marginal way (i.e. by their own initiative) than in a conditional way (i.e. by copying the other): both $C^m(B,A)$ and $C^m(A,B)$ are usually negative and so is their difference. Bottomline, at least in the switchboard corpus, there are not many users coordinating"
=======
   "execution_count": 78,
   "metadata": {},
   "outputs": [
    {
     "name": "stderr",
     "output_type": "stream",
     "text": [
      "transcript 645\n"
     ]
    }
   ],
   "source": [
    "markers = [articles, auxiliary_verbs, conjunctions, adverbs, impersonal_pronouns, personal_pronouns, prepositions, quantifiers]\n",
    "markers_names = ['articles', 'auxiliary_verbs', 'conjunctions', 'adverbs', 'impersonal_pronouns', 'personal_pronouns', 'prepositions', 'quantifiers']\n",
    "\n",
    "marker_coordination = defaultdict(lambda : list())\n",
    "marker_counter = defaultdict(lambda : 0)\n",
    "\n",
    "for transcript in corpus.iter_transcripts(display_progress=True):\n",
    "    for speaker in ['A', 'B']:\n",
    "        alignments = compute_coordination(transcript, speaker, markers)\n",
    "        for marker_id, alignment in enumerate(alignments):\n",
    "            if alignment:\n",
    "                marker_coordination[marker_id].append(alignment)"
   ]
  },
  {
   "cell_type": "code",
   "execution_count": 54,
   "metadata": {},
   "outputs": [
    {
     "data": {
      "text/plain": [
       "<matplotlib.legend.Legend at 0x7f5f01dca610>"
      ]
     },
     "execution_count": 54,
     "metadata": {},
     "output_type": "execute_result"
    },
    {
     "data": {
      "image/png": "iVBORw0KGgoAAAANSUhEUgAAAzoAAAHwCAYAAABuXRpPAAAABHNCSVQICAgIfAhkiAAAAAlwSFlz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\nKuf/Adl1EdVwvrOIAAAAAElFTkSuQmCC\n",
      "text/plain": [
       "<matplotlib.figure.Figure at 0x7f5f01f9bd50>"
      ]
     },
     "metadata": {},
     "output_type": "display_data"
    },
    {
     "data": {
      "image/png": "iVBORw0KGgoAAAANSUhEUgAAAzoAAAHwCAYAAABuXRpPAAAABHNCSVQICAgIfAhkiAAAAAlwSFlz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\nSnakVyixAAAAAElFTkSuQmCC\n",
      "text/plain": [
       "<matplotlib.figure.Figure at 0x7f5f01dbeb50>"
      ]
     },
     "metadata": {},
     "output_type": "display_data"
    }
   ],
   "source": [
    "plt.figure(figsize=(14,8))\n",
    "\n",
    "cdict = dict(zip(markers_names[:4], ['blue', 'red', 'green', 'orange']))\n",
    "\n",
    "for i, name in enumerate(markers_names[:4]):\n",
    "    mean = np.mean(marker_coordination[i])\n",
    "    plt.axvline(x=mean, ymin=0, ymax=1, label=str(name), color=cdict[name])\n",
    "    n, bins, patches = plt.hist(marker_coordination[i], 100, histtype='step', normed=True, color=cdict[name])\n",
    "plt.axis([-0.75, 0.75, 0, 6])\n",
    "plt.title(\"Coordination per marker class\")\n",
    "plt.xlabel(\"Degree of coordination (-1 to 1)\")\n",
    "plt.ylabel(\"Relative Frequency\")\n",
    "plt.legend(title=\"Marker class\")\n",
    "\n",
    "plt.figure(figsize=(14,8))\n",
    "\n",
    "cdict = dict(zip(markers_names[4:], ['blue', 'red', 'green', 'orange']))\n",
    "\n",
    "for i, name in enumerate(markers_names[4:]):\n",
    "    mean = np.mean(marker_coordination[i+4])\n",
    "    plt.axvline(x=mean, ymin=0, ymax=1, label=str(name), color=cdict[name])\n",
    "    n, bins, patches = plt.hist(marker_coordination[i+4], 100, histtype='step', normed=True, color=cdict[name])\n",
    "plt.axis([-0.75, 0.75, 0, 6.5])\n",
    "plt.title(\"Coordination per marker class\")\n",
    "plt.xlabel(\"Degree of coordination (-1 to 1)\")\n",
    "plt.ylabel(\"Relative Frequency\")\n",
    "plt.legend(title=\"Marker class\")"
>>>>>>> 7ebee7513e76d7392e8e7744bafd0fba08d7caac
   ]
  },
  {
   "cell_type": "code",
<<<<<<< HEAD
   "execution_count": 57,
   "metadata": {
    "collapsed": false
   },
   "outputs": [
    {
     "name": "stderr",
     "output_type": "stream",
     "text": [
      "transcript 645\n"
=======
   "execution_count": 79,
   "metadata": {},
   "outputs": [
    {
     "name": "stdout",
     "output_type": "stream",
     "text": [
      "Average coordination of marker class articles: -0.0242769576882 \n",
      "\tvariance: 0.0193116232487 \tsample size:1247\n",
      "\n",
      "Average coordination of marker class auxiliary_verbs: -0.0174125743433 \n",
      "\tvariance: 0.0126375668144 \tsample size:1238\n",
      "\n",
      "Average coordination of marker class conjunctions: -0.0415833325248 \n",
      "\tvariance: 0.014342318462 \tsample size:1239\n",
      "\n",
      "Average coordination of marker class adverbs: -0.0185088345878 \n",
      "\tvariance: 0.00864355260826 \tsample size:1241\n",
      "\n",
      "Average coordination of marker class impersonal_pronouns: 0.0290462761864 \n",
      "\tvariance: 0.0116619565131 \tsample size:1241\n",
      "\n",
      "Average coordination of marker class personal_pronouns: -0.0207462359914 \n",
      "\tvariance: 0.00847690809143 \tsample size:1239\n",
      "\n",
      "Average coordination of marker class prepositions: -0.0389351564046 \n",
      "\tvariance: 0.0116000524234 \tsample size:1241\n",
      "\n",
      "Average coordination of marker class quantifiers: -0.00492450384662 \n",
      "\tvariance: 0.0281756985044 \tsample size:1243\n",
      "\n"
>>>>>>> 7ebee7513e76d7392e8e7744bafd0fba08d7caac
     ]
    }
   ],
   "source": [
<<<<<<< HEAD
    "# Code supporting your answer\n",
    "import numpy as np\n",
    "from collections import defaultdict\n",
    "def get_frequency_info_all_markers(marker_words, transcript):\n",
    "    \"\"\"\n",
    "    Compute frequency information for several linguistic markers at once, for a given transcript.\n",
    "    Ignore backchannels and fragments when counting turns\n",
    "    :param marker_words: Dictionary[str, List[str]]. A dictionary of marker-categories to lists of words\n",
    "    :param transcript:  a transcript object\n",
    "    :return:    tuple (n_turns, markers, markers_condititional)\n",
    "      turns:                Dictionary[str, int]. A dictionary with number of turns per speaker\n",
    "      markers:              Dictionary[str, Dictionary[str, int]]. A dictionary with baseline occurrence of \n",
    "      markers in turns of A and B, for each marker. I.e. markers['marker']['speaker'] = P(T_marker^speaker)\n",
    "      markers_conditional:  Dictionary[str, Dictionary[str, int]]. A dictionary with number of markers given marker \n",
    "      occurred in previous turn, for each marker and speaker. I.e. markers_conditional['marker']['speaker'] =\n",
    "      P(T_marker^speaker|T_marker^otherspeaker)\n",
    "    \"\"\"\n",
    "    # count dictionaries to return\n",
    "    turns = {'A':0, 'B':0}                   # number of turns\n",
    "    markers = {marker_type:{'A':0, 'B':0} for marker_type in marker_words.keys()}  # num words in marker_word list\n",
    "    markers_conditional = {marker_type:{'A':0, 'B':0} for marker_type in marker_words.keys()}\n",
    "    # entry A contains C(m in A|m in B) and vice versa\n",
    "    # helper dicts\n",
    "    markers_prev = {marker_type:{'A':False, 'B':False} for marker_type in marker_words.keys()}\n",
    "    cur_speaker = 'A'\n",
    "    words_turn = []\n",
    "    # make set of marker_words\n",
    "    marker_words = {marker_type:set(marker_words[marker_type]) for marker_type in marker_words}\n",
    "    # loop over utterances\n",
    "    for utt in transcript.utterances:\n",
    "        if utt.caller == cur_speaker:\n",
    "            # turn did not change, update words\n",
    "            words_turn += utt.pos_words()\n",
    "        else:\n",
    "            # speaker changed, check for backchannels and\n",
    "            # fragments, that are not considered turn changes\n",
    "            if utt.damsl_act_tag() in ['b', 'x']:\n",
    "                continue\n",
    "            for marker_type in marker_words:\n",
    "                # turn changed, test if markers were in turn to update counts\n",
    "                if marker_words[marker_type].intersection(set([word.lower() for word in words_turn])) != set([]):\n",
    "                    markers_prev[marker_type][cur_speaker] = True\n",
    "                    markers[marker_type][cur_speaker] += 1\n",
    "                    if markers_prev[marker_type][utt.caller] == True:                    \n",
    "                        markers_conditional[marker_type][cur_speaker] += 1\n",
    "                else:\n",
    "                    markers_prev[marker_type][cur_speaker] = False\n",
    "                # update counts and change speaker increase number of turns\n",
    "            words_turn = utt.pos_words()\n",
    "            cur_speaker = utt.caller\n",
    "            turns[cur_speaker] +=1\n",
    "    # process last turn  \n",
    "    turns[cur_speaker]+=1\n",
    "    for marker_type in marker_words:\n",
    "        if marker_words[marker_type].intersection(set(words_turn)) != set([]):\n",
    "            #print('set of words_turn: {}'.format(set(words_turn)))\n",
    "            # if last utterance was a single backchannel, process last turn\n",
    "            markers[marker_type][cur_speaker] += 1\n",
    "            if markers_prev[marker_type][cur_speaker] == True:\n",
    "                markers_prev[marker_type][cur_speaker] += 1        \n",
    "    return(turns, markers, markers_conditional)\n",
    "\n",
    "corpus = CorpusReader('swda_time', 'swda_time/swda-metadata-ext.csv')\n",
    "# dictionary with all types of markers to process at once\n",
    "markers = {'articles':articles, 'auxiliary_verbs':auxiliary_verbs, 'conjunctions':conjunctions, 'adverbs':adverbs,\n",
    "          'impersonal_pronouns':impersonal_pronouns, 'personal_pronouns':personal_pronouns, \n",
    "           'prepositions':prepositions, 'quantifiers':quantifiers}\n",
    "def compute_D(corpus, markers, condition_tester):\n",
    "    \"\"\"\n",
    "    Computes D statistic (average C_m(A, B) across conversations) only for conversations that pass a given condition\n",
    "    :param corpus: Corpus object from which to retrieve the transcripts\n",
    "    :param markers: Dictionary[str, List[str]]. A dictionary mapping marker type names to the list of words that\n",
    "    comprise the category\n",
    "    :param condition_tester: Dictionary[str, callable]. A dictionary defining how many splits of D are required.\n",
    "    Each split is identified by the keys (which in turn will be the keys of D) and the value is a callable \n",
    "    following signature f(transcript) -> bool. D[key] will only be populated with data from transcripts for which\n",
    "    condition_tester[key](transcript) is true\n",
    "    \"\"\"\n",
    "    D = defaultdict(lambda: [])  # here we'll store the D for each transcript\n",
    "    for transcript in corpus.iter_transcripts(display_progress=True):  # compute C_mAB/BA for each transcript\n",
    "        for split in condition_tester:\n",
    "            if condition_tester[split](transcript) == True:\n",
    "                n_turns, marginal_p, conditional_p = get_frequency_info_all_markers(markers, transcript)\n",
    "                C_mAB = defaultdict(lambda:0)\n",
    "                C_mBA = defaultdict(lambda:0)\n",
    "                for marker_type in markers:  # consider all markers for which A and B uttered them at least once\n",
    "                    if marginal_p[marker_type]['A'] > 0 and marginal_p[marker_type]['B'] > 0:\n",
    "                        PA = float(n_markers[marker_type]['A'])/n_turns['A']\n",
    "                        PAB = float(conditional_p[marker_type]['A'])/marginal_p[marker_type]['B']\n",
    "                        C_mAB[marker_type] = PAB - PA\n",
    "                        PB = float(n_markers[marker_type]['B'])/n_turns['B']\n",
    "                        PBA = float(conditional_p[marker_type]['B'])/marginal_p[marker_type]['A']\n",
    "                        C_mBA[marker_type] = PBA - PB\n",
    "                # now store in D the average C_mAB - C_mBA for all m for which they are defined\n",
    "                D[split].append(np.mean([C_mAB[marker_type] - C_mBA[marker_type] for marker_type in C_mAB]))  # or C_mAB, same keys\n",
    "    return D\n",
    "#f = lambda x: True\n",
    "D = compute_D(corpus=corpus, markers=markers, condition_tester={'all': lambda x: True})"
=======
    "# Compute the significance of the outcome\n",
    "data = []\n",
    "for i in range(len(markers)):\n",
    "    data.append(marker_coordination[i])\n",
    "    print(\"Average coordination of marker class {}: {} \\n\\tvariance: {} \\tsample size:{}\\n\".format(markers_names[i], np.mean(data[i]), np.var(data[i]), len(data[i])))"
>>>>>>> 7ebee7513e76d7392e8e7744bafd0fba08d7caac
   ]
  },
  {
   "cell_type": "code",
<<<<<<< HEAD
   "execution_count": 59,
   "metadata": {
    "collapsed": false
   },
   "outputs": [
    {
     "data": {
      "text/plain": [
       "<matplotlib.text.Text at 0x7feb42f38810>"
      ]
     },
     "execution_count": 59,
     "metadata": {},
     "output_type": "execute_result"
    },
    {
     "data": {
      "image/png": "iVBORw0KGgoAAAANSUhEUgAABIEAAAK9CAYAAACzXnwtAAAABHNCSVQICAgIfAhkiAAAAAlwSFlz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\nAABJRU5ErkJggg==\n",
      "text/plain": [
       "<matplotlib.figure.Figure at 0x7feb424239d0>"
      ]
     },
     "metadata": {},
     "output_type": "display_data"
    }
   ],
   "source": [
    "# let's plot D to see how it is distributed\n",
    "# dictionary for colors\n",
    "plt.figure(figsize=(14,8))\n",
    "mean = np.mean(D['all'])\n",
    "plt.axvline(x=mean, ymin=0, ymax=0.9, label='mean', color='red')\n",
    "n, bins, patches = plt.hist(D['all'], 200, histtype='step', normed=True, color='blue')\n",
    "plt.axis([-5, 5, 0, 3])\n",
    "plt.title(\"Difference of coordinations\")\n",
    "plt.xlabel(\"Coordination values\")\n",
    "plt.ylabel(\"Relative Frequency\")\n",
    "#labels = ['Backchannel (b)', 'Appreciation (ba)', 'Conventional-closing (fc)', 'Conventional-opening (fp)']\n",
    "#plt.legend(labels, title=\"Turn-taking utterance is\")"
=======
   "execution_count": 87,
   "metadata": {},
   "outputs": [
    {
     "data": {
      "text/html": [
       "<div>\n",
       "<style>\n",
       "    .dataframe thead tr:only-child th {\n",
       "        text-align: right;\n",
       "    }\n",
       "\n",
       "    .dataframe thead th {\n",
       "        text-align: left;\n",
       "    }\n",
       "\n",
       "    .dataframe tbody tr th {\n",
       "        vertical-align: top;\n",
       "    }\n",
       "</style>\n",
       "<table border=\"1\" class=\"dataframe\">\n",
       "  <thead>\n",
       "    <tr style=\"text-align: right;\">\n",
       "      <th></th>\n",
       "      <th>articles</th>\n",
       "      <th>auxiliary_verbs</th>\n",
       "      <th>conjunctions</th>\n",
       "      <th>adverbs</th>\n",
       "      <th>impersonal_pronouns</th>\n",
       "      <th>personal_pronouns</th>\n",
       "      <th>prepositions</th>\n",
       "      <th>quantifiers</th>\n",
       "    </tr>\n",
       "  </thead>\n",
       "  <tbody>\n",
       "    <tr>\n",
       "      <th>articles</th>\n",
       "      <td>0.000000e+00</td>\n",
       "      <td>1.759761e-01</td>\n",
       "      <td>8.958636e-04</td>\n",
       "      <td>2.237924e-01</td>\n",
       "      <td>4.687250e-26</td>\n",
       "      <td>4.552054e-01</td>\n",
       "      <td>3.311540e-03</td>\n",
       "      <td>1.758404e-03</td>\n",
       "    </tr>\n",
       "    <tr>\n",
       "      <th>auxiliary_verbs</th>\n",
       "      <td>1.759761e-01</td>\n",
       "      <td>0.000000e+00</td>\n",
       "      <td>2.441467e-07</td>\n",
       "      <td>7.914695e-01</td>\n",
       "      <td>3.277781e-25</td>\n",
       "      <td>4.197330e-01</td>\n",
       "      <td>1.216338e-06</td>\n",
       "      <td>2.957847e-02</td>\n",
       "    </tr>\n",
       "    <tr>\n",
       "      <th>conjunctions</th>\n",
       "      <td>8.958636e-04</td>\n",
       "      <td>2.441467e-07</td>\n",
       "      <td>0.000000e+00</td>\n",
       "      <td>9.308909e-08</td>\n",
       "      <td>2.987072e-51</td>\n",
       "      <td>1.294142e-06</td>\n",
       "      <td>5.628398e-01</td>\n",
       "      <td>4.538461e-10</td>\n",
       "    </tr>\n",
       "    <tr>\n",
       "      <th>adverbs</th>\n",
       "      <td>2.237924e-01</td>\n",
       "      <td>7.914695e-01</td>\n",
       "      <td>9.308909e-08</td>\n",
       "      <td>0.000000e+00</td>\n",
       "      <td>4.725811e-31</td>\n",
       "      <td>5.472966e-01</td>\n",
       "      <td>4.614804e-07</td>\n",
       "      <td>1.269698e-02</td>\n",
       "    </tr>\n",
       "    <tr>\n",
       "      <th>impersonal_pronouns</th>\n",
       "      <td>4.687250e-26</td>\n",
       "      <td>3.277781e-25</td>\n",
       "      <td>2.987072e-51</td>\n",
       "      <td>4.725811e-31</td>\n",
       "      <td>0.000000e+00</td>\n",
       "      <td>4.977563e-34</td>\n",
       "      <td>5.291313e-53</td>\n",
       "      <td>2.360003e-09</td>\n",
       "    </tr>\n",
       "    <tr>\n",
       "      <th>personal_pronouns</th>\n",
       "      <td>4.552054e-01</td>\n",
       "      <td>4.197330e-01</td>\n",
       "      <td>1.294142e-06</td>\n",
       "      <td>5.472966e-01</td>\n",
       "      <td>4.977563e-34</td>\n",
       "      <td>0.000000e+00</td>\n",
       "      <td>6.518817e-06</td>\n",
       "      <td>3.639570e-03</td>\n",
       "    </tr>\n",
       "    <tr>\n",
       "      <th>prepositions</th>\n",
       "      <td>3.311540e-03</td>\n",
       "      <td>1.216338e-06</td>\n",
       "      <td>5.628398e-01</td>\n",
       "      <td>4.614804e-07</td>\n",
       "      <td>5.291313e-53</td>\n",
       "      <td>6.518817e-06</td>\n",
       "      <td>0.000000e+00</td>\n",
       "      <td>2.198877e-09</td>\n",
       "    </tr>\n",
       "    <tr>\n",
       "      <th>quantifiers</th>\n",
       "      <td>1.758404e-03</td>\n",
       "      <td>2.957847e-02</td>\n",
       "      <td>4.538461e-10</td>\n",
       "      <td>1.269698e-02</td>\n",
       "      <td>2.360003e-09</td>\n",
       "      <td>3.639570e-03</td>\n",
       "      <td>2.198877e-09</td>\n",
       "      <td>0.000000e+00</td>\n",
       "    </tr>\n",
       "  </tbody>\n",
       "</table>\n",
       "</div>"
      ],
      "text/plain": [
       "                         articles  auxiliary_verbs  conjunctions  \\\n",
       "articles             0.000000e+00     1.759761e-01  8.958636e-04   \n",
       "auxiliary_verbs      1.759761e-01     0.000000e+00  2.441467e-07   \n",
       "conjunctions         8.958636e-04     2.441467e-07  0.000000e+00   \n",
       "adverbs              2.237924e-01     7.914695e-01  9.308909e-08   \n",
       "impersonal_pronouns  4.687250e-26     3.277781e-25  2.987072e-51   \n",
       "personal_pronouns    4.552054e-01     4.197330e-01  1.294142e-06   \n",
       "prepositions         3.311540e-03     1.216338e-06  5.628398e-01   \n",
       "quantifiers          1.758404e-03     2.957847e-02  4.538461e-10   \n",
       "\n",
       "                          adverbs  impersonal_pronouns  personal_pronouns  \\\n",
       "articles             2.237924e-01         4.687250e-26       4.552054e-01   \n",
       "auxiliary_verbs      7.914695e-01         3.277781e-25       4.197330e-01   \n",
       "conjunctions         9.308909e-08         2.987072e-51       1.294142e-06   \n",
       "adverbs              0.000000e+00         4.725811e-31       5.472966e-01   \n",
       "impersonal_pronouns  4.725811e-31         0.000000e+00       4.977563e-34   \n",
       "personal_pronouns    5.472966e-01         4.977563e-34       0.000000e+00   \n",
       "prepositions         4.614804e-07         5.291313e-53       6.518817e-06   \n",
       "quantifiers          1.269698e-02         2.360003e-09       3.639570e-03   \n",
       "\n",
       "                     prepositions   quantifiers  \n",
       "articles             3.311540e-03  1.758404e-03  \n",
       "auxiliary_verbs      1.216338e-06  2.957847e-02  \n",
       "conjunctions         5.628398e-01  4.538461e-10  \n",
       "adverbs              4.614804e-07  1.269698e-02  \n",
       "impersonal_pronouns  5.291313e-53  2.360003e-09  \n",
       "personal_pronouns    6.518817e-06  3.639570e-03  \n",
       "prepositions         0.000000e+00  2.198877e-09  \n",
       "quantifiers          2.198877e-09  0.000000e+00  "
      ]
     },
     "execution_count": 87,
     "metadata": {},
     "output_type": "execute_result"
    }
   ],
   "source": [
    "# Print results for t-test\n",
    "t_test_results = np.zeros([len(markers), len(markers)])\n",
    "\n",
    "for i in range(len(data)-1):\n",
    "    for j in range(i+1, len(data)):\n",
    "        results = scipy.stats.ttest_ind(data[i], data[j], equal_var=False)\n",
    "        t_test_results[i][j] = results[1]\n",
    "        t_test_results[j][i] = results[1]\n",
    "\n",
    "import pandas as pd\n",
    "pd.DataFrame(t_test_results, columns=markers_names, index=markers_names)"
>>>>>>> 7ebee7513e76d7392e8e7744bafd0fba08d7caac
   ]
  },
  {
   "cell_type": "markdown",
   "metadata": {},
   "source": [
<<<<<<< HEAD
    "## Influence of demographic variables on coordination\n",
    "\n",
    "** Question 5 (25 points)** \n",
    "\n",
    "Pick a demographic variable (e.g. age, gender, education) and test if there is a significant difference in coordination. Plot the coordination values and provide a statistical analysis of your result.\n",
    "\n",
    "Answer:\n",
    "We decided to check the D statistic for male-male conversations and female-female conversations separately. The results show that female-female conversations have bigger values than male-male, reflected both in the mode and the mean. The difference is significant with p value equal to 2.7168e-07"
=======
    "**Answer:**"
>>>>>>> 7ebee7513e76d7392e8e7744bafd0fba08d7caac
   ]
  },
  {
   "cell_type": "markdown",
   "metadata": {},
   "source": [
<<<<<<< HEAD
    "*Provide analysis of results*"
=======
    "**Question 3 (20 points)**\n",
    "\n",
    "Choose three speakers that participated in at least 10 telephone conversations and compute their coordination on 3 different markers (consider markers for which there is sufficient information) for all conversations they participated in."
>>>>>>> 7ebee7513e76d7392e8e7744bafd0fba08d7caac
   ]
  },
  {
   "cell_type": "code",
<<<<<<< HEAD
   "execution_count": 76,
   "metadata": {
    "collapsed": false
   },
=======
   "execution_count": 89,
   "metadata": {},
>>>>>>> 7ebee7513e76d7392e8e7744bafd0fba08d7caac
   "outputs": [
    {
     "name": "stderr",
     "output_type": "stream",
     "text": [
      "transcript 645\n"
     ]
    }
   ],
   "source": [
<<<<<<< HEAD
    "# Plot results\n",
    "# first let's gather the data to plot\n",
    "D_gender = compute_D(corpus=corpus, markers=markers, condition_tester={'female': lambda t: \n",
    "                                                                t.from_caller_sex == t.to_caller_sex and \n",
    "                                                               t.from_caller_sex == 'FEMALE',\n",
    "                                                                'male': lambda t:\n",
    "                                                                t.from_caller_sex == t.to_caller_sex and\n",
    "                                                               t.from_caller_sex == 'MALE'})"
=======
    "callers = defaultdict(lambda: list())\n",
    "\n",
    "for transcript in corpus.iter_transcripts():\n",
    "    callers[transcript.from_caller_id].append(transcript.swda_filename)\n",
    "    callers[transcript.to_caller_id].append(transcript.swda_filename)\n",
    "    "
>>>>>>> 7ebee7513e76d7392e8e7744bafd0fba08d7caac
   ]
  },
  {
   "cell_type": "code",
<<<<<<< HEAD
   "execution_count": 84,
   "metadata": {
    "collapsed": false
=======
   "execution_count": 90,
   "metadata": {},
   "outputs": [
    {
     "name": "stdout",
     "output_type": "stream",
     "text": [
      "Caller 1533 recorded 12 conversations\n",
      "Caller 1533 coordination w.r.t. other speakers in marker class conjunctions: -0.00701394306951 \n",
      "\tvariance: 0.00698947004227 \tsample size:11\n",
      "\n",
      "Caller 1533 coordination w.r.t. other speakers in marker class impersonal_pronouns: 0.0356275097774 \n",
      "\tvariance: 0.00952752902715 \tsample size:11\n",
      "\n",
      "Caller 1533 coordination w.r.t. other speakers in marker class prepositions: -0.0158419592922 \n",
      "\tvariance: 0.00541198026266 \tsample size:12\n",
      "\n",
      "Caller 1531 recorded 12 conversations\n",
      "Caller 1531 coordination w.r.t. other speakers in marker class conjunctions: 0.0455096671006 \n",
      "\tvariance: 0.0180027321146 \tsample size:11\n",
      "\n",
      "Caller 1531 coordination w.r.t. other speakers in marker class impersonal_pronouns: 0.00193507472919 \n",
      "\tvariance: 0.00765762078195 \tsample size:12\n",
      "\n",
      "Caller 1531 coordination w.r.t. other speakers in marker class prepositions: -0.0131062119698 \n",
      "\tvariance: 0.0126041291637 \tsample size:11\n",
      "\n",
      "Caller 1190 recorded 11 conversations\n",
      "Caller 1190 coordination w.r.t. other speakers in marker class conjunctions: -0.126348928071 \n",
      "\tvariance: 0.0130606614555 \tsample size:10\n",
      "\n",
      "Caller 1190 coordination w.r.t. other speakers in marker class impersonal_pronouns: -0.0205128599519 \n",
      "\tvariance: 0.015928011015 \tsample size:10\n",
      "\n",
      "Caller 1190 coordination w.r.t. other speakers in marker class prepositions: -0.0511524611021 \n",
      "\tvariance: 0.00739863516074 \tsample size:11\n",
      "\n"
     ]
    }
   ],
   "source": [
    "markers = [conjunctions, impersonal_pronouns, prepositions]\n",
    "markers_names = ['conjunctions', 'impersonal_pronouns', 'prepositions']\n",
    "\n",
    "callers_sorted = sorted(calers, key=lambda k: len(callers[k]), reverse=True)\n",
    "\n",
    "data = defaultdict(lambda: list())\n",
    "\n",
    "for i in range(3):\n",
    "    caller_id = callers_sorted[i]\n",
    "    transcripts = callers[caller_id]\n",
    "    print(\"Caller {} recorded {} conversations\".format(caller_id, len(transcripts)))\n",
    "    \n",
    "    marker_coordination = defaultdict(lambda : list())\n",
    "    marker_counter = defaultdict(lambda : 0)\n",
    "    \n",
    "    for transcript_file in transcripts:\n",
    "        transcript = Transcript(transcript_file, 'swda_time/swda-metadata-ext.csv')\n",
    "        if transcript.from_caller_id == caller_id:\n",
    "            speaker = 'A'\n",
    "        else: \n",
    "            speaker = 'B'\n",
    "    \n",
    "        alignments = compute_coordination(transcript, speaker, markers)\n",
    "        for marker_id, alignment in enumerate(alignments):\n",
    "            if alignment:\n",
    "                marker_coordination[marker_id].append(alignment)\n",
    "                \n",
    "    for i in range(len(markers)):\n",
    "        data[caller_id].append(marker_coordination[i])\n",
    "        print(\"Caller {} coordination w.r.t. other speakers in marker class {}: {} \\n\\tvariance: {} \\tsample size:{}\\n\".format(caller_id, markers_names[i], np.mean(data[caller_id][i]), np.var(data[caller_id][i]), len(data[caller_id][i])))"
   ]
  },
  {
   "cell_type": "code",
   "execution_count": 91,
   "metadata": {
    "scrolled": false
>>>>>>> 7ebee7513e76d7392e8e7744bafd0fba08d7caac
   },
   "outputs": [
    {
     "data": {
<<<<<<< HEAD
      "text/plain": [
       "<matplotlib.legend.Legend at 0x7feb42728c90>"
      ]
     },
     "execution_count": 84,
     "metadata": {},
     "output_type": "execute_result"
    },
    {
     "data": {
      "image/png": "iVBORw0KGgoAAAANSUhEUgAABIEAAAK9CAYAAACzXnwtAAAABHNCSVQICAgIfAhkiAAAAAlwSFlz\nAAAPYQAAD2EBqD+naQAAIABJREFUeJzs3Xm4XVV9N/DvL2GMSBgCEmUyiAxqlQQEFSyDYKn6QhFR\nBgW0VNCqBSM4VIugTCLghKKVweILUsFX6wRWRUBBMJGCCAVBhCoEAQlFRCCs949zEm9ubqabc3OT\nnM/nec5z2eusvfdv77PPA+fL2mtXay0AAAAArNjGjHYBAAAAAIw8IRAAAABAHxACAQAAAPQBIRAA\nAABAHxACAQAAAPQBIRAAAABAHxACAQAAAPQBIRAAAABAHxACAQAAAPQBIRAAQFdVXVVVlw1Y3qyq\nnqqqA0apnr/v7v+Zo7F/5lVV/1NVnx/tOgBgOIRAANADVfW27o/1q0e7FpZIW8S2nqqqD1TVa+az\n7xHfP4vF5wHAcksIBAC9cUCSXyd5cVVNGu1i6I3W2u1JVm+t/d8R3tU/JxkqBDq7u//fjfD+AYA+\nIAQCgCVUVc9O8tIkRyW5P8mBo1RHVdWqo7Hv5UVVrb6467TWHh+JWhZx32009z/Sqmq10a5hNFXV\nSlW10mjXAUD/EAIBwJI7MMmDSb6V5KsZFAJV1SpV9VBVnTV4xapaq6r+XFUnDGhbtaqOq6pfVdVj\nVfWbqjqxqlYe0Gds9/az06rqjVV1U5LHkuzWff+YqvpxVT1QVY9W1XVVtfcQ+1+9qj5dVfdX1cNV\ndUlVbdTd9vsH9X1WVZ1bVfd267qxqg5e1JNUVW+qqmur6o/dui6vql0H9XlHVd3U3f5vq+qTVbXm\nENt6Q1VNr6o/VdV9VXVeVW0wqM/5VfWHqnpOVX2nqh5Oct6A94+oqtu75+fqqnrpEPuZZ06gAdvd\nsKq+UVX/263hpCHWX+DnMPtzTLJKktnz/zw1e86Z+c0JtCjnqTu/0fSqel5V/bC7//+pqqPm+yEN\nqmvA9fXf3XN97XzO00KvjararbvNfavqhKr6nySPVNW4BdSxblV9uapmVtWDVfXFqtpm8GfS7btV\nVV084FxfW1V/O6jP7PO5fVWdUVW/r6pHquqrVbX2oL5VVR/qnrNHquo/q2rL+dS5VvczuKt7/LdW\n1dRBfWZfS++qqqOq6vYkf0ry3PkdPwD0mv/zAABL7oAkF7fWnqyqC5IcXlVTWmvTks5Ikqr6f0n+\nrqqOaK09NWDdfdL59/EFSeeHZzph0ouTfC7JrUlemOTdSTZLst+gfb8yyRuSfCadIOqubvs7k1yc\n5Px0AoYDklxcVXu21i4bsP75SfZOcm6S65LsmuQbGTTvSTdguTbJ40k+meSBJH+b5Jyqelpr7cwF\nnaCqOj7JB5JcmeSDSZ5Isn2SXZL8oNvnI0nen+S73ePZKsnbkkypqp1mn7eq+vskn09yTZKjk0xM\n8k9JXlpV27TWHunutiVZOcmlSX6YzkitP3a38dbuPq5Iclr33P5HkoeS3L6gY+lud6Ukl3WP591J\n9kjynqq6rbX2xQF9F/g5tNZmVdVBSc5JclWS2ev+asC+Bn8Wi3SeuutNSPKdJBcluTCd6+djVfVf\nrbXvL+Q4k06oeEA6n/kTSd6e5NKq2ra19t/dehb32jg2nfDjlCSrd7c7j6oa0639Rd3jvC2da/Xs\nIc7JC9L5LH6T5MQkjyZ5fZJvVNXerbVvDjgnSXJmOqP2PpRkUjrXz5+SvHHAZk9Ickw634dLk2yb\nzmc+12iyboh1ZZL10/nO/k+SHZOcUlXrt9aOHnRoh6VzXX6ue84eGur4AWBEtNa8vLy8vLy8hvlK\nMiXJU0l2GdB2V5LTBvXbM8msJHsMav9ukpsHLB+Szo/iFw/q97bu+tt2l8d29/t4kucMUdeqg5ZX\nSnJTku8MaNuuu42TBvX9Undf7x/Qdm73uMYP6ntROj+mV17AOXpud3sXLKDPM7rH8o1B7e/srntg\nd3mVJL9PMm3gPpP8n+6xfGBA27911z120DZX7m7jp0nGDmh/a3cblw1o26zbdsAQ2z160HavT/KT\nxf0cuu1/SvL5Ic7LW7r7eubinKdu25Xdtv0GtK2SZEaS/7uQ63r29fVkkucPaN8knRFnFy7utZFO\noPRUklsWdL0MWH+/bv/DB7X/sHtcAz+Ty5P8bODn2W2/JskvBp3Pp5J8a1C/T3TP67ju8vrd5YsH\n9Tupu/7nB7Qdm2Rmkk0H9T0lyZ+TbDDoWnogyVoLO34vLy8vL6+ReLkdDACWzIFJ7k3nR+hsX0ny\nhu6ontm+l87/8X/97IaqWjedkTcXDui3b5Ibk9zevRVm3W6/HyapdEbODPT91tqvBrWltfbnAftZ\nK8la6Yw0mTyg29+kMzLis4NW/1R3X7PXryR/l+TrSVYaVNdlSdZOZ7TG/OzT/XvcAvrsnk7wcMag\n9rPSGb3zqu7y9knWTfKZ1tqcESSttW+kM3rmVZnX5wYtz97GZ1trswa0n53kfxdQ42CDHxN+VTqj\nSuZYxM9hcSzqeZptZmvtogH1PJ7OiK9Fnbz8ytbaLwas/5t0Rkz9TTLsa+OcgZ/dArwyncDp7EHt\nZ2bu63NCkpenEzqtNaCGCemM4NmqqtYbsH5L53zNdZzpnNeNu8t7dJc/Najf4POedL6zlyf530HH\n/5/pBI47Dep/UWvN6B8ARoXbwQBgmLq3q7w+nYBm0oDM59p0bhHaLZ0fgmmdW8UuSbJPVb21tfZk\nOj8ex6bz43W2zZM8J52RKoO1dEYoDHTnfGr7P+ncMvTCJAMnix44yfAmSZ7s/rAfaHCotEGSp6cz\nGunti1jXQJPSGbnx3wvos0n3761zbbi1P1fVnQPe37i7v7n6dd2Szsisgf7cWrt3iH21DDrO1toT\n3X0tikeG+CH/h3RCjzkW8XNYHIt6nma7e4ht/CGd62xRzBMwdve9T1Wtk84xLe61ceci7nuTJL9t\n806MPbim2cdyYjojdeZXw8Dv1ODz8ofu39mf3+zzOPgaubeqBgeFm6dzS94SfWcBYGkQAgHA8O2a\nznw0b0iy/6D3WjqjhP5zQNuF6dyOskeSb6dzu8tNrbWbB/QZk85tRVMzYLTDAHcNWv7T4A5VtUuS\nr6Uz187h6YxUeiKduUheuwjHNdjskcPnpTO3zVD+axjbXRoeG6HtzppP+8ARKr3+HIZjoXUuoeFc\nG/Ncsz2q4eTM/X0b6NeDlnt5Xiqd2zo/Pp/3B4efvT5+AFhkQiAAGL6D0plf5W2Z98fja9OZCPrw\nAbcE/TDJfUleX1U/S+cWlg8NWu/2JFu01n64BHXtk86tQX8z8Han7mTIA/0mnVt4Nhk0GmjwKJF7\nu9sb01r7wTDquT2dEU9bJvnlfPrM3v8W6UysO7vmVZJsmuSbA/pVt99Vg7axxYDtLMjsbWw+cBvV\nefrapul8pr2wqJ9DMmii4wVY1PPUK0ONGNoiyf+21h6sqrFZsmtjQX6TzmTfqwwaDTS4ptkTeT/e\nwxpmn+fNM/d5nj0qbqA7kjxtBI4fAHrOnEAAMAxVtVo6c6H8R2vta621Swa+knw6yZrpTFicJGmd\npzZdnGSvdAKkMZn7VrB0lzepqkOH2OfqVbX64PYhzEpnAtqxA9adlOQ1g/pdmk4Y8rZB7e/IgFCi\nG2B8Lcl+VbXVEHVNWEg9X+v+/ZdB8yQN9L1u3e8c1P7WJE/LX8KNa9OZWPeIqprzP7Oq6jXp/GBf\nlBDkp+k8Se3wbogx299n3h/4S2JRP4ekE6SstQjbXNTz1Cs7VtVfzV6oqk2TvDqdkS/DuTYWNexK\nOtfnaumMnpu9vdnX68Dr8950wrwjqmqe2xIX4focyuzz/I5B7UcO0feiJDtV1a5D7HutQdcYAIwq\nI4EAYHj2Sicw+MZ83r8mnTlCDkzy7wPav5LkiCT/kuTnrbXBjyM/N8nrknyhql6R5Cfp/Pt6q277\nLkluWEht30onJLi0+8j6ien8cP7vJM+b3am1dm1VfT3J1O7Eudd1t7/Z7C4Dtnl0OiOXrq2qLyS5\nOck66Tw2e6d05g0aUmvt1qo6Kcl7k/yoqv5fOnPibJfkN621D7XWZlTVyUneX1XfTifM2Cqd26iu\nTnfy7Nba41X13nQmZb6ie3zP7B7vr9J5RPkCdef++WA6Qd0Pq+or6czD9KZ0RnX0yiJ9Dl3TkuxR\nVf+U5J4kt7fWfjZE7Yt0nnropiSXVdWn0nlS2Nu6fz88oM/iXBuLc7vVV9M5L5+oqi3SmYto7/wl\nqBt4fR6R5Iokv+jW8Ot0nqT2snTm5Nl2EWqY0949z6en8934RjqPqt82ySvSCRAHOjmdYO87VXVO\nkp8nWSPJX6UzGuxZSR5e9MMGgJEjBAKA4TkgyaOZzxwkrbVWVd9KckBVrd1amz3x7JVJfpdOIDDP\nD/bW2lNV9ep0JpZ+Y/5yS9Ht6cw5MjA0ahliZEVr7XtVdVg6P87PSCfYeHc6t/EMDh8OSPKxdOY1\nem33eA5M57atxwZs896q2i6d8GqfdH7YP5DkF0mOGeocDKrpA1X1qyT/mOQj6Zy7/0pyzoA+H6yq\nGen8oD+tu/0zk/xzdxTV7H5frKpHusd3cpJH0gna3ttae2TwrudTz2e7g5Kmdo//+nRGuJw8xDpD\nbWN+I1oGjlBZnM/hn9J5itlHkqye5IvpPPJ8qNoX6Twtap0L8f0k09O5bXHDdJ5ct//AeawW89pY\n5JFA3e/Cnuk8vv3QdMKnryU5PsmPMvf1eVNVbZvO49oPTWeC5/vSCWSOX8Qa5mpvrR1TVX9MZ5TV\nrumEbHukM0po4Of8x6raMckH0pns/eB0Hhl/a5J/Tuf6HLiPxRkNBQA9Va359xAA8BfdH9PXJnl9\na+3fF9afFU/3FqYnkpzRWjtqtOsZqKr2TWdE3Q6ttetGux4AWJ6M+pxAVXV4Vf1XVc3svn5SVX+z\nkHV2rqppVfVYVd1aVQcvrXoBYEXSndtosHelMx/KlUu5HJjL4OuzqsakM5rsoXRGbwEAi2FZuB3s\n7nSGCt+Wzr3YhyT5elW9aNAjc5PMmZDwm+kMez4gnXuz/7Wqftda+95SqhkAVhTv6078e3k6kxi/\nKsnuST7TnXAXRtOZ3QnAf5rOJNH7Jnlxkve01p4Y1coAYDm0TN4OVlUPJJnaWjtniPdOTrJna23g\nkyouSDK+tfa3S7FMAFjuVdUr05m3ZOt0ni51VzqTU5/YlsX/SGCp6N4O9ng6t4O9exTrODCdJ3Jt\nlk4IdFs6AeVZo1UTACzPlqkQqDvEd790JoncprV2yxB9fpRk2sD706vqkCSnt9bWXlq1AgAAACxP\nloXbwVJVz0/niQurJfnfJH83VADUtUGSGYPaZiRZs6pWba39eeQqBQAAAFg+LRMhUJJbkrwwyfh0\n7vX+UlW9fAFB0GKrqnWTvDLJnRnwSFEAAACA5dxqSTZNcmlr7YH5dVomQqDW2pNJ7ugu/ryqXpzO\nk0mOGKL7vUmeMajtGUkeXsgooFcm+fKS1goAAACwjDowyf+d35vLRAg0hDFJVp3Pe1cn2XNQ2x7d\n9gW5M0nOP//8bLXVVktUHEvHkUcemdNPP320y4AVlu8YjCzfMRhZvmMwsnzHli8333xzDjrooKSb\nfczPqIdAVXVCku+k8zSSp6eTWv11OsFOqurEJM9srR3cXeVzSd7efUrY2Ul2S+cWsoU9GeyxJNlq\nq60yefLkXh8GI2D8+PE+KxhBvmMwsnzHYGT5jsHI8h1bbi1w+ptRD4GSrJ/kvCQTk8xMckOSPVpr\nP+i+v0GSjWZ3bq3dWVWvSnJ6kncm+Z8kb2mt/edSrRoAAABgOTLqIVBr7e8X8v6hQ7RdkWTKiBUF\nAAAAsIIZM9oFAAAAADDyhEAss/bff//RLgFWaL5jMLJ8x2Bk+Y7ByPIdWzFVa220a1gqqmpykmnT\npk0zuRUAAAArrLvuuiv333//aJdBD02YMCEbb7zxfN+fPn16pkyZkiRTWmvT59dv1OcEAgAAAHrj\nrrvuylZbbZVHH310tEuhh8aNG5ebb755gUHQohACAQAAwAri/vvvz6OPPprzzz8/W2211WiXQw/c\nfPPNOeigg3L//fcLgQAAAIC5bbXVVqZCYR4mhgYAAADoA0IgAAAAgD4gBAIAAADoA0IgAAAAgD4g\nBAIAAACWe4ceemj22Wef0S5jmSYEAgAAAOgDQiAAAACAJLNmzRrtEkaUEAgAAADomUceeSQHHnhg\n1lhjjWy00Ub51Kc+lV122SVHHXVUkuTxxx/P1KlTs+GGG2aNNdbIS17ykvzoRz+as/55552Xtdde\nO5dddlm23nrrPP3pT8+ee+6ZGTNmzOnz1FNP5aijjsraa6+d9dZbL8ccc0xaa3PV0VrLiSeemEmT\nJmXcuHHZZpttcvHFF895/0c/+lHGjBmT7373u9l2222z2mqr5cc//nFuuOGG7LrrrllzzTUzfvz4\nbLfddpk+ffoIn7WlQwgEAAAA9MyRRx6Zq6++Ot/85jdz6aWX5vLLL8/Pf/7zOe+//e1vz09/+tNc\ndNFFufHGG/O6170ue+65Z26//fY5fR599NF8/OMfz5e//OVceeWVueuuuzJ16tQ575966qn50pe+\nlHPPPTdXXXVVHnzwwXzta1+bq44TTjgh559/fj7/+c/nl7/8ZY488si88Y1vzJVXXjlXv/e97305\n+eSTc/PNN+cFL3hBDjzwwGy00UaZNm1apk+fnve+971ZeeWVR+hsLV0rjXYBAAAAwIrhkUceyZe+\n9KVceOGF2XnnnZMk55xzTp75zGcmSe6+++6ce+65ufvuu7PBBhskSY466qh85zvfyTnnnJOPfOQj\nSZInn3wyZ511VjbddNMkyT/+4z/m+OOPn7OfT3ziE3n/+9+fvfbaK0nyuc99Lpdeeumc9x9//PGc\neOKJ+f73v5/tt98+SbLpppvmyiuvzFlnnZWddtppTt/jjz8+u+2225zlu+66K0cffXQ233zzJMlm\nm23Wy1M0qoRAAAAAQE/ccccdefLJJ7PddtvNaVtzzTWzxRZbJEluvPHGzJo1K8997nPnun3r8ccf\nz4QJE+Ysjxs3bk4AlCQTJ07MfffdlyR5+OGHc8899+TFL37xnPfHjh2bbbfdds7yr371qzz66KPZ\nfffd59rPE088kcmTJ89ZrqpMmTJlrmM46qij8pa3vCVf+tKX8opXvCKve93rMmnSpOGekmWKEAgA\nAABYKh555JGstNJKmT59esaMmXuGmjXWWGPOPw++/aqq5pnzZ2H7SZJvf/vbc0YhzbbqqqvOtfy0\npz1truV/+Zd/yYEHHphvfetb+fa3v51jjz02F1544ZxRR8szcwIBAAAAPTFp0qSstNJKue666+a0\nzZw5M7feemuSZJtttsmTTz6ZGTNmZNKkSXO91l9//UXax5prrpmJEyfmpz/96Zy2WbNmZdq0aXOW\nt95666y66qr5zW9+M89+nvWsZy10H895znPyrne9K5deemn+7u/+Luecc86inoJlmpFAAAAAQE+s\nscYaOfjggzN16tQ5T+469thjM3bs2FRVNt988xx44IF505velFNPPTXbbLNN7rvvvvzgBz/IC1/4\nwuy5556LtJ93vetdOemkk/Kc5zwnW265ZU477bQ89NBDc9UxderUHHnkkZk1a1Z23HHHzJw5Mz/+\n8Y8zfvz4vPGNb0ySeUYXPfbYY3nPe96TfffdN89+9rNz991357rrrsvrXve63p2kUSQEAgAAAHrm\n9NNPz+GHH57XvOY1WXPNNXP00Ufn7rvvzmqrrZYkOffcc/ORj3wkU6dOzW9/+9tMmDAhO+ywQ17z\nmtcs8j7e/e535957780hhxySMWPG5M1vfnP22WefzJw5c06f448/Puuvv35OOumk3HHHHVlrrbUy\nefLkvP/975/Tp6rm2u7YsWPzwAMP5OCDD86MGTMyYcKEvPa1r82xxx67ZCdlGVGLc0/d8qyqJieZ\nNm3atLkmgQIAAIAVxfTp0zNlypQsS799H3300TzrWc/KaaedlkMPPXS0y1nuLMpnOrtPkimttenz\n25aRQAAAAEDPXH/99bnlllvy4he/OA899FCOO+64VNUKMbHy8k4IBAAAAPTUqaeemltvvTWrrLJK\npkyZkquuuirrrLPOaJfV94RAAAAAQM+86EUvys9+9rPRLoMheEQ8AAAAQB8QAgEAAAD0ASEQAAAA\nQB8QAgEAAAD0ASEQAAAAQB8QAgEAAAD0ASEQAAAAQB8QAgEAAAAMMGbMmBx33HGjXUbPCYEAAAAA\n+oAQCAAAAKAPCIEAAAAA+oAQCAAAAFguHHvssRkzZkxuu+22HHTQQVlrrbWy/vrr50Mf+lCS5O67\n787ee++d8ePHZ+LEiTnttNPmrPvEE0/kQx/6ULbddtustdZaWWONNfLyl788l19++SLt+3e/+13e\n/OY3Z4MNNshqq62W5z//+TnnnHNG4jBHjBAIAAAAWC5UVZLk9a9/fZLk5JNPzg477JCPfvSjOeOM\nM7LHHntkww03zCmnnJLNN98873nPe3LVVVclSR5++OGcffbZ2WWXXXLKKafkwx/+cO6///78zd/8\nTW644YYF7ve+++7L9ttvnx/84Ad55zvfmU9+8pPZfPPN85a3vCWf/OQnR/age2il0S4AAAAAYHHs\nsMMOOfPMM5Mkhx12WDbddNNMnTo1J510UqZOnZokecMb3pBnPvOZOfvss7Pjjjtm7bXXzp133pmV\nVvpLFHLYYYdliy22yKc+9al84QtfmO/+3v/+96e1luuvvz5rrbVWkuQf/uEfcsABB+TYY4/NW9/6\n1qy66qojeMS9IQQCAACAPvXoo8ktt4zsPrbcMhk3rnfbq6q85S1vmbM8ZsyYbLvttvn617+eN7/5\nzXPax48fny222CJ33HHHnH5jxnRuiGqt5aGHHsqsWbOy7bbbZvr06Qvc5yWXXJLXv/71mTVrVh54\n4IE57XvssUe+8pWvZPr06XnJS17Su4McIUIgAAAA6FO33JJMmTKy+5g2LZk8ubfb3HjjjedaHj9+\nfFZbbbWss84687Q/+OCDc5bPO++8nHbaabnlllvyxBNPzGmfNGnSfPf1+9//Pg899FA+//nP56yz\nzprn/arKfffdN9xDWaqEQAAAANCnttyyE9KM9D56bezYsYvUlnRG/STJ+eefn0MPPTT77LNPjj76\n6Ky//voZO3ZsTjjhhDmjhYby1FNPJUkOOuigHHzwwUP2+au/+qvFPYRRIQQCAACAPjVuXO9H6Syr\nLr744my22Wb56le/Olf77CeLzc96662Xpz/96Zk1a1Z23XXXkSxxxHk6GAAAALDCG2qk0E9/+tNc\nffXVC1xvzJgxee1rX5uLL744N9100zzv33///T2rcaQZCQQAAACs8F796lfnkksuyd57751XvepV\nueOOO3LWWWflec97Xh555JEFrnvSSSfl8ssvz/bbb5/DDjssW2+9dR588MFMmzYtP/jBD5abIEgI\nBAAAACz3qmqB7YccckhmzJiRs846K5dddlm23nrrfPnLX85FF12UK664Yp51Bm5v/fXXz7XXXpvj\njjsuX/va1/LZz3426667bp73vOfllFNOGbmD6rGaPUHSiq6qJieZNm3atEzulxseAQAA6CvTp0/P\nlClT4rfvimNRPtPZfZJMaa3N93n35gQCAAAA6ANCIAAAAIA+IAQCAAAA6ANCIAAAAIA+IAQCAAAA\n6ANCIAAAAIA+IAQCAAAA6ANCIAAAAIA+IAQCAAAA6ANCIABgoR59NJk+vfO3P3YMALDiEQIBAAt1\nyy3JlCmdv/2xYwCAFY8QCAAAAKAPCIEAAACA5cbPfvazvOxlL8saa6yRsWPH5oYbbhjtkuax6aab\n5s1vfvNolzGPlUa7AAAAAIBF8eSTT2bffffNuHHjcsYZZ2TcuHHZZJNNRruseVTVaJcwJCEQAAAA\nsFy4/fbbc9ddd+WLX/xiDj300NEuZ7njdjAAAABguTBjxowkyfjx40e5kuWTEAgAAABY5h166KHZ\neeedU1XZd999M2bMmOy6665JkltuuSX77rtv1l133ay++urZbrvt8h//8R9zrX/eeedlzJgx+fGP\nf5x3vvOdWX/99bP22mvn8MMPz5NPPpmZM2fmTW96U9ZZZ52ss846OeaYY+ap4dRTT83LXvayTJgw\nIePGjcu2226biy++eJHqnzlzZv7pn/4pG2+8cVZbbbVsvvnmOeWUU9JaW/KTs4jcDgYAAAAs8w4/\n/PBsuOGG+ehHP5p3vetd2W677fKMZzwjv/zlL/Oyl70sG264Yd73vvflaU97Wi666KLsvffeueSS\nS7LXXnvNtZ13vOMdmThxYo477rhcc801+cIXvpC11lorP/nJT7LJJpvkxBNPzLe//e2ceuqpecEL\nXpCDDjpozrqf/OQns9dee+Wggw7K448/ngsvvDD77bdfvvnNb2bPPfecb+1/+tOf8vKXvzz33HNP\nDj/88Gy00Ub5yU9+kve973259957c9ppp43YeRtICAQAAAD96tFHk1tuGdl9bLllMm7cEm9m++23\nz2OPPZaPfvSj2WmnnbLPPvskSV7xildk0003zXXXXZeVVurEHEcccUR23HHHHHPMMfOEQBMnTsy3\nvvWtJJ1g6bbbbsvHPvaxHHHEEfn0pz+dJDnssMOy6aab5uyzz54rBLrtttuy6qqrzln+x3/8x2yz\nzTY57bTTFhgCffzjH8+vf/3rXH/99Zk0adKcfUycODGnnnpq3v3ud+dZz3rWEp+jhRECAQAAQL+6\n5ZZkypSR3ce0acnkySOy6T/84Q/54Q9/mOOPPz4zZ86c67099tgjH/7wh3PPPfdk4sSJSTpP7Rr8\n6Pbtt98+11xzzVztY8aMybbbbpvp06fP1XdgAPTQQw/lySefzE477ZQLL7xwgXV+9atfzU477ZTx\n48fngQcemNO+22675aSTTsoVV1yR/ffff/EOfhiEQAAAANCvttyyE9KM9D5GyK9+9au01vLBD34w\n//zP/zxsDyvkAAAgAElEQVTP+1WV++67b04IlCQbb7zxXH1mTzK90UYbzdP+hz/8Ya62b37zm/no\nRz+a66+/Pn/+85/ntI8Zs+Apl2+77bbceOONWW+99eZb49IgBAIAAIB+NW7ciI3SWRqeeuqpJMnU\nqVPzyle+csg+z3nOc+ZaHjt27JD9hmofOGnzlVdemb322is777xzPvvZz2bixIlZeeWVc/bZZ+eC\nCy5YaJ277757jjnmmCEngn7uc5+7wPV7RQgEAAAALJdmz6+z8sorz3lS2Ei55JJLsvrqq+fSSy+d\nM/dQknzxi19c6LqbbbZZHnnkkeyyyy4jWeJCeUQ8AAAAsFxab731svPOO+ess87KvffeO8/7999/\nf8/2NXbs2FRVnnzyyTltd955Z77+9a8vdN399tsvV199dS677LJ53ps5c2ZmzZrVszoXxEggAAAA\nYLn1mc98JjvttFNe8IIX5LDDDsukSZMyY8aMXH311fntb3+bn//853P6DnUr1qJ61ateldNOOy2v\nfOUrc8ABB2TGjBk588wzs/nmm+eGG25Y4Lrvec978o1vfCOvfvWrc8ghh2TKlCn54x//mBtuuCGX\nXHJJ7rzzzqyzzjrDrm1RCYEAAACA5UZVzbW81VZb5Wc/+1k+/OEP57zzzssDDzyQ9ddfP9tss00+\n9KEPLXDdxdnXLrvskrPPPjsnnXRSjjzyyDz72c/OKaeckl//+tfzhEBVNde6q6++eq644oqccMIJ\n+fd///f827/9W9Zcc80897nPzXHHHTdncuqRVkuSgi1PqmpykmnTpk3L5OV40isAGA3Tp3eeHjuC\nT3hdxnYMAMun6dOnZ8qUKfHbd8WxKJ/p7D5JprTWpg/ZKeYEAgAAAOgLQiAAAACAPiAEAgAAAOgD\nQiAAAACAPiAEAgAAAOgDQiAAAACAPiAEAgAAAOgDQiAAAACAPrDSaBcAAAAA9NbNN9882iXQI738\nLIVAAAAAsIKYMGFCxo0bl4MOOmi0S6GHxo0blwkTJizxdoRAAAAAsILYeOONc/PNN+f+++8f7VLo\noQkTJmTjjTde4u0IgQAAAGAFsvHGG/ckMGDFY2JoAAAAgD4gBAIAAADoA0IgAAAAgD4gBAIAAADo\nA0IgAAAAgD4gBAIAAADoA6MeAlXV+6rq2qp6uKpmVNXXquq5C1nnr6vqqUGvWVW1/tKqGwAAAGB5\nMuohUJKdknwqyfZJXpFk5SSXVdXqC1mvJdk8yQbd18TW2n0jWSgAAADA8mql0S6gtfa3A5er6pAk\n9yWZkuSqhaz++9bawyNUGgAAAMAKY1kYCTTYWumM8nlwIf0qyfVV9buquqyqXjrypQEAAAAsn5ap\nEKiqKskZSa5qrf1yAV3vSfLWJK9Nsk+Su5NcXlUvGvkqAQAAAJY/o3472CBnJtk6ycsW1Km1dmuS\nWwc0XVNVmyU5MsnBI1ceAAAAwPJpmQmBqurTSf42yU6ttXuGsYlrs5DwKEmOPPLIjB8/fq62/fff\nP/vvv/8wdgkAAACw9FxwwQW54IIL5mqbOXPmIq27TIRA3QBoryR/3Vq7a5ibeVE6t4kt0Omnn57J\nkycPcxcAAAAAo2eogSzTp0/PlClTFrruqIdAVXVmkv2T/J8kf6yqZ3Tfmtlae6zb54Qkz2qtHdxd\nfleSXye5KclqSQ5LskuS3Zdy+QAAAADLhVEPgZIcns7TwC4f1H5oki91/3liko0GvLdKko8neWaS\nR5PckGS31toVI1opAAAAwHJq1EOg1tpCn1DWWjt00PLHknxsxIoCAAAAWMEsU4+IBwAAAGBkCIEA\nAAAA+oAQCAAAAKAPCIEAAAAA+oAQCAAAAKAPCIEAAAAA+oAQCAAAAKAPCIEAAAAA+oAQCAAAAKAP\nCIEAAAAA+oAQCAAAAKAPCIEAAAAA+oAQCAAAAKAPCIEAAAAA+oAQCAAAAKAPrDTaBQAA9NR//Vdy\n883ztu+wQ7Lppku9HACAZYUQCABYcfzpT8lLX5o8+ui87z3/+cmNNy79mgAAlhFuBwMAVhyzZnUC\noHPOSR555C+v9743mTlztKsDABhVRgIBACue1VZLnva0vyyvssro1QIAsIwwEggAAACgDwiBAAAA\nAPqAEAgAAACgDwiBAAAAAPqAEAgAAACgDwiBAAAAAPqAEAgAAACgDwiBAAAAAPqAEAgAAACgDwiB\nAAAAAPqAEAgAAACgDwiBAAAAAPqAEAgAAACgDwiBAAAAAPqAEAgAAACgDwiBAAAAAPqAEAgAAACg\nDwiBAAAAAPqAEAgAAACgDwiBAAAAAPqAEAgAAACgDwiBAAAAAPqAEAgAAACgDwiBAAAAAPqAEAgA\nAACgDwiBAAAAAPqAEAgAAACgDwiBAAAAAPqAEAgAAACgDwiBAAAAAPqAEAgAAACgDwiBAAAAAPqA\nEAgAAACgDwiBAAAAAPqAEAgAAACgDwiBAAAAAPqAEAgAAACgDwiBAAAAAPqAEAgAAACgDwiBAAAA\nAPqAEAgAAACgDwiBAAAAAPqAEAgAAACgDwiBAAAAAPqAEAgAAACgDwiBAAAAAPqAEAgAAACgDwiB\nAAAAAPqAEAgAAACgDwiBAAAAAPqAEAgAAACgDwiBAAAAAPqAEAgAAACgDwiBAAAAAPqAEAgAAACg\nDwiBAAAAAPqAEAgAAACgDwiBAAAAAPqAEAgAAACgDwiBAAAAAPqAEAgAAACgDwiBAAAAAPqAEAgA\nAACgDwiBAAAAAPqAEAgAAACgDwiBAAAAAPqAEAgAAACgDwiBAAAAAPqAEAgAAACgDwiBAAAAAPqA\nEAgAAACgDwiBAAAAAPqAEAgAAACgDwiBAAAAAPrAqIdAVfW+qrq2qh6uqhlV9bWqeu4irLdzVU2r\nqseq6taqOnhp1AsAAACwPBr1ECjJTkk+lWT7JK9IsnKSy6pq9fmtUFWbJvlmku8neWGSTyT516ra\nfaSLBQAAAFgerTTaBbTW/nbgclUdkuS+JFOSXDWf1Y5Ickdr7eju8n9X1Y5JjkzyvREqFQAAAGC5\ntSyMBBpsrSQtyYML6LNDkv8c1HZpkpeMVFEAAAAAy7NlKgSqqkpyRpKrWmu/XEDXDZLMGNQ2I8ma\nVbXqSNUHAAAAsLwa9dvBBjkzydZJXjZSOzjyyCMzfvz4udr233//7L///iO1SwAAAICeuOCCC3LB\nBRfM1TZz5sxFWneZCYGq6tNJ/jbJTq21exbS/d4kzxjU9owkD7fW/rygFU8//fRMnjx5+IUCAAAA\njJKhBrJMnz49U6ZMWei6y8TtYN0AaK8ku7TW7lqEVa5Ostugtj267QAAAAAMMuohUFWdmeTAJAck\n+WNVPaP7Wm1AnxOq6rwBq30uyaSqOrmqtqiqtyXZN8lpS7V4AAAAgOXEqIdASQ5PsmaSy5P8bsBr\nvwF9JibZaPZCa+3OJK9K8ook16fzaPi3tNYGPzEMAAAAgCwDcwK11hYaRLXWDh2i7YokC7/hDQAA\nAIBlYiQQAAAAACNMCAQAAADQB4RAAAAAAH1ACAQAAADQB4RAAAAAAH1ACAQAAADQB4RAAAAAAH1A\nCAQAAADQB4RAAAAAAH1ACAQAAADQB4RAAAAAAH1ACAQAAADQB4RAAAAAAH1ACAQAAADQB4RAAAAA\nAH1ACAQAAADQB4RAAAAAAH1ACAQAAADQB4RAAAAAAH1gpdEuAABgoc44I3nwwXnbDz00ee1rl349\nAADLISOBAIBl37/9W/KHPyQrr/yX1003JR/96GhXBgCw3DASCABYPhx3XLLbbn9ZftvbkmuuGb16\nAACWM0YCAQAAAPQBIRAAAABAHxACAQAAAPQBIRAAAABAHxACAQAAAPQBIRAAAABAHxACAQAAAPQB\nIRAAAABAHxACAQAAAPQBIRAAAABAH1jsEKiqPlhVG45EMQAAAACMjOGMBHp9kl9X1aVVtV9VrdLr\nogAAAADorcUOgVprz0/y0iS/SvLZJL+rqk9V1Ta9Lg4AAACA3hjWnECttetaa29PMjHJ25I8J8m1\nVfXzqnp7VT29l0UCAAAAsGSWdGLop5LM6v5NkkeTvDvJ3VW17xJuGwAAAIAeGVYIVFUvrKozkvwu\nyWeS/DLJC1prL0uyWZJjk3y6V0UCAAAAsGSG83SwnyeZlmSrdG4F26i19p7W2i1J0lprSc5Psn4v\nCwUAAABg+FYaxjrfSLJ3a+038+vQWru/qlYeflkAAAAA9NJih0CttX9ZxH6zFr8cAAAAAEbCcG4H\n+0pVTR2i/T1VdUFvygIAAACgl4YzMfQuSb47RPt3u+8BAAAAsIwZTgj09CRPDNH+eJLxS1YOAAAA\nACNhOCHQTUleN0T7fkluWbJyAAAAABgJw3k62EeS/HtVPTvJD7ptuyU5KMkbelUYAAAAAL0znKeD\n/b+qem2SD6QT/Dya5MYke7bWvt/j+gAAAADogeGMBEpr7RtJvtHjWgAAAAAYIcMKgZKkqlZKMiGD\n5hVqrf1uSYsCAAAAoLcWOwSqqs2S/GuSHTN3AFRJWpKxvSkNAAAAgF4Zzkigc9MJfPZJck86wQ8A\nAAAAy7DhhEDbJNmutXZzr4sBAAAAYGSMWXiXefx3krV7XQgAAAAAI2c4IdC7k5xSVTtW1fiqGjfw\n1esCAQAAAFhyw7kd7Afdvz+az/smhgYAAABYxgwnBNq951UAAAAAMKIWOwRqrX1/JAoBAAAAYOQM\nZ06gVNVLqurcqrqiqp7ZbTuwql7a2/IAAAAA6IXFDoGq6u/SmReoJXlxktW6b62T5AO9Kw0AAACA\nXhnOSKAPJjmitXZokicGtF+VZEpPqgIAAACgp4YTAm2Z5IdDtM9MstaSlQMAAADASBhOCHRvks2G\naH9pkjuWrBwAAAAARsJwHhH/xSSfqKpD0pkX6BlVtV2SU5Oc2MPaAAB65/77kwMOmLtt9dWTU05J\n1l13dGoCAFiKhhMCndBd74okqyf5cZLHk5zeWvtED2sDAOiNAw5Irr46uffeudsvvzx50YuSd7xj\nVMoCAFiaFjsEaq21JB+uqpOTPDfJGkl+0Vp7uNfFAQD0xBZbJJddNm/76qsv/VoAAEbJcEYCJUla\na48luaGHtQAAAAAwQhY7BKqq76UzF9CQWmt7LFFFAAAAAPTccEYC3TJoeeUkL0rn0fHnL3FFAAAA\nAPTccOYEGnLmxKo6PskqS1wRAAAAAD03pofbOi/J3/dwewAAAAD0SC9DoBen86h4AAAAAJYxw5kY\n+qLBTUkmJtkhyQm9KAoAAACA3hrOxNB/HrT8VJJrkpzQWvv2kpcEAAAAQK8NZ2LoN45EIQAAAACM\nnF7OCQQAAADAMmo4cwL9PklblL6ttfUXuyIAAAAAem44cwKdnOQDSf4zydXdtpck2S2diaH/0JvS\nAAAAAOiV4YRA2yf5l9baJwc2VtU7k+zcWtunJ5UBAAAA0DPDmRNozyRDPQXs20n2WLJyAAAAABgJ\nwwmBHkzy6iHaXx23ggEAAAAsk4ZzO9iHk5xVVX+d5Kfdtu3TCYEO71VhAAAAAPTOYodArbUvVtXN\nSd6V5IBu883pzAf0414WBwAAAEBvDGckUFprP0nykx7XAgAAAMAIGVYIVFWbJjkkyaQkU1tr91XV\nHknubq3d3LPqAID+8tRTyf/8z1+W77ln9GoBAFjBLPbE0FW1U5Kbkvx1ktcnWaP71pQkx/WuNACg\n7xx3XLLJJn95vbr7LIqqZN11R7c2AIDl3HCeDnZykmNba7skeXxA+/eT7NCTqgCA/vTLXyaTJyeX\nXdZ5feYznfbzz09e9KLRrQ0AYDk3nNvB/irJgUO035dkvSUrBwDoexMmJLvv3vnn2aN/ttxy9OoB\nAFhBDGck0MwkGwzR/sIkv12ycgAAAAAYCcMJgb6S5KSqWi9JS5Kq2j7Jx5Oc38PaAAAAAOiR4YRA\n70tyR5LfpTMp9C/TeVz8dUmO711pAAAAAPTKYs8J1Fr7c5JDq+rD6cwPtEaS6a21W3pdHAAAAAC9\nsVghUFWtnOQXSfZurd2c5M6RKAoAAACA3lqs28Faa08keXq6cwH1SlXtVFXfqKrfVtVTVfV/FtL/\nr7v9Br5mVdX6vawLAAAAYEUxnDmBPpvkPVU1tod1PC3J9UnelkUPmFqSzdN5UtkGSSa21u7rYU0A\nAAAAK4zFnhMonXmAXplkj6q6IckfB77ZWttvcTfYWvtuku8mSVXVYqz6+9baw4u7PwAAAIB+M5wQ\n6LEkX+91IcNQSa6vqtXSmafo2NbaT0a5JgAAAIBl0nCeDvbGkShkMd2T5K1JfpZk1SSHJbm8ql7c\nWrt+VCsDAAAAWAYtcghUVbsmuaK19uQI1rNIWmu3Jrl1QNM1VbVZkiOTHDw6VQEAAAAsuxZnJND3\nkkxMcl+SVNU1SV7bWvvtSBQ2DNcmednCOh155JEZP378XG37779/9t9//5GqCwAAAKAnLrjgglxw\nwQVztc2cOXOR1l2cEGjwhM3PS+dWrGXFi9K5TWyBTj/99EyePHkplAMAAADQW0MNZJk+fXqmTJmy\n0HWHMzF0z1XV05I8J38JmiZV1QuTPNhau7uqTkzyzNbawd3+70ry6yQ3JVktnTmBdkmy+1IvHgAA\nAGA5sDghUOu+5re8JLZN8sMB2/x4t/28JG9OskGSjQb0X6Xb55lJHk1yQ5LdWmtX9KgeAAAAgBXK\n4t4O9v2qmj0x9Lgk/1FVjw/s1Fpb7HutWms/SjJmAe8fOmj5Y0k+trj7AQAAAOhXixMCfXjQ8td7\nWQgAAAAAI2eRQ6DW2uAQCAAAAIDlxHxvwQIAAABgxSEEAgAAAOgDQiAAAACAPiAEAgAAAOgDSxQC\nVdVqvSoEAAAAgJGz2CFQVY2pqg9W1W+TPFJVk7rtx1fVW3peIQAAAABLbDgjgf45ySFJjk7y+ID2\nXyT5+x7UBAAAAECPrTSMdd6U5B9aa9+vqs8NaP+vJFv2piwAYEX0i18kl18+b/tGGyV77bXUywEA\n6CvDCYGeleRXQ7SPSbLykpUDAKzI9tknueOOZOUB/8Xw1FPJ448nN96YPH/0SgMAWOEN53awXybZ\naYj2fZP8fMnKAQBWZH/6U/KBD3T+zn5dd91f3gMAYOQMZyTQcUnOq6pnpRMi7VNVW6Rzm9ire1kc\nAAAAAL2x2COBWmtfT/KaJK9I8sd0QqGtkrymtfa93pYHAAAAQC8MZyRQWmtXJtm9x7UAAAAAMEIW\neyRQVf1rVe08ArUAAAAAMEKGMzH0ekm+W1V3V9XHqupFvS4KAAAAgN4azpxAeyWZmOT4JNslmVZV\nN1XV+6tq096WBwAAAEAvDGckUFprf2itfb61tnOSTZKcm+SNSX7Vu9IAAAAA6JVhhUCzVdXKSbZN\nsn2STZPM6EFNAAAAAPTYsEKgqtqlqr6QTuhzbpKHk7w6yYa9Kw0AAACAXlnsR8RX1W+TrJPku0n+\nIcl/tNb+3OvCAAAAAPj/7d15mBxVvf/x93eykI2EJZAQWQIEWbNAZN8hgF5BEPBiAMG4ICjoD+Sq\nXBW56hVli4KiCCKiIQgCgl6BKxcQEVlDWCSCkLAFSEhIQjYISc7vj6rJdPfMJDOTnumZqffreeqZ\nrlOnqr7VPZ2ZfObU6eppdQgEnAfcmFKaX+VaJEmSJEmS1E5aHQKllK5sj0IkSZI6jYULYcWK8ra6\nOhg4sDb1SJIkVUGLQqCIuBn4ZErp7fxxs1JKR1elMkmSpFq491445BBYvry8PQJuvhmOOqomZUmS\nJK2tlo4EWgCk/PHbJY8lSZK6l6eeygKfG28sbz/1VHj8cUMgSZLUZbUoBEopTSh5/Ml2q0aSJKkz\n6NEDjj22vO2ss2pTiyRJUpW0+iPiI+LuiFivifaBEXF3dcqSJEmSJElSNbU6BAIOAHo30d4H2Het\nqpEkSZIkSVK7aPGng0XEqJLVHSJiaMl6D+CDwMxqFSZJkiRJkqTqac1HxE8lmxA6AU3d9rUUOKMa\nRUmSpK4hJbjpJpgzp/G2D34Qhg/v8JIkSZLUjNaEQFsCAUwHdgPeLNm2DJidUlpRxdokSVInd889\n8LGPQV1d9oFa9VasgH33hfvuq11tkiRJKtfiECil9FL+sC3zCEmSpG5oyZLs62uvwZAhDe2nngqP\nPlqbmiRJktS01owEKhMROwCbUzFJdErptrUtSpIkSZIkSdXV6hAoIrYCbgFGks0PVD/4O+Vfe1Sn\nNEmSJEmSJFVLW27t+hEwA9gYWALsCOwHPEr28fGSJEmSJEnqZNpyO9iewEEppTkRsRJYmVK6PyLO\nAS4Fdq5qhZIkSZIkSVprbRkJ1ANYmD+eAwzLH78EbFuNoiRJkiRJklRdbRkJ9DQwmuyWsIeAr0TE\nMuAUso+PlyRJkiRJUifTlhDou0D//PG5wB+BvwJzgeOqVJckSZIkSZKqqNUhUErpzpLHzwPbRcQG\nwLyUUmp+T0mSJEmSJNVKW0YCNZJSeqsax5EkSZIkSVL7aFEIFBE3t/SAKaWj216OJEmSJEmS2kNL\nRwItaNcqJEmSJEmS1K5aFAKllCa0dyGSJEmSJElqP22aEygiegIHAFsD16WUFkbEMODtlNKiKtYn\nSZLUvJkz4atfbVhftqx2tUiSJHVyrQ6BImIL4A5gc2Ad4M/AQuCr+fqp1SxQkiSpSUcfDXfdBTdX\nTF04dizstVdtapIkSerE2jIS6EfAo8BoYG5J+y3AldUoSpIkaY3GjYPnnqt1FZIkSV1GW0KgfYG9\nUkrLIqK0/UXgfdUoSpIkSZIkSdVV18Z9ejTRvinZbWGSJEmSJEnqZNoSAv0v8P9K1lNEDAD+C/hT\nVaqSJEmSJElSVbXldrAvA3dGxDNAH+A6YBtgDjC+irVJkqQCW74c7vgjHA7ccgvMndKw7bjjYN11\na1aaJElSl9TqECil9GpEjAaOI5scegDwC2BSSmlpleuTJEkF9ZOfwK++lYVA3/kuPF6ybepU+PGP\na1WZJElS19SWkUCklJYDk/JllYjoaxAkSZKqYfFiWH89YD5MeQzYJWvfe+9smyRJklqnLXMCNRIR\n60TEl4EZ1TieJEmSJEmSqqvFIVAe9JwfEY9GxAMRcVTePoEs/Pl/wMR2qlOSJEmSJElroTW3g30b\n+BzwZ2Bv4MaI+CWwB3AWcGNKaUX1S5QkSZIkSdLaak0I9DHgpJTSbRGxE/Bkvv/olFJql+okSZIk\nSZJUFa2ZE2hT4DGAlNLTwLvARAMgSZIkSZKkzq81IVAPYFnJ+nJgUXXLkSRJkiRJUntoze1gAVwT\nEe/m632An0VE2Ye0ppSOrlZxkiRJkiRJqo7WhEC/qlj/TTULkSRJkiRJUvtpcQiUUprQnoVIkiRJ\nkiSp/bRmTiBJkiRJkiR1UYZAkiRJkiRJBWAIJEmSJEmSVACtmRhakiSp9VIqeVyylLat2la6QZIk\nSdXkSCBJktS+zj0X6uqgro5XZtbxX9+pW7VOXR2jxtSRqGPX3evgd7+DAQNqXbEkSVK35EggSZLU\nvu6/H3bfHU45hbPPhn32gaOOatj8yivwrfPgm9+ALbcEDj+8VpVKkiR1a4ZAkiSp/Y0YAZ/6FL/9\nFvTfGY76VMOmeU/CL8+D0z4CW+5aswolSZK6PW8HkyRJkiRJKgBDIEmSJEmSpAIwBJIkSZIkSSoA\nQyBJkiRJkqQCMASSJEmSJEkqAEMgSZIkSZKkAjAEkiRJkiRJKgBDIEmSJEmSpAIwBJIkSZIkSSoA\nQyBJkiRJkqQCMASSJEmSJEkqAEMgSZIkSZKkAjAEkiRJkiRJKgBDIEmSJEmSpAIwBJIkSZIkSSoA\nQyBJkiRJkqQCMASSJEmSJEkqAEMgSZIkSZKkAjAEkiRJkiRJKgBDIEmSJEmSpAIwBJIkSZIkSSoA\nQyBJkiRJkqQC6BQhUETsGxG3RcTMiFgZER9pwT4HRMRjEfFORDwXESd3RK2SJEmSJEldUc9aF5Dr\nD0wFfgHcvKbOETEc+CNwOXA8MA64KiJeSyn9uf3KlCSp2P70J5g2rWH98ceb7zt3LkyaBAfPgqXL\n4IFJsHhx+9coSZKkpnWKECildAdwB0BERAt2OQ2YnlL6Sr7+bETsA5wJGAJJklRlKWVfv/nNxtu2\n3x4GDixv2313uOIKOPFEuBuYCXziAairg113be9qJUmS1JROcTtYG+wB3FXRdiewZw1qkSSpMM45\nB5YuLV+efBL69i3vN2FCw/b99oPxH88eL1kChx9em9olSZKKrlOMBGqDocCsirZZwMCIWCel9G4N\napIkqdvr2RP69GlZ31X96oAe0KOF+0mSJKl9dNWRQJIkSZIkSWqFrjoS6A1gSEXbEODtNY0COvPM\nMxk0aFBZ2/jx4xk/fnx1K5QkSZIkSaqyyZMnM3ny5LK2BQsWtGjfrhoC/R34UEXboXn7ak2cOJFd\ndtmlXYqSJEmSJElqT00NZJkyZQpjx45d476d4nawiOgfEaMjYkzetFW+vlm+/fyI+FXJLj/L+/wg\nIraNiM8DxwKXdHDpkiRJkiRJXUKnCIGADwCPA48BCbgYmAL8V759KLBZfeeU0ovAh4FxwFSyj4b/\ndEqp8hPDJEmSJEmSRCe5HSyl9BdWE0illCY00XYfsOaxTpIkSZIkSeo0I4EkSZIkSZLUjgyBJEmS\nJEmSCsAQSJIkSZIkqQAMgSRJkiRJkgrAEEiSJEmSJKkADIEkSZIkSZIKwBBIkiRJkiSpAAyBJElS\nZsIEWHfdxsuhh8LKlbWurn306QNnn11+vWefnbVLkiR1Mz1rXYAkSeokbr8d9t0XDjmkoe2RR2Dy\nZPjOCrrl345uvx3+/vfG7Xvu2fG1SJIktTNDIEmS1GDvveHMMxvWr702C4G6qz32yBZJkqQC6IZ/\n0pMkSZIkSVIlRwJJklQAjz4KL7zQuH30aNhuu46vpyl//jNMn96w/uSTrdt/6lR49tnG7TvsACNH\nrg1ri1kAACAASURBVF1tkiRJ3YEhkCRJ3dzs2dldXsuWNd628cYwa1bH11Rqk01g2DD4+tcbbztj\nb+Bvaz7G4sWw116wdGnjbQMGwNy50Lv3WpcqSZLUpXk7mCRJ3dzSpVkAdOutsHBhw3LxxTB/fq2r\ng402ykYAldZWv0yc2LJjvPdedp2//nX5/ldeCYsWdd8PN5MkSWoNRwJJklQQfftmo2LqdaZPQV9n\nnWxppEfrjtOZr1GSJKnWHAkkSZIkSZJUAIZAkiRJkiRJBWAIJEmSJEmSVACGQJIkSZIkSQVgCCRJ\nkiRJklQAhkCSJEmSJEkFYAgkSZIkSZJUAIZAkiRJkiRJBWAIJEmSJEmSVACGQJIkSZIkSQVgCCRJ\nkiRJklQAhkCSJEmSJEkFYAgkSZIkSZJUAIZAkiRJkiRJBWAIJEmSJEmSVACGQJIkSZIkSQVgCCRJ\nkiRJklQAPWtdgCRJUnu75Rbo3bu87aCDYP31a1OPJElSLRgCSZKkbmv77aFPHzj++Mbbjj0Wbryx\n42uSJEmqFUMgSZLUbY0dC2++CcuXl7d/+tMwb15tapIkSaoVQyBJktStDRjQuK3y1jBJkqQicGJo\nSZIkSZKkAjAEkiRJkiRJKgBDIEmSJEmSpAIwBJIkSZIkSSoAQyBJkiRJkqQCMASSJEmSJEkqAEMg\nSZIkSZKkAjAEkiRJkiRJKgBDIEmSJEmSpAIwBJIkSZIkSSoAQyBJkiRJkqQCMASSJEmSJEkqAEMg\nSZIkSZKkAjAEkiRJkiRJKgBDIEmSVB2vvw477wybblq+PPAA9OpV6+rWXs+ecMklja/vox+FFStq\nXZ0kSdIa9ax1AZIkqZuYOjVbzjoLBg4s33bKKbWpqZquuw7uvLO87amn4KabYOlSGDCgNnVJkiS1\nkCGQJEmqri9/GYYNq3UV1bfHHtlS6vrrsxBIkiSpCzAEkiSpk3vwQZg1q3H7brvBJpuUt82alfUv\nNXt288desQJuvTV7fNi7MGMaPHcrjBsH/fuvXd3t6eWXG+oGWLSoOsedMQOefLJx+xZbwJgx1TmH\nJElSrRgCSZLUiT31FOy1F6TUeNvuuzcOfP793+G++xr3HTgQttyyvG3HHSECjjoqW38d+M0k+N4k\n+Mxn4Morq3IJVTdmDFx+Odx9d3l7376wzTZrd+wDD4SXXmrc3rs3TJ8O73vf2h1fkiSplpwYWpKk\nTmz+/CwAeuCBbERP/XLGGTB3buP+b70Fn/1sed/Zs+HVV2HEiPK+++8Pb77Z0GfjjeA/z4GDDmr6\n2J3FpZc2vr7Zs7N5qUeNWrtjv/UWfPvb5ce99VZYtgwWL65O/ZIkSbXiSCBJkrqADTaAjTZqWO/X\nr/m+/fqV912d9dYrWanLbgFbZ502ldhhevRo+fW1xYAB5ccve44kSZK6MEcCSZIkSZIkFYAhkCRJ\nkiRJUgEYAkmSJEmSJBWAIZAkSZIkSVIBGAJJkiRJkiQVgCGQJEmSJElSARgCSZIkSZIkFYAhkCRJ\nkiRJUgEYAkmSJEmSJBWAIZAkSZIkSVIBGAJJkiRJkiQVgCGQJEmSJElSARgCSZIkSZIkFYAhkCRJ\nkiRJUgH0rHUBkiRJXd7kydCnT8N6BBxzDPTtW7uaJEmSKhgCSZIktdWOO8KAAXDKKY23Pf00fP/7\nHV+TJElSMwyBJEmS2mrkSJg3D1auLG/fbTd4++3a1CRJktQMQyBJktrRX//adBawzz4waNDaHXvx\nYvif/ylvM3douTlzGj9/773XhgP1bOLXqTqnXZQkSZ2PIZAkSe3kzjvhgx9setvHPgY33ND2Y48c\nCa+/Docf3vQ2rd7IkXD99Y2fv7o62GGH2tQkSZLU3gyBJElqJ3PmZF9feKF8fuDPf75hW1udcAKM\nG9f4LqS6OhgyZO2OXQTnnAMTJjRu79ULBg/u+HokSZI6giGQJEntbJNNykOgvn1hwYK1P65hT9tF\nZK+LJElSkXjDuiRJkiRJUgEYAkmSJEmSJBWAIZAkSZIkSVIBGAJJkiRJkiQVgCGQJEmSJElSARgC\nSZIkSZIkFYAhkCRJkiRJUgEYAkmSJEmSJBWAIZAkSZIkSVIBGAJJkiRJkiQVgCGQJEmSJElSARgC\nSZIkSZIkFYAhkCRJkiRJUgEYAkmSJEmSJBWAIZAkSZIkSVIB9Kx1AfUi4gvA2cBQ4AngjJTSI830\n3R+4p6I5AZuklGa3a6GSJHV1//gHnHgivPtuefubb0JdC/8+dNFFcPXV5W2LFmVfW3oMSZIkdahO\nEQJFxHHAxcApwMPAmcCdEfH+lNKcZnZLwPuBhasaDIAkSVqzO+7IgqDTTy9vP+II+Pzn4a8tOMY1\n18A668CBB5a377QTDB1arUolSZJURZ0iBCILfa5IKV0LEBGnAh8GPgVcsJr93kwpvd0B9UmS1L30\n7QuXXLJ2x9h//7U/Rhe2ciXcfTesWFHeXlcH44CoSVWSJEnNq3kIFBG9gLHA9+rbUkopIu4C9lzd\nrsDUiOgDPA2cl1J6oF2LlSRJyk2cCGef3fS214dl97dLkiR1JjUPgYDBQA9gVkX7LGDbZvZ5Hfgc\n8CiwDvBZ4N6I2C2lNLW9CpUkSao3ezYMHw733VfefvDBsHx+TUqSJElarc4QArVaSuk54LmSpgcj\nYmuy28pOXt2+Z555JoMGDSprGz9+POPHj696nZIkqXvr1Qs226xxmyRJUnuZPHkykydPLmtbsGBB\ni/btDCHQHGAFMKSifQjwRiuO8zCw95o6TZw4kV122aUVh5UkSZIkSeocmhrIMmXKFMaOHbvGfWv+\nGa4ppfeAx4CD69siIvL11szxM4bsNjFJkiRJkiRV6AwjgQAuAa6JiMdo+Ij4fsA1ABFxPjAspXRy\nvv4lYAbwD6AP2ZxABwKHdHjlkiRJkiRJXUCnCIFSSjdExGDg22S3gU0FDkspvZl3GQqU3nHfG7gY\nGAYsAZ4EDk4pVUzNKEmSJEmSJOgkIRBASuly4PJmtk2oWL8QuLAj6pIkSZIkSeoOaj4nkCRJkiRJ\nktqfIZAkSZIkSVIBGAJJkiRJkiQVgCGQJEmSJElSARgCSZIkSZIkFYAhkCRJkiRJUgEYAkmSJEmS\nJBWAIZAkSZIkSVIBGAJJkiRJkiQVgCGQJEmSJElSAfSsdQGSJEnd0owZcOut5W3Dh8Po0TUpR5Ik\nyRBIkiSpymZuNIZN7/gl3HFH+YZ11oGXX4aNN65NYZIkqdAMgSRJ6iReew3++c/ytiefrE0ts2fD\n3XfD0GdgB+CRR2pTR1d1w7ifs/u9PyhvvO8+OPZYWLKkNkVJkqTCMwSSJKmTOPBAeO65xu2DB8OG\nG3ZcHdtvD5dcAgcfDJ8ArgVOPyPbttlmHVdHV7ayridstFF543rr1aYYSZKknBNDS5LUSbzxBvzn\nf8L06eXLs89mQVBHueCChnNffFHWdsvN2dexYzuuDkmSJFWXI4EkSepENtwQttyytjX06FFSQz6Y\n5X3vq1k5kiRJqhJHAkmSJEmSJBWAIZAkSZIkSVIBGAJJkiRJkiQVgCGQJEmSJElSARgCSZIkSZIk\nFYAhkCRJkiRJUgEYAkmSJEmSJBWAIZAkSZIkSVIBGAJJkiRJkiQVgCGQJEmSJElSARgCSZIkSZIk\nFYAhkCRJkiRJUgEYAkmSJEmSJBWAIZAkSZIkSVIBGAJJkiRJkiQVgCGQJEmSJElSAfSsdQGSJKkV\nVqyAM86AKVMabzv+ePjiF8vbvvY1uPfe8rbXXmv9eSd8Cvg1nHwy9H8WXngBxo1r/XEkSZJUM4ZA\nkiR1JQsWwE9/CgcdBFtu2dD+yCNw6aWNQ6ALL4Q99oDtt29o22knOPTQlp3vmGPg8cdhxvrwDLD1\n1jC4F4waBWedtdaXI0mSpI5jCCRJUlf0hS/A0Uc3rJ9zDtx4Y9N9TzoJPve5tp2nf3+YOBGmALcC\n554Lu7TtUJIkSaot5wSSJEmSJEkqAEMgSZIkSZKkAjAEkiRJkiRJKgBDIEmSJEmSpAIwBJIkSZIk\nSSoAQyBJkiRJkqQCMASSJEmSJEkqAEMgSZIkSZKkAjAEkiRJkiRJKgBDIEmSJEmSpAIwBJIkSZIk\nSSoAQyBJkiRJkqQCMASSJEmSJEkqAEMgSZIkSZKkAjAEkiRJkiRJKgBDIEmSJEmSpAIwBJIkSZIk\nSSoAQyBJkiRJkqQCMASSJEmSJEkqgJ61LkCSpFLvvANTprS8/6abwuabl7etXAkPPQQplbf37Am7\n7goR5e0vvACzZrX8nLvtlh1LxTJlCsyZ07A+c2br9n/jDRgKPPYYvPtaQ/vWW8OQIVUpUZIkabX8\nFVaS1Kl86Uvw85+3vP/668OLL8LAgQ1t558P3/hG0/2vuAJOOaVh/dVXYeRIWLq05ef8+tfhu99t\neX91bZtsAn37wvjxjbd96EMtO8bcudn33W3AMcfCSyXbtt4ann++GpVKkiStniGQJKlTmTkTDj4Y\nLrtszX3/8hc47TRYsqQ8BJo5E7bfHm66qbz/QQdloU+pefOyAOj662HUqDWf84QTGh9D3ds222Qh\nzYIFjbdtsUXLjrFwISxekj2+68/w3vuyx9ddBxdeWJ06JUmS1sQQSJLU6ay7bhbirMn06c1v69u3\n8TF69Wq+/5Zbtuyc/fqtuY+6n2HDsqUaRowAhmePhw6tzjElSZJawomhJUmSJEmSCsAQSJIkSZIk\nqQAMgSRJkiRJkgrAEEiSJEmSJKkADIEkSZIkSZIKwBBIkiRJkiSpAAyBJEmSJEmSCsAQSJIkSZIk\nqQAMgSRJkiRJkgrAEEiSJEmSJKkADIEkSZIkSZIKwBBIkiRJkiSpAAyBJEmSJEmSCsAQSJIkSZIk\nqQAMgSRJkiRJkgrAEEiSJEmSJKkADIEkSZIkSZIKoGetC+h0/vIX+N73GrcPHQqXXw79+3d8TVI3\nsnw5TJnSuH2ddWD06PY55yuvwOuvN24fPhw23ri8bdkymDq1cd9+/WCnndqlPF58EWbPbtw+YgRs\nsMHaHfuZZ2DRosbtI0dC377lbXPnwgsvNO47ZAhs8dAN8ItfrGpLwNtvw9LNt+XlL10CPbMfJ3V1\nMHYsRLSsvqeegqVLy9vmzWv8utTENdfA5MmNmk97cQyTB57Pww83/B1l/XtvYZPbfsaAih8RB74O\ndwC9P0LZn112eu8/eO7tcTz8cN6wfDlb/PBMblr0HCOuAO4sOcgpp8Axx1TnmtRh3niDhtcXeO21\nko0nnbTqDXjEy7DNMph2xddZuPN+q7rEe8vY5VdfpMdLMxof/PTT4Ygj2qlySZLUnRkCVbrssux/\ngPs1/CLGokVw7bVw8slw0EG1q03qBs49F84/v+lt118Pxx1X3fPNmwejRsH8+Y23bbklTJ9e3nbm\nmVne25Q//Qk+9KHq1jdzZhYuLV7ceNvOOzcdmLXUfffBAQdASo23nXQS/OpX5W0HHpiFMpUGDIC3\ntr6QXm/PzRIeYPoL8Orjs9n/wcvY+4YvMZ2tV/W/6CL48pfXXN8f/9j8/2PPOmvN+7e7730vS7NG\njWpomzmTE2ZewJdm/ge73z54VfP9XEQvZvLOgbsyeMOG7u/Nh7cB1gV65I1/+xtH9/8RX39+HLvv\nnjVtw3Se48dMY396bbgRDMz7PvooXHihIVAXs9VW2b9n119f3j6w9968dcwX2OC9Wavaem0Io9N9\n3HfqZfw7Db97jGIaT3BF9ntHaRr80ENwySWGQJIkqU0MgZqy885w440N69Onw9ZbN99fUou9/HKW\nI1x9dXn73ntnI3aqbdGiLAC6/PLsHPVuuAG+//2m6zvgAPjRj8rbR4+GV1+tfn3z5mUB0K9/XZ41\nXH01/OY3a3fsmTOzAOjBB8tH/Xzta9l1Vnr55Sx8OfnkhrYpU2DCBFi+Anodeij87GcAXHUOvPDK\nPew/5yD+54+wbLOs/zHHNH3sprzyCvTo0XTQtcMOLbzI9nbkkXDBBQ3rv/89fPSj/OVeWLF+Q/Pw\nE+F3Tx3EwM9fzbHHNrTfPwlOPBGWTCp5DY48km1XrOSJmxr69X4ROBK2+s13eN8J+zZs+Mxn4Omn\nq39dalfXX9/0qLpBg/qwwRY/LmvbBFi872Ec0heeuKih/eKTgCfI/qHaddeGDSeemL25JUmS2sAQ\nSFKHGzCgPPCAVXcTtZuttio/5wMPNN930KDG9bW3ESPKz7nJJtU79siR2e1s9dZfv/EtWPWGDSuv\n4+23mz9ur17Z1+22g/qBQJW3mK1J5UCbrmLHHYGGgUAs79ds1yY1uu4+2ZfNN1/bytQZ9O/fuu/r\n/v2AgbBeyT7efS5JktqDE0NLkiRJkiQVgCGQJEmSJElSARgCSZIkSZIkFYAhkCRJkiRJUgEYAkmS\nJEmSJBWAIZAkSZIkSVIBGAJJkiRJkiQVgCGQJEmSJElSARgCSZIkSZIkFYAhkCRJkiRJUgEYAkmS\nJEmSJBWAIZAkSZIkSVIBGAJJkiRJkiQVQKcJgSLiCxExIyKWRsSDEbHrGvofEBGPRcQ7EfFcRJzc\nUbWqY0yePLnWJUjdmu8xqX35HpPal+8xqX35HuueOkUIFBHHARcD3wJ2Bp4A7oyIwc30Hw78Efg/\nYDTwI+CqiDikI+pVx/AfHal9+R6T2pfvMal9+R6T2pfvse6pU4RAwJnAFSmla1NK/wROBZYAn2qm\n/2nA9JTSV1JKz6aUfgL8Lj+OJEmSJEmSKtQ8BIqIXsBYslE9AKSUEnAXsGczu+2Rby9152r6S5Ik\nSZIkFVrPWhcADAZ6ALMq2mcB2zazz9Bm+g+MiHVSSu82d7Jp01ZfzJbzoW4JvDCloa33q7AT8PJd\nz7H49fVWfwBVzaJXFzBt0pQ1d1SXsv4M6PsOUPHSjlqetU2bVN3zzZ2b3WO67r+AjRraB78MY1Y2\nPt/Gr8KgQY3r2xlY9iBM61fd+l57JTt2v2eB3g3tQ2bCju+u3fOx5IHs2PE40LehffhbwCx4fUH5\ne2zHd7PrL732/s9mx3hv/mIWzYFX8m1vvFFyoqefhgULANh+KfT7Z8vqXv4w7Jxo9Fy3xsDns/pm\n3ATzSv55HvAcbLek8bF3Wga9niqv7/X61+CflP9UfOed5k/8xBOw/vqrVmPRIgCmT4cpJeecMaOZ\n/efPL+/40kvNn2vx4vK++XPdpHfeKe8LkFLz/dV5zJtX9tptvvi5GhYjSZK6q84QAnWUPgAnnrj6\nFGgcH6AXy7l9bMMvYoOYx+8ZwMDzT2vfClVmBbD0xLG1LkNVNiH/OqXipZ0IMBmWVvnW437AVQBn\nlOcBWwE/B5aeWN7/C83UdxXA1bD06urWNzg/9vJPltc3iuw5qayvNXbOjz1tn/L2Y/KvZ1L+HrsM\n4Icw5Yfl/a8Cnn8VLn31YH51U0OVR+z0FlPe7AlHHbWq7asAz8PS/11zfXvnS+Vz3Rr98/o4HZaW\ntH88/1p57O8C/B6W/r6hrf41WHZyE3lUXV15qLJwYdY2blyjWp7osyeXfrVxojV4MDz1FPSs/4nb\nrx/cdhuMrSiuVy+YM6f8fL17ZyFbZd+6uqyW0r51dTBzZuO+AMuWNQ6HWqn+jyhr+mNK1dXsxGtv\nwYIFTGnJ8z5gANx8c9lrdyjwcM916DlrVvlrN2YMjBix1q+n1B20+D0mqU18j3Ut0xp+V+qzun6R\navwXwvx2sCXAMSml20rarwEGpZQ+2sQ+fwEeSymdVdL2SWBiSmn9yv759uOBKo8xkCRJkiRJ6jRO\nSCld19zGmo8ESim9FxGPAQcDtwFEROTrlzaz29+BD1W0HZq3N+dO4ATgRWA1Y/wlSZIkSZK6lD7A\ncLLso1k1HwkEEBH/DlxD9qlgD5PdpXAssF1K6c2IOB8YllI6Oe8/HHgKuBy4miww+iHwbymlygmj\nJUmSJEmSCq/mI4EAUko3RMRg4NvAEGAqcFhK6c28y1Bgs5L+L0bEh8mmzPgi8CrwaQMgSZIkSZKk\npnWKkUCSJEmSJElqX3W1LkCSJEmSJEntzxBIkiRJkiSpAAyB1GVERO+ImBoRKyNiVK3rkbqDiNgi\nIq6KiOkRsSQi/hUR50VEr1rXJnVlEfGFiJgREUsj4sGI2LXWNUndQUScExEPR8TbETErIm6JiPfX\nui6pO4qIr+X/97qk1rWoegyB1JVcQDYJuBNZSdWzHRDAZ4EdyD6d8VTgv2tZlNSVRcRxwMXAt4Cd\ngSeAO/MPwZC0dvYFLgN2B8YBvYD/jYi+Na1K6mbyP16cQvYzTN2IE0OrS4iIDwEXAccAzwBjUkpP\n1rYqqXuKiLOBU1NKI2pdi9QVRcSDwEMppS/l6wG8AlyaUrqgpsVJ3Uwers4G9ksp3V/reqTuICIG\nAI8BpwHfBB5PKZ1V26pULY4EUqcXEUOAnwMnAktrXI5UBOsBb9W6CKkrym+lHAv8X31byv7idhew\nZ63qkrqx9chGiftzS6qenwB/SCndXetCVH09a12A1AK/BC5PKT0eEVvUuhipO4uIEcDpgH/tkdpm\nMNADmFXRPgvYtuPLkbqvfJTdD4H7U0rP1LoeqTuIiI8DY4AP1LoWtQ9HAqkmIuL8fJKx5pYVEfH+\niPgiMAD4Qf2uNSxb6jJa+h6r2Od9wO3Ab1NKV9emckmSWuxysvnsPl7rQqTuICI2JQtWT0gpvVfr\netQ+nBNINRERGwIbrqHbDOAG4PCK9h7AcmBSSmlCO5QndXktfI9NTyktz/sPA+4BHvB9JbVdfjvY\nEuCYlNJtJe3XAINSSh+tVW1SdxIRPwaOAPZNKb1c63qk7iAijgRuBlbQ8Mf3HmS3XK4A1kkGCF2e\nIZA6tTyNHljSNAy4k2yC6IdTSq/VpDCpG8lHAN0NPAJ8wh/u0tppZmLol8kmhr6wpsVJ3UAeAB0J\n7J9Sml7reqTuIiL6A5XTb1wDTAO+n1Ka1uFFqeqcE0idWkrp1dL1iFhMlkpPNwCS1l4+AuhespF3\nXwE2zv6/CimlyjlNJLXMJcA1EfEY8DBwJtCP7BdpSWshIi4HxgMfARbnHyACsCCl9E7tKpO6vpTS\nYrJPYl4l///XXAOg7sMQSF2RoxSk6jkE2CpfXsnbgux91qNWRUldWUrphvxjq78NDAGmAoellN6s\nbWVSt3Aq2c+oeyvaJwDXdng1Uvfn/726GW8HkyRJkiRJKgA/HUySJEmSJKkADIEkSZIkSZIKwBBI\nkiRJkiSpAAyBJEmSJEmSCsAQSJIkSZIkqQAMgSRJkiRJkgrAEEiSJEmSJKkADIEkSZIkSZIKwBBI\nkiSpHUTEyoj4SP54i3x9VAec9+SIeKu9z1MNpc+RJElqf4ZAkiR1UxGxR0Qsj4g/1LoW8TIwFHi6\nmgeNiBkR8cWK5uuB91fzPJIkqXswBJIkqfv6NHApsF9EDG3vk0VEr/Y+R2fT0mtOmdkppZXtXVNK\n6d2U0pz2Po8kSep6DIEkSeqGIqI/cBzwU+B/gE+WbIuIeCUiPlexz84RsSIiNsvXB0XEVRExOyIW\nRMRdpbczRcS3IuLxiPh0REwHlubth0XEXyNiXkTMiYg/RMRWFefaK993aUQ8GBFHVN4uFRE7RcSf\nImJhRLwREddGxIZruO69I+KeiFgcEW9FxO0RMSjf1jsiLo2IWfl5/xoRH6jYf/+IeCgi3omI1yLi\n/IioK9l+T0RcFhETI+JN4I68fZuIuC8/7tMRMa7iuGW3g+XnWRkRB0XEI3m9f4uI95fss1VE/D6/\n9oUR8XBEHFxaC7AFMDE/1oq8/ZMRMa/i/KdFxPMR8W5ETIuIEyu2r8xfx5vzWp6LiCNW8zz/d0Q8\n2ET7ExHxjfzxByLifyPizYiYHxH3RsTOqzlm/XMysKRtdN62eUnbPvlzvSQiXoqIH0VEv5Ltn8/r\nX5o/dzc0d05JkorGEEiSpO7pOGBaSulfwCSyUUFANioFmAwcX7HP8cD9KaVX8vXfARsChwG7AFOA\nuyJivZJ9RgBHAx8FxuRt/YGL830OAlYAt9TvEBHrArcBTwA7A98CLgBSSZ9BwP8Bj+XHOQzYGPht\ncxccEWOAu8huudoD2BO4FeiRd7kwr/MT+XmfB+6sv56IGEYWmD0EjAJOzZ+3b1Sc6iTgXWAv4NSI\nCOBm4B1g13y/H5ReT65yHeC7wJnAWGA58IuSbQPyeg4ke25vB26LiE3z7UcDrwLfJLvVbJOS85Q+\nlx8Ffphf/47Az4FfRsT+FbWcS3Yr2UjgT8Ckite61CRg14jYsuQ8OwI75dsA1gWuIXuedgeeA/4U\nWUDZnKaeo9Jr2ZrsebgxP9dxwN7AZfn2DwA/InvN3k/2fXPfas4nSVKxpJRcXFxcXFxcutkC3A+c\nnj/uAcwC9ivZPposdNg0Xw/gFeCz+fo+wDygV8Vx/wV8Jn/8LbLgY4M11DIYWAnskK+fCswGepf0\n+TRZWDQqX/86cHvFcTbNjzOimfNMAu5rZls/suDmuJK2nmQhypfz9f8GnqnY7zRgQcn6PcCjFX0O\nzY89pKTtsLzWj+TrW+Tr9de3f369B5Ts86G8rXdT15D3eQr4fMn6DOCLFX1OBt6q+F74aUWf3wJ/\nKFlfCZxX8XytBA5dTS2PA18vWf8e8MBq+tcBC4B/qzhv/XNU/5wMrPg+XQFsnq9f2cS17JN/L/cm\nC/nmAf1r/R50cXFxcXHpjIsjgSRJ6mYiYltgN7JRHaSUVgA3UD4a6AngnzSMBjoA2Ihs9A9kI2HW\nBd7Kb0VaGBELgeHA1iWneymlVPZJVBExIiKui4gXImIBWVCRgPpbet4PPJlSWlay28NkQVS90cBB\nFeeelh+n9PylxpCNHmrK1mShzwMlz8Hy/Lzb503bAX+v2O9vwICS0TeQjU4qtR3wSkppVklb5XGa\n81TJ49fzrxtDdktfRFwUEc9Edmvdwvxcm1ceZA22p+S6c3+j4bob1ZJSWgK8XV9LMyZRPprsfy67\n5gAABOlJREFU48Bv6lciYuOIuDK/NWs+WQDUvw31lxoNfLLi++KOfNuWwJ/JJuGeEdntg8dHRN+1\nOJ8kSd1Kz1oXIEmSqu7TZKN/Xs/uVFrl3Yg4PaW0MF+v/0/8BfnXO1JK9XPJDABeIxudUXYQYH7J\n48VNnP+PZMHPZ/Jj1AH/IBup0VIDyG4Z+0oT53+9cXcgn5OoAzR1zW31Xsnj+tue6v9IdzFwMPBl\n4AWy67uJ1j2Pba2lvp7V/cFwMvD9/Da8/mQjtUrn37kWWB84gyyYeRd4kObrr580u/T1rpx4ewBw\nBdktX5XfFy+nlJbn8w4dQDZC67+A8yLiAymlt1dzLZIkFYIjgSRJ6kYiogfZnDdnkY2aKF1eA8aX\ndL8O2CkidgGOoWQUB9n8P0OBFSml6RVL2cifivNvQDbS57sppXtSSs+SzStU6llgZJR/stZulM8H\nM4Vs/pqXmjh/c2HPk2ShSVNeIAs59i6ptSfZHD7/yJumkc0jVGofYGFK6dVmjlu/32YRMaSkbU+a\nnt+mNfYCrkkp3ZZS+gfZLXTDK/oso2HOo9XVt3dF297AM2tTXEppJvAX4ESyEPHPqfxTyfYCLk0p\n3ZlSmkb2/A9ezSHfJAt2Nilpq5xIegrZbYUzmvi+WJ7XtTKldHdK6Wtk3/fDyeamkiSp8AyBJEnq\nXo4A1gOuTik9U7qQTV78mfqOKaWXyG5b+gXZ7wR/KNl2V77t9xFxSP7pVntFxHfz0Kg584C5wCkR\nsXVEHEQ2oqU0ELmOLLi4MiK2i4jDyEa7UNLvJ8AGwPX5p0xtFdmnjl0dFcObSpxPNlnxTyJiZH7s\nUyNig/z2pp8CF+bH2QG4CugLXJ3vfzlZmHNZRGwbEUcC5+X1r85dZHMlXRsRoyJiX7IJn9ekqeso\nbfsXcHT+CVmjyUZuVe7zIrBfRAyL5j857UKyW6hOzW/VO4ts7pwLW1DjmlxHdhvYx2iYELq0/k/k\nr8PuZCHjktUc63myeanOy+v8MFmYWeoHwF75azQ673dkRNRPDP3hiDgj37Y52fxIQRY8SpJUeIZA\nkiR1L58iG5GxsIltNwFjI2KnkrZJZPP/3JxSerei/7+RfbLS1WT/ib6ObD6XWTQjpZTIPrFpLNkc\nMxcDZ1f0WQgcTjZK43HgO2S37UA20TQppdfJRqvUAXeSjfK5BJiXn6Opc/+L7BagUWSf8PU34CNk\nkwYDfC1/Dq4FHgW2Ipv4eEG+/2v5Ne8KTCULha4kmzB61WmaueajgD75eX8O/GdTJa5hvbLtLLJQ\n7W9kn3J2B9lImFLnko10eYFspFDjA6Z0K/AlsqDtaeCzwCdTSn9tRS3Nqf8EuT7A7yu2fYrsdrDH\ngF+R3cJVWeOqc+QjeT5ONu/RE8B/kE0QXnotT5HdorgN2ffmFLKgbmbeZT7Zp6b9H9lIp1OAj+cj\nkSRJKrxo5vcoSZKkDhMRJ5CNSBrURBglSZKkKnBiaEmS1OEi4hPAdLIRHGOA7wO/NQCSJElqP4ZA\nkiSpFoYC3waGkH3a12+Bb9S0IkmSpG7O28EkSZIkSZIKwImhJUmSJEmSCsAQSJIkSZIkqQAMgSRJ\nkiRJkgrAEEiSJEmSJKkADIEkSZIkSZIKwBBIkiRJkiSpAAyBJEmSJEmSCsAQSJIkSZIkqQAMgSRJ\nkiRJkgrg/wNBDNxWa9NpdgAAAABJRU5ErkJggg==\n",
      "text/plain": [
       "<matplotlib.figure.Figure at 0x7feb42cfd4d0>"
=======
      "image/png": "iVBORw0KGgoAAAANSUhEUgAAA0sAAACJCAYAAAD9jKNUAAAABHNCSVQICAgIfAhkiAAAAAlwSFlz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\n",
      "text/plain": [
       "<matplotlib.figure.Figure at 0x7f5f00f8ff10>"
      ]
     },
     "metadata": {},
     "output_type": "display_data"
    },
    {
     "data": {
      "image/png": "iVBORw0KGgoAAAANSUhEUgAAA0sAAACJCAYAAAD9jKNUAAAABHNCSVQICAgIfAhkiAAAAAlwSFlz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\nSUVORK5CYII=\n",
      "text/plain": [
       "<matplotlib.figure.Figure at 0x7f5f01e01e90>"
      ]
     },
     "metadata": {},
     "output_type": "display_data"
    },
    {
     "data": {
      "image/png": "iVBORw0KGgoAAAANSUhEUgAAA0sAAACJCAYAAAD9jKNUAAAABHNCSVQICAgIfAhkiAAAAAlwSFlz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\nD1Mga96muP3KAAAAAElFTkSuQmCC\n",
      "text/plain": [
       "<matplotlib.figure.Figure at 0x7f5f01404710>"
>>>>>>> 7ebee7513e76d7392e8e7744bafd0fba08d7caac
      ]
     },
     "metadata": {},
     "output_type": "display_data"
    }
   ],
   "source": [
<<<<<<< HEAD
    "# and now plot it\n",
    "genders = D_gender.keys()\n",
    "cdict = dict(zip(genders, ['blue','red']))\n",
    "\n",
    "plt.figure(figsize=(14,8))\n",
    "for var in genders:\n",
    "    mean = np.mean(D_gender[var])\n",
    "    plt.axvline(x=mean, ymin=0, ymax=0.9, label=str(var), color=cdict[var])\n",
    "    n, bins, patches = plt.hist(D_gender[var], 100, histtype='step', normed=True, color=cdict[var])\n",
    "plt.axis([-5, 5, 0, 3])\n",
    "plt.title(\"Average coordination per gender\")\n",
    "plt.xlabel(\"Average coordination values\")\n",
    "plt.ylabel(\"Relative Frequency\")\n",
    "plt.legend(genders, title=\"genders\")"
=======
    "for i in range(3):\n",
    "    caller_id = callers_sorted[i]\n",
    "    caller_data = data[caller_id]\n",
    "    plt.figure(figsize=(14,1.4))\n",
    "    \n",
    "    cdict = dict(zip(markers_names, ['blue', 'red', 'green']))\n",
    "    \n",
    "    for i, name in enumerate(markers_names):\n",
    "        mean = np.mean(caller_data[i])\n",
    "        plt.axvline(x=mean, ymin=0, ymax=1, label=str(name), color=cdict[name])\n",
    "#         n, bins, patches = plt.hist(caller_data[i], 100, histtype='step', normed=True, color=cdict[name])\n",
    "    plt.axis([-0.2, 0.2, 0, 6.5])\n",
    "    plt.title(\"Coordination per marker class for caller {}\".format(caller_id))\n",
    "    plt.xlabel(\"Degree of coordination (-1 to 1)\")\n",
    "    plt.ylabel(\"Relative Frequency\")\n",
    "    plt.legend(title=\"Marker class\")"
>>>>>>> 7ebee7513e76d7392e8e7744bafd0fba08d7caac
   ]
  },
  {
   "cell_type": "code",
<<<<<<< HEAD
   "execution_count": 86,
   "metadata": {
    "collapsed": false,
    "scrolled": true
   },
=======
   "execution_count": 104,
   "metadata": {},
>>>>>>> 7ebee7513e76d7392e8e7744bafd0fba08d7caac
   "outputs": [
    {
     "name": "stdout",
     "output_type": "stream",
     "text": [
<<<<<<< HEAD
      "Female-female conversations:\t mean coordination: -0.423287\t sample size: 188\n",
      "Male-male conversations:\t mean coordination: -0.701247\t sample size: 187\n",
      "\n",
      "\n",
      "t-test assuming unequal variance: T: 5.247576\t p-value :2.7168e-07\n"
=======
      "\n",
      "Statistics for caller 1190\n",
      "conjunctions vs. impersonal_pronouns: T: -1.86483661692\t p-value :7.8755e-02\n",
      "conjunctions vs. prepositions: T: -1.60646577709\t p-value :1.2699e-01\n",
      "impersonal_pronouns vs. prepositions: T: 0.61161365904\t p-value :5.4958e-01\n",
      "\n",
      "Statistics for caller 1533\n",
      "conjunctions vs. impersonal_pronouns: T: -1.04921966331\t p-value :3.0688e-01\n",
      "conjunctions vs. prepositions: T: 0.255809831463\t p-value :8.0071e-01\n",
      "impersonal_pronouns vs. prepositions: T: 1.35410758308\t p-value :1.9201e-01\n",
      "\n",
      "Statistics for caller 1531\n",
      "conjunctions vs. impersonal_pronouns: T: 0.872116409563\t p-value :3.9535e-01\n",
      "conjunctions vs. prepositions: T: 1.05951201242\t p-value :3.0238e-01\n",
      "impersonal_pronouns vs. prepositions: T: 0.340046551719\t p-value :7.3758e-01\n",
      "\n",
      "Statistics for caller 1190 vs. caller 1533\n",
      "conjunctions: T: -2.57356570647\t p-value :2.0162e-02\n",
      "impersonal_pronouns: T: -1.07594179886\t p-value :2.9708e-01\n",
      "prepositions: T: -1.00605774629\t p-value :3.2654e-01\n",
      "\n",
      "Statistics for caller 1190 vs. caller 1531\n",
      "conjunctions: T: -3.0139232958\t p-value :7.1552e-03\n",
      "impersonal_pronouns: T: -0.452049860647\t p-value :6.5749e-01\n",
      "prepositions: T: -0.850681206548\t p-value :4.0569e-01\n",
      "\n",
      "Statistics for caller 1533 vs. caller 1531\n",
      "conjunctions: T: -1.05063607009\t p-value :3.0835e-01\n",
      "impersonal_pronouns: T: 0.829726972725\t p-value :4.1641e-01\n",
      "prepositions: T: -0.0653518644714\t p-value :9.4866e-01\n"
>>>>>>> 7ebee7513e76d7392e8e7744bafd0fba08d7caac
     ]
    }
   ],
   "source": [
<<<<<<< HEAD
    "# statistical tests supporting your results\n",
    "# data\n",
    "import scipy.stats\n",
    "data_f = D_gender['female']\n",
    "data_m = D_gender['male']\n",
    "\n",
    "# print mean and sample size of the data\n",
    "print \"Female-female conversations:\\t mean coordination: %f\\t sample size: %i\" % (np.mean(data_f), len(data_f))\n",
    "print \"Male-male conversations:\\t mean coordination: %f\\t sample size: %i\\n\" % (np.mean(data_m), len(data_m))\n",
    "\n",
    "# print results for t-test\n",
    "print \"\\nt-test assuming unequal variance: T: %f\\t p-value :%.4e\" % scipy.stats.ttest_ind(data_f, data_m, equal_var=False)"
=======
    "# Print results for t-test\n",
    "for caller_id in data.keys():\n",
    "    caller_data = data[caller_id]    \n",
    "    print(\"\\nStatistics for caller {}\".format(caller_id))\n",
    "    for i in range(len(caller_data)-1):\n",
    "        for j in range(i+1, len(caller_data)):    \n",
    "            results = scipy.stats.ttest_ind(caller_data[i], caller_data[j], equal_var=False)\n",
    "            print('{} vs. {}: T: {}\\t p-value :{p:1.4e}'.format(markers_names[i], markers_names[j], results[0], p=results[1]))\n",
    "        \n",
    "\n",
    "# Print results for t-test\n",
    "caller_ids = data.keys()\n",
    "\n",
    "for c, caller_id in enumerate(caller_ids):\n",
    "    caller_data = data[caller_id]    \n",
    "    for other_id in caller_ids[c+1:]:  \n",
    "        print(\"\\nStatistics for caller {} vs. caller {}\".format(caller_id, other_id))\n",
    "        for i in range(len(caller_data)):            \n",
    "            other_data = data[other_id] \n",
    "            results = scipy.stats.ttest_ind(caller_data[i], other_data[i], equal_var=False)\n",
    "            print('{}: T: {}\\t p-value :{p:1.4e}'.format(markers_names[i], results[0], p=results[1]))"
   ]
  },
  {
   "cell_type": "markdown",
   "metadata": {},
   "source": [
    "**Answer:**"
>>>>>>> 7ebee7513e76d7392e8e7744bafd0fba08d7caac
   ]
  },
  {
   "cell_type": "markdown",
   "metadata": {},
   "source": [
<<<<<<< HEAD
    "** Bonus question (10 points)**\n",
    "\n",
    "Your own question.\n",
    "\n",
    "We checked if the D statistic is different for younger vs older users. For that we split the population by the median over birth year (1956).\n",
    "For this split, the distributions are very similar and we didn't find a significant difference (p = 7.8168e-01)"
=======
    "## How to compute overall coordination\n",
    "\n",
    "It is not straightforward to devise a formula for the overall level of coordination (i.e., with respect to all linguistic markers at the same time). Just taking an average over all different values is not appropriate, as we may not have enough data to compute reliable estimates for all markers, or certain speakers might not use some markers at all. To not exclude too many speakers, we will take the average of $C_m(B,A)$ for all $m$ for which at least one of B's utterances exhibits marker $m$ (this corresponds to aggregated 3 in Danescu-Niculescu-Mizil et al., 2012)."
   ]
  },
  {
   "cell_type": "markdown",
   "metadata": {},
   "source": [
    "## (A)symmetry of coordination\n",
    "\n",
    "**Question 4 (25 points)**\n",
    "\n",
    "In this question you will investigate the (a)symmetry of coordination. For each conversation, compare the overall coordination of speaker A towards speaker B with the coordination of B towards A by computing the difference $D$ between these two coordination levels. How is the difference $D$ distributed? Based on this distribution, does the level of coordination seem somewhat symmetric?\n",
    "\n",
    "Answer:\n",
    "*Your findings*"
>>>>>>> 7ebee7513e76d7392e8e7744bafd0fba08d7caac
   ]
  },
  {
   "cell_type": "code",
<<<<<<< HEAD
   "execution_count": 99,
   "metadata": {
    "collapsed": false,
    "scrolled": false
   },
   "outputs": [
    {
     "name": "stderr",
     "output_type": "stream",
     "text": [
      "transcript 645\n"
     ]
    }
   ],
   "source": [
    "# first we gather the data\n",
    "D_age = compute_D(corpus=corpus, markers=markers, \n",
    "                        condition_tester={'young': lambda t: \n",
    "                                          t.from_caller_birth_year.year<1956 and t.to_caller_birth_year.year<1956, \n",
    "                                          'old': lambda t:\n",
    "                                          t.from_caller_birth_year.year>=1956 and t.to_caller_birth_year.year>=1956\n",
    "                                         })"
=======
   "execution_count": 12,
   "metadata": {
    "collapsed": true
   },
   "outputs": [],
   "source": [
    "# Code supporting your answer"
   ]
  },
  {
   "cell_type": "markdown",
   "metadata": {},
   "source": [
    "## Influence of demographic variables on coordination\n",
    "\n",
    "** Question 5 (25 points)** \n",
    "\n",
    "Pick a demographic variable (e.g. age, gender, education) and test if there is a significant difference in coordination. Plot the coordination values and provide a statistical analysis of your result.\n",
    "\n",
    "Answer:\n",
    "*Explanation of findings*"
   ]
  },
  {
   "cell_type": "markdown",
   "metadata": {},
   "source": [
    "*Provide analysis of results*"
>>>>>>> 7ebee7513e76d7392e8e7744bafd0fba08d7caac
   ]
  },
  {
   "cell_type": "code",
<<<<<<< HEAD
   "execution_count": 102,
   "metadata": {
    "collapsed": false,
    "scrolled": false
   },
   "outputs": [
    {
     "data": {
      "text/plain": [
       "<matplotlib.legend.Legend at 0x7feb3fc3dd50>"
      ]
     },
     "execution_count": 102,
     "metadata": {},
     "output_type": "execute_result"
    },
    {
     "data": {
      "image/png": "iVBORw0KGgoAAAANSUhEUgAABIEAAAK9CAYAAACzXnwtAAAABHNCSVQICAgIfAhkiAAAAAlwSFlz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\nJEmSJEmSSuD/B3jc/4kTNayrAAAAAElFTkSuQmCC\n",
      "text/plain": [
       "<matplotlib.figure.Figure at 0x7feb3fc43610>"
      ]
     },
     "metadata": {},
     "output_type": "display_data"
    }
   ],
   "source": [
    "# and now plot it\n",
    "age_groups = D_age.keys()\n",
    "cdict = dict(zip(age_groups, ['blue','red']))\n",
    "\n",
    "plt.figure(figsize=(14,8))\n",
    "for var in age_groups:\n",
    "    mean = np.mean(D_age[var])\n",
    "    plt.axvline(x=mean, ymin=0, ymax=0.9, label=str(var), color=cdict[var])\n",
    "    n, bins, patches = plt.hist(D_age[var], 100, histtype='step', normed=True, color=cdict[var])\n",
    "plt.axis([-5, 5, 0, 3])\n",
    "plt.title(\"Average coordination per age group\")\n",
    "plt.xlabel(\"Average coordination values\")\n",
    "plt.ylabel(\"Relative Frequency\")\n",
    "plt.legend(age_groups, title=\"Age groups\")"
=======
   "execution_count": 13,
   "metadata": {
    "collapsed": true
   },
   "outputs": [],
   "source": [
    "# Plot results"
>>>>>>> 7ebee7513e76d7392e8e7744bafd0fba08d7caac
   ]
  },
  {
   "cell_type": "code",
<<<<<<< HEAD
   "execution_count": 103,
   "metadata": {
    "collapsed": false
   },
   "outputs": [
    {
     "name": "stdout",
     "output_type": "stream",
     "text": [
      "young-young conversations:\t mean coordination: -0.538279\t sample size: 145\n",
      "old-old conversations:\t mean coordination: -0.551741\t sample size: 193\n",
      "\n",
      "\n",
      "t-test assuming unequal variance: T: 0.277359\t p-value :7.8168e-01\n"
     ]
    }
   ],
   "source": [
    "# statistical tests supporting your results\n",
    "# data\n",
    "import scipy.stats\n",
    "data_y = D_age['young']\n",
    "data_o = D_age['old']\n",
    "\n",
    "# print mean and sample size of the data\n",
    "print \"young-young conversations:\\t mean coordination: %f\\t sample size: %i\" % (np.mean(data_y), len(data_y))\n",
    "print \"old-old conversations:\\t mean coordination: %f\\t sample size: %i\\n\" % (np.mean(data_o), len(data_o))\n",
    "\n",
    "# print results for t-test\n",
    "print \"\\nt-test assuming unequal variance: T: %f\\t p-value :%.4e\" % scipy.stats.ttest_ind(data_y, data_o, equal_var=False)"
=======
   "execution_count": 14,
   "metadata": {
    "collapsed": true
   },
   "outputs": [],
   "source": [
    "# statistical tests supporting your results"
   ]
  },
  {
   "cell_type": "markdown",
   "metadata": {},
   "source": [
    "** Bonus question (10 points)**\n",
    "\n",
    "Your own question."
>>>>>>> 7ebee7513e76d7392e8e7744bafd0fba08d7caac
   ]
  }
 ],
 "metadata": {
<<<<<<< HEAD
  "anaconda-cloud": {},
  "kernelspec": {
   "display_name": "Python [default]",
   "language": "python",
   "name": "python2"
=======
  "kernelspec": {
   "display_name": "tfenv2",
   "language": "python",
   "name": "tfenv2"
>>>>>>> 7ebee7513e76d7392e8e7744bafd0fba08d7caac
  },
  "language_info": {
   "codemirror_mode": {
    "name": "ipython",
    "version": 2
   },
   "file_extension": ".py",
   "mimetype": "text/x-python",
   "name": "python",
   "nbconvert_exporter": "python",
   "pygments_lexer": "ipython2",
<<<<<<< HEAD
   "version": "2.7.12"
=======
   "version": "2.7.14"
>>>>>>> 7ebee7513e76d7392e8e7744bafd0fba08d7caac
  }
 },
 "nbformat": 4,
 "nbformat_minor": 1
}
