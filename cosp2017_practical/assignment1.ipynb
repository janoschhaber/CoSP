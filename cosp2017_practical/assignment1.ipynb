{
 "cells": [
  {
   "cell_type": "markdown",
   "metadata": {},
   "source": [
    "# CoSP Assignment 1: Turn taking\n",
    "\n",
    "### Submission details:\n",
    "\n",
    "* **Deadline: Wednesday 08/11/2017 at 20:00** Please submit your work on time. Late submissions will not be graded.\n",
    "* You can do the assignment either individually, or in a group of 2 people.\n",
    "* Submit the .ipynb file containing your code **via email to nadine.theiler@uva.nl using \"[CoSP17] Assignment 1\" as a subject line**. Rename the .ipynb file so that the file name contains your last name(s), e.g. assignment1_ntheiler.ipynb. If you submit your answers as a group, clearly indicate this in the name of the file, and preferably also in the comment section.\n",
    "* For every question, it is indicated how many points you can maximally get for it. The total number of points for the assignment is 100. The assignment also contains a bonus question for which you can get 10 points.\n",
    "\n",
    "### Some technical remarks:\n",
    "* You should write your code and answers **in this Jupyter notebook**. The blocks for code and text are already created, just click on them and change the content.\n",
    "* Make sure we can run the notebook. If you can run your notebook from the folder *cosp2017_practical* you downloaded during the introductory practical session without modifications, then your setup should be ok and we should be able to run your notebook too. \n",
    "* If you want to run a particular cell in the notebook, make sure you also run the cells above it that it depends on.\n",
    "* Make sure to put \"%pylab inline\" somewhere in the beginning of your notebook, such that plots will appear inline."
   ]
  },
  {
   "cell_type": "code",
   "execution_count": 1,
   "metadata": {
    "collapsed": true
   },
   "outputs": [],
   "source": [
    "# import external libraries, don't worry if a warning appears!\n",
    "%matplotlib inline\n",
    "import matplotlib.pyplot as plt\n",
    "import numpy as np\n",
    "import scipy"
   ]
  },
  {
   "cell_type": "markdown",
   "metadata": {},
   "source": [
    "# Preliminaries: Timing in turn taking transitions\n",
    "\n",
    "In the first assignment, we will investigate timing at turn taking transitions in the Switchboard corpus. We can think of a turn transition as a turn by one speaker (the turn yielder) followed by a turn by a different speaker (the turn taker). The time at a turn transition can be negative (if there is a speech overlap), positive (if there is a pause between the two turns), or zero (in which case the turn taker starts talking exactly when the previous speaker stops)."
   ]
  },
  {
   "cell_type": "markdown",
   "metadata": {},
   "source": [
    "## Plotting simple timing distributions\n",
    "\n",
    "We can loop through all the dialogue files using the CorpusReader:"
   ]
  },
  {
   "cell_type": "code",
   "execution_count": 2,
   "metadata": {
    "collapsed": true
   },
   "outputs": [],
   "source": [
    "# import the corpus reader and read in the corpus\n",
    "from swda_time import CorpusReader\n",
    "corpus = CorpusReader('swda_time', 'swda_time/swda-metadata-ext.csv')"
   ]
  },
  {
   "cell_type": "markdown",
   "metadata": {},
   "source": [
    "We then iterate over all the transcripts, storing the transition timings between the turns. Unfortunately, for some turns there is no timing information in the corpus (see for instance dialogue sw2020, line 43). To prevent shifting the average time between two turns, we will only compute the timing differences between two consecutive turns that both contain information on timing:"
   ]
  },
  {
   "cell_type": "code",
   "execution_count": 9,
   "metadata": {},
   "outputs": [
    {
     "name": "stderr",
     "output_type": "stream",
     "text": [
      "transcript 645"
     ]
    },
    {
     "name": "stdout",
     "output_type": "stream",
     "text": [
      "We are ignoring 28.942721% of the turn transitions\n"
     ]
    },
    {
     "name": "stderr",
     "output_type": "stream",
     "text": [
      "\n"
     ]
    }
   ],
   "source": [
    "# iterate over all transcripts in the corpus and compute the turn taking timings\n",
    "transition_times = []\n",
    "miss_counts = 0\n",
    "for transcript in corpus.iter_transcripts(display_progress=True):\n",
    "    end_prev_turn = transcript.utterances[0].end_turn\n",
    "    cur_turn_index = transcript.utterances[0].turn_index\n",
    "    \n",
    "    # loop over all utterances\n",
    "    for utterance in transcript.utterances:\n",
    "        # check if turn transition took place\n",
    "        if utterance.turn_index == cur_turn_index:\n",
    "            end_prev_turn = utterance.end_turn\n",
    "            continue\n",
    "        \n",
    "        # compute transition time\n",
    "        try:\n",
    "            transition_time = utterance.start_turn - end_prev_turn\n",
    "            transition_times.append(transition_time)\n",
    "        except TypeError:\n",
    "            # if either the previous or current utterance does not contain timing information, \n",
    "            # drop the transition and increase the miss counter\n",
    "            miss_counts += 1\n",
    "            pass\n",
    "  \n",
    "        # reset turn index and end of turn\n",
    "        end_prev_turn, cur_turn_index = utterance.end_turn, utterance.turn_index\n",
    "\n",
    "# percentage of ignored turn transitions is calculated by miss counter \n",
    "# divided by total count (transition + miss) times 100 \n",
    "percentage = (miss_counts / float(len(transition_times) + miss_counts)) * 100\n",
    "print \"We are ignoring %f%% of the turn transitions\" % percentage"
   ]
  },
  {
   "cell_type": "markdown",
   "metadata": {},
   "source": [
    "Running the previous block of code creates a list (transition_times) with the timing information of all the turn taking transitions of all the dialogues in the corpus. \n",
    "\n",
    "**Question 1 (10pt)**\n",
    "\n",
    "To get started, extend the code above to compute what percentage of the turn transitions we cannot use because of missing timing information. Uncomment the last line and use it to print the percentage.\n",
    "\n",
    "We can create a plot of the distribution using the histogram function of matplotlib.pylab:"
   ]
  },
  {
   "cell_type": "code",
   "execution_count": 4,
   "metadata": {},
   "outputs": [
    {
     "data": {
      "image/png": "[encoded data removed]",
      "text/plain": [
       "<matplotlib.figure.Figure at 0x7f31a981bc90>"
      ]
     },
     "metadata": {},
     "output_type": "display_data"
    }
   ],
   "source": [
    "# compute and plot the mean of all transition times\n",
    "mean = np.mean(transition_times)\n",
    "plt.axvline(x=mean, ymin=0, ymax=0.9, color='red')\n",
    "\n",
    "# plot the normalised timing information\n",
    "n, bins, patches = plt.hist(transition_times, 5000, histtype='step', normed=True, color='blue')\n",
    "plt.axis([-5, 5, 0, 1.2])\n",
    "plt.title(\"Timing at turn transitions\")\n",
    "plt.xlabel(\"Transition time (s)\")\n",
    "plt.ylabel(\"Relative Frequency (%)\")\n",
    "plt.show()"
   ]
  },
  {
   "cell_type": "markdown",
   "metadata": {},
   "source": [
    "## Plotting timing distributions for different variables\n",
    "\n",
    "Instead of plotting all the turn transition timings in one plot, we can also compare the timing distributions for different demographic variables. For instance, do the transition times depend on variables such as the gender or the education of the turn taker in the transition? (note that it would also be possible to look at the demographic data of the *turn yielder*; we will not do that in this assignment)."
   ]
  },
  {
   "cell_type": "code",
   "execution_count": 10,
   "metadata": {},
   "outputs": [
    {
     "name": "stderr",
     "output_type": "stream",
     "text": [
      "transcript 645\n"
     ]
    }
   ],
   "source": [
    "# iterate over all transcripts in the corpus and compute the turn taking timings\n",
    "transition_times_gender = {'FEMALE':[], 'MALE':[]}\n",
    "for transcript in corpus.iter_transcripts(display_progress=True):\n",
    "    end_prev_turn = transcript.utterances[0].end_turn\n",
    "    cur_turn_index = transcript.utterances[0].turn_index\n",
    "    \n",
    "    # loop over all utterances\n",
    "    for utterance in transcript.utterances:\n",
    "        # check if turn transition took place\n",
    "        if utterance.turn_index == cur_turn_index:\n",
    "            end_prev_turn = utterance.end_turn\n",
    "            continue\n",
    "        \n",
    "        # compute transition time\n",
    "        try:\n",
    "            transition_time = utterance.start_turn - end_prev_turn\n",
    "            transition_times_gender[utterance.caller_sex].append(transition_time)\n",
    "        except TypeError:\n",
    "            pass\n",
    "  \n",
    "        # reset turn index and end of turn\n",
    "        end_prev_turn, cur_turn_index = utterance.end_turn, utterance.turn_index"
   ]
  },
  {
   "cell_type": "markdown",
   "metadata": {},
   "source": [
    "The previous block of code creates a dictionary (transition_times_gender) with two lists of timings, one for female and one for male turn takers. Now we can plot the result:"
   ]
  },
  {
   "cell_type": "code",
   "execution_count": 11,
   "metadata": {},
   "outputs": [
    {
     "data": {
      "text/plain": [
       "<matplotlib.legend.Legend at 0x7f31a9799dd0>"
      ]
     },
     "execution_count": 11,
     "metadata": {},
     "output_type": "execute_result"
    },
    {
     "data": {
      "image/png": "[encoded data removed]",
      "text/plain": [
       "<matplotlib.figure.Figure at 0x7f31a9799d10>"
      ]
     },
     "metadata": {},
     "output_type": "display_data"
    }
   ],
   "source": [
    "# dictionary for colours\n",
    "cdict = dict(zip(transition_times_gender.keys(), ['blue','red']))\n",
    "\n",
    "for var in transition_times_gender:\n",
    "    mean = np.mean(transition_times_gender[var])\n",
    "    plt.axvline(x=mean, ymin=0, ymax=0.9, label=str(var), color=cdict[var])\n",
    "    n, bins, patches = plt.hist(transition_times_gender[var], 2000, histtype='step', normed=True, color=cdict[var])\n",
    "plt.axis([-5, 5, 0, 1.2])\n",
    "plt.title(\"Timing at turn transitions\")\n",
    "plt.xlabel(\"Transition time (s)\")\n",
    "plt.ylabel(\"Relative Frequency\")\n",
    "plt.legend()"
   ]
  },
  {
   "cell_type": "markdown",
   "metadata": {},
   "source": [
    "Just looking at two plots is not sufficient to determine if there is a statistically significant difference between the two demographic groups. We will determine this with a standard test for statistical significance, a t-test, assuming unequal variance (if you are unfamiliar with t-tests, look for instance at https://en.wikipedia.org/wiki/Student%27s_t-test#Equal_or_unequal_sample_sizes.2C_unequal_variances). We use the scipy library stats to conduct our statistical tests:"
   ]
  },
  {
   "cell_type": "code",
   "execution_count": 12,
   "metadata": {},
   "outputs": [
    {
     "name": "stdout",
     "output_type": "stream",
     "text": [
      "Female turn takers:\t mean timing: -0.325021\t sample size: 25478\n",
      "Male turn takers:\t mean timing: -0.203277\t sample size: 21191\n",
      "\n",
      "\n",
      "t-test assuming unequal variance: T: -5.622491\t p-value :1.8939e-08\n"
     ]
    }
   ],
   "source": [
    "# data\n",
    "data_f = transition_times_gender['FEMALE']\n",
    "data_m = transition_times_gender['MALE']\n",
    "\n",
    "# print mean and sample size of the data\n",
    "print \"Female turn takers:\\t mean timing: %f\\t sample size: %i\" % (np.mean(data_f), len(data_f))\n",
    "print \"Male turn takers:\\t mean timing: %f\\t sample size: %i\\n\" % (np.mean(data_m), len(data_m))\n",
    "\n",
    "# print results for t-test\n",
    "print \"\\nt-test assuming unequal variance: T: %f\\t p-value :%.4e\" % scipy.stats.ttest_ind(data_f, data_m, equal_var=False)"
   ]
  },
  {
   "cell_type": "markdown",
   "metadata": {},
   "source": [
    "From the low p-value (lower than the standard threshold of 0.05), we conclude that there is a significant difference between transition times of male and female turn takers: female turn takers in this corpus overlap more with the previous speaker than male turn takers do."
   ]
  },
  {
   "cell_type": "markdown",
   "metadata": {},
   "source": [
    "# Assignment\n",
    "\n",
    "Many interesting questions can be explored by creating and analysing such plots. For instance, what is the influence of age, education or gender? In this assignment, you will investigate the following questions:\n",
    "* Does the level of education of the turn taker have an impact on the distribution of the timings?\n",
    "* Is there a difference between male-male and female-female conversations (similar to the analysis in this Language Log post: http://languagelog.ldc.upenn.edu/nll/?p=7997)\n",
    "* Are males more likely to overlap with females or males, and vice versa?\n",
    "* One of your own questions\n",
    "\n",
    "Extend this notebook to contain answers to these questions. You don't have to create any new blocks, but you can use the existing ones by clicking on them and adapting their content. Your extended notebook should contain:\n",
    "* (Labeled) histograms to support all of your answers. Play with the parameters of the plotting function, such as the number of bins in the histogram, to make the plot legible\n",
    "* Significance values for the differences you may find"
   ]
  },
  {
   "cell_type": "markdown",
   "metadata": {},
   "source": [
    "### Education level and timing distributions\n",
    "\n",
    "**Question 2 (30 pt)**\n",
    "\n",
    "Is the distribution of timings at turn transitions dependent on the level of education of the turn taker? The education level was coded as 0 for less than high school, 1 for less than college (but not 0), 2 for college (but not 1), 3 for more than college, and 9 for unknown. Ignore the speakers for which the education is unknown."
   ]
  },
  {
   "cell_type": "markdown",
   "metadata": {},
   "source": [
    "REMARK: WAS \"2 for college (but not 3)\""
   ]
  },
  {
   "cell_type": "code",
   "execution_count": 28,
   "metadata": {},
   "outputs": [
    {
     "name": "stderr",
     "output_type": "stream",
     "text": [
      "transcript 645\n"
     ]
    }
   ],
   "source": [
    "# put here your code to generate histograms\n",
    "# iterate over all transcripts in the corpus and compute the turn taking timings\n",
    "transition_times_education = {0:[], 1:[], 2:[], 3:[]}\n",
    "for transcript in corpus.iter_transcripts(display_progress=True):\n",
    "    end_prev_turn = transcript.utterances[0].end_turn\n",
    "    cur_turn_index = transcript.utterances[0].turn_index\n",
    "    \n",
    "    # loop over all utterances\n",
    "    for utterance in transcript.utterances:\n",
    "        # check if turn transition took place\n",
    "        if utterance.turn_index == cur_turn_index:\n",
    "            end_prev_turn = utterance.end_turn\n",
    "            continue\n",
    "        \n",
    "        # compute transition time\n",
    "        try:\n",
    "            transition_time = utterance.start_turn - end_prev_turn\n",
    "            if utterance.caller_education == 9: continue\n",
    "            transition_times_education[utterance.caller_education].append(transition_time)\n",
    "        except TypeError:\n",
    "            pass\n",
    "  \n",
    "        # reset turn index and end of turn\n",
    "        end_prev_turn, cur_turn_index = utterance.end_turn, utterance.turn_index"
   ]
  },
  {
   "cell_type": "code",
   "execution_count": 56,
   "metadata": {},
   "outputs": [
    {
     "data": {
      "text/plain": [
       "<matplotlib.legend.Legend at 0x7f31a0d480d0>"
      ]
     },
     "execution_count": 56,
     "metadata": {},
     "output_type": "execute_result"
    },
    {
     "data": {
      "image/png": "[encoded data removed]",
      "text/plain": [
       "<matplotlib.figure.Figure at 0x7f31a0d48190>"
      ]
     },
     "metadata": {},
     "output_type": "display_data"
    }
   ],
   "source": [
    "# dictionary for colours\n",
    "cdict = dict(zip(transition_times_education.keys(), ['blue','red', 'green', 'orange']))\n",
    "\n",
    "for var in transition_times_education:\n",
    "    mean = np.mean(transition_times_education[var])\n",
    "    plt.axvline(x=mean, ymin=0, ymax=0.9, label=str(var), color=cdict[var])\n",
    "    n, bins, patches = plt.hist(transition_times_education[var], 750, histtype='step', normed=True, color=cdict[var])\n",
    "plt.axis([-5, 5, 0, 1.7])\n",
    "plt.title(\"Timing at turn transitions\")\n",
    "plt.xlabel(\"Transition time (s)\")\n",
    "plt.ylabel(\"Relative Frequency\")\n",
    "plt.legend()"
   ]
  },
  {
   "cell_type": "markdown",
   "metadata": {},
   "source": [
    "*Put here your interpretation of the histogram, refer to computation of significance values below.*"
   ]
  },
  {
   "cell_type": "code",
   "execution_count": null,
   "metadata": {
    "collapsed": true
   },
   "outputs": [],
   "source": [
    "# compute here the significance of the outcome"
   ]
  },
  {
   "cell_type": "markdown",
   "metadata": {},
   "source": [
    "### Gender and timing distributions\n",
    "\n",
    "**Question 3 (30 pt)**\n",
    "\n",
    "Is there a difference in timing distributions between male-male and female-female conversations?"
   ]
  },
  {
   "cell_type": "code",
   "execution_count": 46,
   "metadata": {},
   "outputs": [
    {
     "name": "stderr",
     "output_type": "stream",
     "text": [
      "transcript 645\n"
     ]
    }
   ],
   "source": [
    "# put here your code to generate histograms\n",
    "# iterate over all transcripts in the corpus and compute the turn taking timings\n",
    "transition_times_gender_conversation = {'MALE':[], 'FEMALE':[]}\n",
    "for transcript in corpus.iter_transcripts(display_progress=True):\n",
    "    if not transcript.from_caller_sex == transcript.to_caller_sex: continue\n",
    "    \n",
    "    end_prev_turn = transcript.utterances[0].end_turn\n",
    "    cur_turn_index = transcript.utterances[0].turn_index\n",
    "    \n",
    "    # loop over all utterances\n",
    "    for utterance in transcript.utterances:\n",
    "        # check if turn transition took place\n",
    "        if utterance.turn_index == cur_turn_index:\n",
    "            end_prev_turn = utterance.end_turn\n",
    "            continue\n",
    "        \n",
    "        # compute transition time\n",
    "        try:\n",
    "            transition_time = utterance.start_turn - end_prev_turn\n",
    "            transition_times_gender_conversation[utterance.caller_sex].append(transition_time)\n",
    "        except TypeError:\n",
    "            pass\n",
    "  \n",
    "        # reset turn index and end of turn\n",
    "        end_prev_turn, cur_turn_index = utterance.end_turn, utterance.turn_index"
   ]
  },
  {
   "cell_type": "code",
   "execution_count": 47,
   "metadata": {},
   "outputs": [
    {
     "data": {
      "text/plain": [
       "<matplotlib.legend.Legend at 0x7f31a967e090>"
      ]
     },
     "execution_count": 47,
     "metadata": {},
     "output_type": "execute_result"
    },
    {
     "data": {
      "image/png": "[encoded data removed]",
      "text/plain": [
       "<matplotlib.figure.Figure at 0x7f31a967ef50>"
      ]
     },
     "metadata": {},
     "output_type": "display_data"
    }
   ],
   "source": [
    "# dictionary for colours\n",
    "cdict = dict(zip(transition_times_gender_conversation.keys(), ['blue','red']))\n",
    "\n",
    "for var in transition_times_gender_conversation:\n",
    "    mean = np.mean(transition_times_gender_conversation[var])\n",
    "    plt.axvline(x=mean, ymin=0, ymax=0.9, label=str(var), color=cdict[var])\n",
    "    n, bins, patches = plt.hist(transition_times_gender_conversation[var], 2000, histtype='step', normed=True, color=cdict[var])\n",
    "plt.axis([-5, 5, 0, 1.2])\n",
    "plt.title(\"Timing at turn transitions\")\n",
    "plt.xlabel(\"Transition time (s)\")\n",
    "plt.ylabel(\"Relative Frequency\")\n",
    "plt.legend()"
   ]
  },
  {
   "cell_type": "markdown",
   "metadata": {},
   "source": [
    "*Put here your interpretation of the histogram, refer to computation of significance values below.*"
   ]
  },
  {
   "cell_type": "code",
   "execution_count": 48,
   "metadata": {},
   "outputs": [
    {
     "name": "stdout",
     "output_type": "stream",
     "text": [
      "Female-Female turn takers:\t mean timing: -0.328338\t sample size: 15465\n",
      "Male-Male turn takers:\t\t mean timing: -0.197429\t sample size: 11236\n",
      "\n",
      "\n",
      "t-test assuming unequal variance: T: -4.641340\t p-value :3.4821e-06\n"
     ]
    }
   ],
   "source": [
    "# compute here the significance of the outcome\n",
    "# data\n",
    "data_f = transition_times_gender_conversation['FEMALE']\n",
    "data_m = transition_times_gender_conversation['MALE']\n",
    "\n",
    "# print mean and sample size of the data\n",
    "print \"Female-Female turn takers:\\t mean timing: %f\\t sample size: %i\" % (np.mean(data_f), len(data_f))\n",
    "print \"Male-Male turn takers:\\t\\t mean timing: %f\\t sample size: %i\\n\" % (np.mean(data_m), len(data_m))\n",
    "\n",
    "# print results for t-test\n",
    "print \"\\nt-test assuming unequal variance: T: %f\\t p-value :%.4e\" % scipy.stats.ttest_ind(data_f, data_m, equal_var=False)"
   ]
  },
  {
   "cell_type": "markdown",
   "metadata": {},
   "source": [
    "**Question 3 (30pt)**\n",
    "\n",
    "Is there a difference in timing distributions for female turn taker - male turn yielder, female turn taker - female turn yielder, male turn taker - male turn yielder and male turn taker - male turn yielder?"
   ]
  },
  {
   "cell_type": "code",
   "execution_count": 51,
   "metadata": {},
   "outputs": [
    {
     "name": "stderr",
     "output_type": "stream",
     "text": [
      "transcript 645\n"
     ]
    }
   ],
   "source": [
    "# put here your code to generate histograms\n",
    "# iterate over all transcripts in the corpus and compute the turn taking timings\n",
    "transition_times_gender_pairs = {'MALE-MALE':[], 'FEMALE-FEMALE':[], 'MALE-FEMALE':[], 'FEMALE-MALE':[]}\n",
    "for transcript in corpus.iter_transcripts(display_progress=True):\n",
    "    end_prev_turn = transcript.utterances[0].end_turn\n",
    "    prev_turn_sex = transcript.utterances[0].caller_sex\n",
    "    cur_turn_index = transcript.utterances[0].turn_index\n",
    "    \n",
    "    # loop over all utterances\n",
    "    for utterance in transcript.utterances:\n",
    "        # check if turn transition took place\n",
    "        if utterance.turn_index == cur_turn_index:\n",
    "            end_prev_turn = utterance.end_turn\n",
    "            continue\n",
    "        \n",
    "        # compute transition time\n",
    "        try:\n",
    "            transition_time = utterance.start_turn - end_prev_turn\n",
    "            transition_times_gender_pairs['{}-{}'.format(prev_turn_sex, utterance.caller_sex)].append(transition_time)\n",
    "        except TypeError:\n",
    "            pass\n",
    "  \n",
    "        # reset turn index and end of turn\n",
    "        end_prev_turn, cur_turn_index, prev_turn_sex = utterance.end_turn, utterance.turn_index, utterance.caller_sex        "
   ]
  },
  {
   "cell_type": "code",
   "execution_count": 52,
   "metadata": {},
   "outputs": [
    {
     "data": {
      "text/plain": [
       "<matplotlib.legend.Legend at 0x7f31a9631d10>"
      ]
     },
     "execution_count": 52,
     "metadata": {},
     "output_type": "execute_result"
    },
    {
     "data": {
      "image/png": "[encoded data removed]",
      "text/plain": [
       "<matplotlib.figure.Figure at 0x7f31a96314d0>"
      ]
     },
     "metadata": {},
     "output_type": "display_data"
    }
   ],
   "source": [
    "# dictionary for colours\n",
    "cdict = dict(zip(transition_times_gender_pairs.keys(), ['blue','red', 'green', 'orange']))\n",
    "\n",
    "for var in transition_times_gender_pairs:\n",
    "    mean = np.mean(transition_times_gender_pairs[var])\n",
    "    plt.axvline(x=mean, ymin=0, ymax=0.9, label=str(var), color=cdict[var])\n",
    "    n, bins, patches = plt.hist(transition_times_gender_pairs[var], 2000, histtype='step', normed=True, color=cdict[var])\n",
    "plt.axis([-5, 5, 0, 1.2])\n",
    "plt.title(\"Timing at turn transitions\")\n",
    "plt.xlabel(\"Transition time (s)\")\n",
    "plt.ylabel(\"Relative Frequency\")\n",
    "plt.legend()"
   ]
  },
  {
   "cell_type": "markdown",
   "metadata": {},
   "source": [
    "*Put here your interpretation of the histogram, refer to computation of significance values below.*"
   ]
  },
  {
   "cell_type": "code",
   "execution_count": null,
   "metadata": {
    "collapsed": true
   },
   "outputs": [],
   "source": [
    "# compute here the significance of the outcome"
   ]
  },
  {
   "cell_type": "markdown",
   "metadata": {},
   "source": [
    "## Bonus\n",
    "\n",
    "**Bonus Question (10pt)**\n",
    "\n",
    "Define your own question here."
   ]
  },
  {
   "cell_type": "code",
   "execution_count": 68,
   "metadata": {},
   "outputs": [
    {
     "name": "stderr",
     "output_type": "stream",
     "text": [
      "transcript 645\n"
     ]
    },
    {
     "name": "stdout",
     "output_type": "stream",
     "text": [
      "1963 80\n",
      "1962 68\n",
      "1941 65\n",
      "1961 59\n",
      "1965 58\n",
      "1956 52\n",
      "1964 51\n",
      "1958 49\n",
      "1957 45\n",
      "1959 43\n",
      "1960 43\n",
      "1942 40\n",
      "1955 37\n",
      "1954 35\n",
      "1947 33\n",
      "1940 32\n",
      "1950 32\n",
      "1967 30\n",
      "1943 29\n",
      "1945 28\n",
      "1952 28\n",
      "1966 28\n",
      "1969 24\n",
      "1933 23\n",
      "1949 23\n",
      "1939 22\n",
      "1946 22\n",
      "1951 22\n",
      "1971 21\n",
      "1937 19\n",
      "1935 17\n",
      "1968 17\n",
      "1944 16\n",
      "1953 16\n",
      "1970 16\n",
      "1936 12\n",
      "1938 11\n",
      "1948 9\n",
      "1931 7\n",
      "1924 6\n",
      "1972 6\n",
      "1930 5\n",
      "1934 4\n",
      "1932 1\n"
     ]
    }
   ],
   "source": [
    "from collections import Counter\n",
    "import datetime\n",
    "\n",
    "ages = []\n",
    "for transcript in corpus.iter_transcripts(display_progress=True):\n",
    "    ages.append(transcript.from_caller_birth_year.year)\n",
    "    ages.append(transcript.to_caller_birth_year.year)\n",
    "    \n",
    "for value, count in Counter(ages).most_common():\n",
    "    print value, count"
   ]
  },
  {
   "cell_type": "code",
   "execution_count": 64,
   "metadata": {},
   "outputs": [
    {
     "name": "stderr",
     "output_type": "stream",
     "text": [
      "transcript 645\n"
     ]
    }
   ],
   "source": [
    "# put here your code to generate histograms\n",
    "def get_age_group(birthdate):\n",
    "    birthyear = birthdate.year\n",
    "    if birthyear <= 1936:\n",
    "        return 1936\n",
    "    elif birthyear <= 1948:\n",
    "        return 1948\n",
    "    elif birthyear <= 1960:\n",
    "        return 1960\n",
    "    else: return 1972\n",
    "\n",
    "\n",
    "# iterate over all transcripts in the corpus and compute the turn taking timings\n",
    "transition_times_age_group = {1936:[], 1948:[], 1960:[], 1972:[]}\n",
    "for transcript in corpus.iter_transcripts(display_progress=True):\n",
    "    end_prev_turn = transcript.utterances[0].end_turn\n",
    "    cur_turn_index = transcript.utterances[0].turn_index\n",
    "    \n",
    "    # loop over all utterances\n",
    "    for utterance in transcript.utterances:\n",
    "        # check if turn transition took place\n",
    "        if utterance.turn_index == cur_turn_index:\n",
    "            end_prev_turn = utterance.end_turn\n",
    "            continue\n",
    "        \n",
    "        # compute transition time\n",
    "        try:\n",
    "            transition_time = utterance.start_turn - end_prev_turn\n",
    "            age_group = get_age_group(utterance.caller_birth_year)\n",
    "            transition_times_age_group[age_group].append(transition_time)\n",
    "        except TypeError:\n",
    "            pass\n",
    "  \n",
    "        # reset turn index and end of turn\n",
    "        end_prev_turn, cur_turn_index = utterance.end_turn, utterance.turn_index    "
   ]
  },
  {
   "cell_type": "code",
   "execution_count": 65,
   "metadata": {},
   "outputs": [
    {
     "data": {
      "text/plain": [
       "<matplotlib.legend.Legend at 0x7f319f9b4f50>"
      ]
     },
     "execution_count": 65,
     "metadata": {},
     "output_type": "execute_result"
    },
    {
     "data": {
      "image/png": "[encoded data removed]",
      "text/plain": [
       "<matplotlib.figure.Figure at 0x7f31a0b68e90>"
      ]
     },
     "metadata": {},
     "output_type": "display_data"
    }
   ],
   "source": [
    "# dictionary for colours\n",
    "cdict = dict(zip(transition_times_age_group.keys(), ['blue','red', 'green', 'orange']))\n",
    "\n",
    "for var in transition_times_age_group:\n",
    "    mean = np.mean(transition_times_age_group[var])\n",
    "    plt.axvline(x=mean, ymin=0, ymax=0.9, label=str(var), color=cdict[var])\n",
    "    n, bins, patches = plt.hist(transition_times_age_group[var], 2000, histtype='step', normed=True, color=cdict[var])\n",
    "plt.axis([-5, 5, 0, 1.2])\n",
    "plt.title(\"Timing at turn transitions\")\n",
    "plt.xlabel(\"Transition time (s)\")\n",
    "plt.ylabel(\"Relative Frequency\")\n",
    "plt.legend()"
   ]
  },
  {
   "cell_type": "markdown",
   "metadata": {},
   "source": [
    "Put here your interpretation of the histogram, refer to computation of significance values below."
   ]
  },
  {
   "cell_type": "code",
   "execution_count": null,
   "metadata": {
    "collapsed": true
   },
   "outputs": [],
   "source": [
    "# compute here the significance of the outcome"
   ]
  }
 ],
 "metadata": {
  "kernelspec": {
   "display_name": "tfenv2",
   "language": "python",
   "name": "tfenv2"
  },
  "language_info": {
   "codemirror_mode": {
    "name": "ipython",
    "version": 2
   },
   "file_extension": ".py",
   "mimetype": "text/x-python",
   "name": "python",
   "nbconvert_exporter": "python",
   "pygments_lexer": "ipython2",
   "version": "2.7.14"
  }
 },
 "nbformat": 4,
 "nbformat_minor": 1
}
